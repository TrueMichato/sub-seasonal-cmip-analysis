{
 "cells": [
  {
   "cell_type": "code",
   "id": "2d037fc1",
   "metadata": {
    "ExecuteTime": {
     "end_time": "2024-05-13T09:43:40.580666Z",
     "start_time": "2024-05-13T09:42:29.457764Z"
    }
   },
   "source": [
    "# !pip install netCDF4\n",
    "# !pip install cartopy\n",
    "# !pip install basemap \n"
   ],
   "outputs": [
    {
     "name": "stdout",
     "output_type": "stream",
     "text": [
      "Requirement already satisfied: netCDF4 in /usr/local/lib/python3.8/dist-packages (1.6.5)\r\n",
      "Requirement already satisfied: cftime in /usr/local/lib/python3.8/dist-packages (from netCDF4) (1.6.3)\r\n",
      "Requirement already satisfied: certifi in /usr/local/lib/python3.8/dist-packages (from netCDF4) (2022.9.24)\r\n",
      "Requirement already satisfied: numpy in /usr/local/lib/python3.8/dist-packages (from netCDF4) (1.23.3)\r\n",
      "\u001B[33mWARNING: Running pip as the 'root' user can result in broken permissions and conflicting behaviour with the system package manager. It is recommended to use a virtual environment instead: https://pip.pypa.io/warnings/venv\u001B[0m\u001B[33m\r\n",
      "\u001B[0m\r\n",
      "\u001B[1m[\u001B[0m\u001B[34;49mnotice\u001B[0m\u001B[1;39;49m]\u001B[0m\u001B[39;49m A new release of pip is available: \u001B[0m\u001B[31;49m23.3.2\u001B[0m\u001B[39;49m -> \u001B[0m\u001B[32;49m24.0\u001B[0m\r\n",
      "\u001B[1m[\u001B[0m\u001B[34;49mnotice\u001B[0m\u001B[1;39;49m]\u001B[0m\u001B[39;49m To update, run: \u001B[0m\u001B[32;49mpython3 -m pip install --upgrade pip\u001B[0m\r\n",
      "Collecting cartopy\r\n",
      "  Using cached Cartopy-0.21.1.tar.gz (10.9 MB)\r\n",
      "  Installing build dependencies ... \u001B[?25ldone\r\n",
      "\u001B[?25h  Getting requirements to build wheel ... \u001B[?25ldone\r\n",
      "\u001B[?25h  Preparing metadata (pyproject.toml) ... \u001B[?25ldone\r\n",
      "\u001B[?25hRequirement already satisfied: numpy>=1.18 in /usr/local/lib/python3.8/dist-packages (from cartopy) (1.23.3)\r\n",
      "Requirement already satisfied: matplotlib>=3.1 in /usr/local/lib/python3.8/dist-packages (from cartopy) (3.6.0)\r\n",
      "Requirement already satisfied: shapely>=1.6.4 in /usr/local/lib/python3.8/dist-packages (from cartopy) (1.8.4)\r\n",
      "Requirement already satisfied: pyshp>=2.1 in /usr/local/lib/python3.8/dist-packages (from cartopy) (2.3.1)\r\n",
      "Requirement already satisfied: pyproj>=3.0.0 in /usr/local/lib/python3.8/dist-packages (from cartopy) (3.5.0)\r\n",
      "Requirement already satisfied: contourpy>=1.0.1 in /usr/local/lib/python3.8/dist-packages (from matplotlib>=3.1->cartopy) (1.0.5)\r\n",
      "Requirement already satisfied: cycler>=0.10 in /usr/local/lib/python3.8/dist-packages (from matplotlib>=3.1->cartopy) (0.11.0)\r\n",
      "Requirement already satisfied: fonttools>=4.22.0 in /usr/local/lib/python3.8/dist-packages (from matplotlib>=3.1->cartopy) (4.37.3)\r\n",
      "Requirement already satisfied: kiwisolver>=1.0.1 in /usr/local/lib/python3.8/dist-packages (from matplotlib>=3.1->cartopy) (1.4.4)\r\n",
      "Requirement already satisfied: packaging>=20.0 in /usr/local/lib/python3.8/dist-packages (from matplotlib>=3.1->cartopy) (21.3)\r\n",
      "Requirement already satisfied: pillow>=6.2.0 in /usr/local/lib/python3.8/dist-packages (from matplotlib>=3.1->cartopy) (9.2.0)\r\n",
      "Requirement already satisfied: pyparsing>=2.2.1 in /usr/local/lib/python3.8/dist-packages (from matplotlib>=3.1->cartopy) (3.0.9)\r\n",
      "Requirement already satisfied: python-dateutil>=2.7 in /usr/local/lib/python3.8/dist-packages (from matplotlib>=3.1->cartopy) (2.8.2)\r\n",
      "Requirement already satisfied: certifi in /usr/local/lib/python3.8/dist-packages (from pyproj>=3.0.0->cartopy) (2022.9.24)\r\n",
      "Requirement already satisfied: six>=1.5 in /usr/local/lib/python3.8/dist-packages (from python-dateutil>=2.7->matplotlib>=3.1->cartopy) (1.16.0)\r\n",
      "Building wheels for collected packages: cartopy\r\n",
      "  Building wheel for cartopy (pyproject.toml) ... \u001B[?25lerror\r\n",
      "  \u001B[1;31merror\u001B[0m: \u001B[1msubprocess-exited-with-error\u001B[0m\r\n",
      "  \r\n",
      "  \u001B[31m×\u001B[0m \u001B[32mBuilding wheel for cartopy \u001B[0m\u001B[1;32m(\u001B[0m\u001B[32mpyproject.toml\u001B[0m\u001B[1;32m)\u001B[0m did not run successfully.\r\n",
      "  \u001B[31m│\u001B[0m exit code: \u001B[1;36m1\u001B[0m\r\n",
      "  \u001B[31m╰─>\u001B[0m \u001B[31m[292 lines of output]\u001B[0m\r\n",
      "  \u001B[31m   \u001B[0m <string>:90: UserWarning: Unable to determine GEOS version. Ensure you have 3.7.2 or later installed, or installation may fail.\r\n",
      "  \u001B[31m   \u001B[0m WARNING setuptools_scm.pyproject_reading toml section missing 'pyproject.toml does not contain a tool.setuptools_scm section'\r\n",
      "  \u001B[31m   \u001B[0m Traceback (most recent call last):\r\n",
      "  \u001B[31m   \u001B[0m   File \"/tmp/pip-build-env-8d1b_tye/overlay/lib/python3.8/site-packages/setuptools_scm/_integration/pyproject_reading.py\", line 36, in read_pyproject\r\n",
      "  \u001B[31m   \u001B[0m     section = defn.get(\"tool\", {})[tool_name]\r\n",
      "  \u001B[31m   \u001B[0m KeyError: 'setuptools_scm'\r\n",
      "  \u001B[31m   \u001B[0m running bdist_wheel\r\n",
      "  \u001B[31m   \u001B[0m running build\r\n",
      "  \u001B[31m   \u001B[0m running build_py\r\n",
      "  \u001B[31m   \u001B[0m creating build\r\n",
      "  \u001B[31m   \u001B[0m creating build/lib.linux-x86_64-cpython-38\r\n",
      "  \u001B[31m   \u001B[0m creating build/lib.linux-x86_64-cpython-38/cartopy\r\n",
      "  \u001B[31m   \u001B[0m copying lib/cartopy/crs.py -> build/lib.linux-x86_64-cpython-38/cartopy\r\n",
      "  \u001B[31m   \u001B[0m copying lib/cartopy/img_transform.py -> build/lib.linux-x86_64-cpython-38/cartopy\r\n",
      "  \u001B[31m   \u001B[0m copying lib/cartopy/vector_transform.py -> build/lib.linux-x86_64-cpython-38/cartopy\r\n",
      "  \u001B[31m   \u001B[0m copying lib/cartopy/util.py -> build/lib.linux-x86_64-cpython-38/cartopy\r\n",
      "  \u001B[31m   \u001B[0m copying lib/cartopy/_epsg.py -> build/lib.linux-x86_64-cpython-38/cartopy\r\n",
      "  \u001B[31m   \u001B[0m copying lib/cartopy/_version.py -> build/lib.linux-x86_64-cpython-38/cartopy\r\n",
      "  \u001B[31m   \u001B[0m copying lib/cartopy/geodesic.py -> build/lib.linux-x86_64-cpython-38/cartopy\r\n",
      "  \u001B[31m   \u001B[0m copying lib/cartopy/__init__.py -> build/lib.linux-x86_64-cpython-38/cartopy\r\n",
      "  \u001B[31m   \u001B[0m creating build/lib.linux-x86_64-cpython-38/cartopy/tests\r\n",
      "  \u001B[31m   \u001B[0m copying lib/cartopy/tests/test_vector_transform.py -> build/lib.linux-x86_64-cpython-38/cartopy/tests\r\n",
      "  \u001B[31m   \u001B[0m copying lib/cartopy/tests/test_img_tiles.py -> build/lib.linux-x86_64-cpython-38/cartopy/tests\r\n",
      "  \u001B[31m   \u001B[0m copying lib/cartopy/tests/test_crs_transform_vectors.py -> build/lib.linux-x86_64-cpython-38/cartopy/tests\r\n",
      "  \u001B[31m   \u001B[0m copying lib/cartopy/tests/test_line_string.py -> build/lib.linux-x86_64-cpython-38/cartopy/tests\r\n",
      "  \u001B[31m   \u001B[0m copying lib/cartopy/tests/test_crs.py -> build/lib.linux-x86_64-cpython-38/cartopy/tests\r\n",
      "  \u001B[31m   \u001B[0m copying lib/cartopy/tests/test_img_transform.py -> build/lib.linux-x86_64-cpython-38/cartopy/tests\r\n",
      "  \u001B[31m   \u001B[0m copying lib/cartopy/tests/test_coding_standards.py -> build/lib.linux-x86_64-cpython-38/cartopy/tests\r\n",
      "  \u001B[31m   \u001B[0m copying lib/cartopy/tests/test_geodesic.py -> build/lib.linux-x86_64-cpython-38/cartopy/tests\r\n",
      "  \u001B[31m   \u001B[0m copying lib/cartopy/tests/conftest.py -> build/lib.linux-x86_64-cpython-38/cartopy/tests\r\n",
      "  \u001B[31m   \u001B[0m copying lib/cartopy/tests/test_linear_ring.py -> build/lib.linux-x86_64-cpython-38/cartopy/tests\r\n",
      "  \u001B[31m   \u001B[0m copying lib/cartopy/tests/test_coastline.py -> build/lib.linux-x86_64-cpython-38/cartopy/tests\r\n",
      "  \u001B[31m   \u001B[0m copying lib/cartopy/tests/test_polygon.py -> build/lib.linux-x86_64-cpython-38/cartopy/tests\r\n",
      "  \u001B[31m   \u001B[0m copying lib/cartopy/tests/test_img_nest.py -> build/lib.linux-x86_64-cpython-38/cartopy/tests\r\n",
      "  \u001B[31m   \u001B[0m copying lib/cartopy/tests/test_shapereader.py -> build/lib.linux-x86_64-cpython-38/cartopy/tests\r\n",
      "  \u001B[31m   \u001B[0m copying lib/cartopy/tests/__init__.py -> build/lib.linux-x86_64-cpython-38/cartopy/tests\r\n",
      "  \u001B[31m   \u001B[0m copying lib/cartopy/tests/test_util.py -> build/lib.linux-x86_64-cpython-38/cartopy/tests\r\n",
      "  \u001B[31m   \u001B[0m copying lib/cartopy/tests/test_features.py -> build/lib.linux-x86_64-cpython-38/cartopy/tests\r\n",
      "  \u001B[31m   \u001B[0m creating build/lib.linux-x86_64-cpython-38/cartopy/io\r\n",
      "  \u001B[31m   \u001B[0m copying lib/cartopy/io/srtm.py -> build/lib.linux-x86_64-cpython-38/cartopy/io\r\n",
      "  \u001B[31m   \u001B[0m copying lib/cartopy/io/shapereader.py -> build/lib.linux-x86_64-cpython-38/cartopy/io\r\n",
      "  \u001B[31m   \u001B[0m copying lib/cartopy/io/img_nest.py -> build/lib.linux-x86_64-cpython-38/cartopy/io\r\n",
      "  \u001B[31m   \u001B[0m copying lib/cartopy/io/img_tiles.py -> build/lib.linux-x86_64-cpython-38/cartopy/io\r\n",
      "  \u001B[31m   \u001B[0m copying lib/cartopy/io/__init__.py -> build/lib.linux-x86_64-cpython-38/cartopy/io\r\n",
      "  \u001B[31m   \u001B[0m copying lib/cartopy/io/ogc_clients.py -> build/lib.linux-x86_64-cpython-38/cartopy/io\r\n",
      "  \u001B[31m   \u001B[0m creating build/lib.linux-x86_64-cpython-38/cartopy/mpl\r\n",
      "  \u001B[31m   \u001B[0m copying lib/cartopy/mpl/ticker.py -> build/lib.linux-x86_64-cpython-38/cartopy/mpl\r\n",
      "  \u001B[31m   \u001B[0m copying lib/cartopy/mpl/feature_artist.py -> build/lib.linux-x86_64-cpython-38/cartopy/mpl\r\n",
      "  \u001B[31m   \u001B[0m copying lib/cartopy/mpl/slippy_image_artist.py -> build/lib.linux-x86_64-cpython-38/cartopy/mpl\r\n",
      "  \u001B[31m   \u001B[0m copying lib/cartopy/mpl/geocollection.py -> build/lib.linux-x86_64-cpython-38/cartopy/mpl\r\n",
      "  \u001B[31m   \u001B[0m copying lib/cartopy/mpl/contour.py -> build/lib.linux-x86_64-cpython-38/cartopy/mpl\r\n",
      "  \u001B[31m   \u001B[0m copying lib/cartopy/mpl/gridliner.py -> build/lib.linux-x86_64-cpython-38/cartopy/mpl\r\n",
      "  \u001B[31m   \u001B[0m copying lib/cartopy/mpl/style.py -> build/lib.linux-x86_64-cpython-38/cartopy/mpl\r\n",
      "  \u001B[31m   \u001B[0m copying lib/cartopy/mpl/geoaxes.py -> build/lib.linux-x86_64-cpython-38/cartopy/mpl\r\n",
      "  \u001B[31m   \u001B[0m copying lib/cartopy/mpl/__init__.py -> build/lib.linux-x86_64-cpython-38/cartopy/mpl\r\n",
      "  \u001B[31m   \u001B[0m copying lib/cartopy/mpl/patch.py -> build/lib.linux-x86_64-cpython-38/cartopy/mpl\r\n",
      "  \u001B[31m   \u001B[0m copying lib/cartopy/mpl/clip_path.py -> build/lib.linux-x86_64-cpython-38/cartopy/mpl\r\n",
      "  \u001B[31m   \u001B[0m creating build/lib.linux-x86_64-cpython-38/cartopy/feature\r\n",
      "  \u001B[31m   \u001B[0m copying lib/cartopy/feature/nightshade.py -> build/lib.linux-x86_64-cpython-38/cartopy/feature\r\n",
      "  \u001B[31m   \u001B[0m copying lib/cartopy/feature/__init__.py -> build/lib.linux-x86_64-cpython-38/cartopy/feature\r\n",
      "  \u001B[31m   \u001B[0m creating build/lib.linux-x86_64-cpython-38/cartopy/tests/crs\r\n",
      "  \u001B[31m   \u001B[0m copying lib/cartopy/tests/crs/test_gnomonic.py -> build/lib.linux-x86_64-cpython-38/cartopy/tests/crs\r\n",
      "  \u001B[31m   \u001B[0m copying lib/cartopy/tests/crs/test_rotated_pole.py -> build/lib.linux-x86_64-cpython-38/cartopy/tests/crs\r\n",
      "  \u001B[31m   \u001B[0m copying lib/cartopy/tests/crs/test_albers_equal_area.py -> build/lib.linux-x86_64-cpython-38/cartopy/tests/crs\r\n",
      "  \u001B[31m   \u001B[0m copying lib/cartopy/tests/crs/helpers.py -> build/lib.linux-x86_64-cpython-38/cartopy/tests/crs\r\n",
      "  \u001B[31m   \u001B[0m copying lib/cartopy/tests/crs/test_equal_earth.py -> build/lib.linux-x86_64-cpython-38/cartopy/tests/crs\r\n",
      "  \u001B[31m   \u001B[0m copying lib/cartopy/tests/crs/test_miller.py -> build/lib.linux-x86_64-cpython-38/cartopy/tests/crs\r\n",
      "  \u001B[31m   \u001B[0m copying lib/cartopy/tests/crs/test_eckert.py -> build/lib.linux-x86_64-cpython-38/cartopy/tests/crs\r\n",
      "  \u001B[31m   \u001B[0m copying lib/cartopy/tests/crs/test_robinson.py -> build/lib.linux-x86_64-cpython-38/cartopy/tests/crs\r\n",
      "  \u001B[31m   \u001B[0m copying lib/cartopy/tests/crs/test_sinusoidal.py -> build/lib.linux-x86_64-cpython-38/cartopy/tests/crs\r\n",
      "  \u001B[31m   \u001B[0m copying lib/cartopy/tests/crs/test_utm.py -> build/lib.linux-x86_64-cpython-38/cartopy/tests/crs\r\n",
      "  \u001B[31m   \u001B[0m copying lib/cartopy/tests/crs/test_interrupted_goode_homolosine.py -> build/lib.linux-x86_64-cpython-38/cartopy/tests/crs\r\n",
      "  \u001B[31m   \u001B[0m copying lib/cartopy/tests/crs/test_nearside_perspective.py -> build/lib.linux-x86_64-cpython-38/cartopy/tests/crs\r\n",
      "  \u001B[31m   \u001B[0m copying lib/cartopy/tests/crs/test_lambert_conformal.py -> build/lib.linux-x86_64-cpython-38/cartopy/tests/crs\r\n",
      "  \u001B[31m   \u001B[0m copying lib/cartopy/tests/crs/test_transverse_mercator.py -> build/lib.linux-x86_64-cpython-38/cartopy/tests/crs\r\n",
      "  \u001B[31m   \u001B[0m copying lib/cartopy/tests/crs/test_mercator.py -> build/lib.linux-x86_64-cpython-38/cartopy/tests/crs\r\n",
      "  \u001B[31m   \u001B[0m copying lib/cartopy/tests/crs/test_geostationary.py -> build/lib.linux-x86_64-cpython-38/cartopy/tests/crs\r\n",
      "  \u001B[31m   \u001B[0m copying lib/cartopy/tests/crs/test_equidistant_conic.py -> build/lib.linux-x86_64-cpython-38/cartopy/tests/crs\r\n",
      "  \u001B[31m   \u001B[0m copying lib/cartopy/tests/crs/test_rotated_geodetic.py -> build/lib.linux-x86_64-cpython-38/cartopy/tests/crs\r\n",
      "  \u001B[31m   \u001B[0m copying lib/cartopy/tests/crs/__init__.py -> build/lib.linux-x86_64-cpython-38/cartopy/tests/crs\r\n",
      "  \u001B[31m   \u001B[0m copying lib/cartopy/tests/crs/test_orthographic.py -> build/lib.linux-x86_64-cpython-38/cartopy/tests/crs\r\n",
      "  \u001B[31m   \u001B[0m copying lib/cartopy/tests/crs/test_azimuthal_equidistant.py -> build/lib.linux-x86_64-cpython-38/cartopy/tests/crs\r\n",
      "  \u001B[31m   \u001B[0m copying lib/cartopy/tests/crs/test_lambert_azimuthal_equal_area.py -> build/lib.linux-x86_64-cpython-38/cartopy/tests/crs\r\n",
      "  \u001B[31m   \u001B[0m copying lib/cartopy/tests/crs/test_mollweide.py -> build/lib.linux-x86_64-cpython-38/cartopy/tests/crs\r\n",
      "  \u001B[31m   \u001B[0m copying lib/cartopy/tests/crs/test_stereographic.py -> build/lib.linux-x86_64-cpython-38/cartopy/tests/crs\r\n",
      "  \u001B[31m   \u001B[0m creating build/lib.linux-x86_64-cpython-38/cartopy/tests/io\r\n",
      "  \u001B[31m   \u001B[0m copying lib/cartopy/tests/io/test_downloaders.py -> build/lib.linux-x86_64-cpython-38/cartopy/tests/io\r\n",
      "  \u001B[31m   \u001B[0m copying lib/cartopy/tests/io/test_ogc_clients.py -> build/lib.linux-x86_64-cpython-38/cartopy/tests/io\r\n",
      "  \u001B[31m   \u001B[0m copying lib/cartopy/tests/io/test_srtm.py -> build/lib.linux-x86_64-cpython-38/cartopy/tests/io\r\n",
      "  \u001B[31m   \u001B[0m copying lib/cartopy/tests/io/__init__.py -> build/lib.linux-x86_64-cpython-38/cartopy/tests/io\r\n",
      "  \u001B[31m   \u001B[0m creating build/lib.linux-x86_64-cpython-38/cartopy/tests/mpl\r\n",
      "  \u001B[31m   \u001B[0m copying lib/cartopy/tests/mpl/test_pseudo_color.py -> build/lib.linux-x86_64-cpython-38/cartopy/tests/mpl\r\n",
      "  \u001B[31m   \u001B[0m copying lib/cartopy/tests/mpl/test_gridliner.py -> build/lib.linux-x86_64-cpython-38/cartopy/tests/mpl\r\n",
      "  \u001B[31m   \u001B[0m copying lib/cartopy/tests/mpl/test_ticks.py -> build/lib.linux-x86_64-cpython-38/cartopy/tests/mpl\r\n",
      "  \u001B[31m   \u001B[0m copying lib/cartopy/tests/mpl/test_ticker.py -> build/lib.linux-x86_64-cpython-38/cartopy/tests/mpl\r\n",
      "  \u001B[31m   \u001B[0m copying lib/cartopy/tests/mpl/test_shapely_to_mpl.py -> build/lib.linux-x86_64-cpython-38/cartopy/tests/mpl\r\n",
      "  \u001B[31m   \u001B[0m copying lib/cartopy/tests/mpl/test_axes.py -> build/lib.linux-x86_64-cpython-38/cartopy/tests/mpl\r\n",
      "  \u001B[31m   \u001B[0m copying lib/cartopy/tests/mpl/test_nightshade.py -> build/lib.linux-x86_64-cpython-38/cartopy/tests/mpl\r\n",
      "  \u001B[31m   \u001B[0m copying lib/cartopy/tests/mpl/test_crs.py -> build/lib.linux-x86_64-cpython-38/cartopy/tests/mpl\r\n",
      "  \u001B[31m   \u001B[0m copying lib/cartopy/tests/mpl/test_set_extent.py -> build/lib.linux-x86_64-cpython-38/cartopy/tests/mpl\r\n",
      "  \u001B[31m   \u001B[0m copying lib/cartopy/tests/mpl/test_mpl_integration.py -> build/lib.linux-x86_64-cpython-38/cartopy/tests/mpl\r\n",
      "  \u001B[31m   \u001B[0m copying lib/cartopy/tests/mpl/test_img_transform.py -> build/lib.linux-x86_64-cpython-38/cartopy/tests/mpl\r\n",
      "  \u001B[31m   \u001B[0m copying lib/cartopy/tests/mpl/test_style.py -> build/lib.linux-x86_64-cpython-38/cartopy/tests/mpl\r\n",
      "  \u001B[31m   \u001B[0m copying lib/cartopy/tests/mpl/conftest.py -> build/lib.linux-x86_64-cpython-38/cartopy/tests/mpl\r\n",
      "  \u001B[31m   \u001B[0m copying lib/cartopy/tests/mpl/test_images.py -> build/lib.linux-x86_64-cpython-38/cartopy/tests/mpl\r\n",
      "  \u001B[31m   \u001B[0m copying lib/cartopy/tests/mpl/test_patch.py -> build/lib.linux-x86_64-cpython-38/cartopy/tests/mpl\r\n",
      "  \u001B[31m   \u001B[0m copying lib/cartopy/tests/mpl/test_caching.py -> build/lib.linux-x86_64-cpython-38/cartopy/tests/mpl\r\n",
      "  \u001B[31m   \u001B[0m copying lib/cartopy/tests/mpl/test_feature_artist.py -> build/lib.linux-x86_64-cpython-38/cartopy/tests/mpl\r\n",
      "  \u001B[31m   \u001B[0m copying lib/cartopy/tests/mpl/test_examples.py -> build/lib.linux-x86_64-cpython-38/cartopy/tests/mpl\r\n",
      "  \u001B[31m   \u001B[0m copying lib/cartopy/tests/mpl/test_contour.py -> build/lib.linux-x86_64-cpython-38/cartopy/tests/mpl\r\n",
      "  \u001B[31m   \u001B[0m copying lib/cartopy/tests/mpl/test_web_services.py -> build/lib.linux-x86_64-cpython-38/cartopy/tests/mpl\r\n",
      "  \u001B[31m   \u001B[0m copying lib/cartopy/tests/mpl/__init__.py -> build/lib.linux-x86_64-cpython-38/cartopy/tests/mpl\r\n",
      "  \u001B[31m   \u001B[0m copying lib/cartopy/tests/mpl/test_quiver.py -> build/lib.linux-x86_64-cpython-38/cartopy/tests/mpl\r\n",
      "  \u001B[31m   \u001B[0m copying lib/cartopy/tests/mpl/test_plots.py -> build/lib.linux-x86_64-cpython-38/cartopy/tests/mpl\r\n",
      "  \u001B[31m   \u001B[0m copying lib/cartopy/tests/mpl/test_features.py -> build/lib.linux-x86_64-cpython-38/cartopy/tests/mpl\r\n",
      "  \u001B[31m   \u001B[0m creating build/lib.linux-x86_64-cpython-38/cartopy/tests/feature\r\n",
      "  \u001B[31m   \u001B[0m copying lib/cartopy/tests/feature/test_nightshade.py -> build/lib.linux-x86_64-cpython-38/cartopy/tests/feature\r\n",
      "  \u001B[31m   \u001B[0m copying lib/cartopy/tests/feature/__init__.py -> build/lib.linux-x86_64-cpython-38/cartopy/tests/feature\r\n",
      "  \u001B[31m   \u001B[0m creating build/lib.linux-x86_64-cpython-38/cartopy/tests/mpl/baseline_images\r\n",
      "  \u001B[31m   \u001B[0m creating build/lib.linux-x86_64-cpython-38/cartopy/tests/mpl/baseline_images/mpl\r\n",
      "  \u001B[31m   \u001B[0m creating build/lib.linux-x86_64-cpython-38/cartopy/tests/mpl/baseline_images/mpl/test_axes\r\n",
      "  \u001B[31m   \u001B[0m copying lib/cartopy/tests/mpl/baseline_images/mpl/test_axes/geoaxes_set_boundary_clipping.png -> build/lib.linux-x86_64-cpython-38/cartopy/tests/mpl/baseline_images/mpl/test_axes\r\n",
      "  \u001B[31m   \u001B[0m copying lib/cartopy/tests/mpl/baseline_images/mpl/test_axes/geoaxes_subslice.png -> build/lib.linux-x86_64-cpython-38/cartopy/tests/mpl/baseline_images/mpl/test_axes\r\n",
      "  \u001B[31m   \u001B[0m creating build/lib.linux-x86_64-cpython-38/cartopy/tests/mpl/baseline_images/mpl/test_gridliner\r\n",
      "  \u001B[31m   \u001B[0m copying lib/cartopy/tests/mpl/baseline_images/mpl/test_gridliner/test_grid_labels_inline_SouthPolarStereo.png -> build/lib.linux-x86_64-cpython-38/cartopy/tests/mpl/baseline_images/mpl/test_gridliner\r\n",
      "  \u001B[31m   \u001B[0m copying lib/cartopy/tests/mpl/baseline_images/mpl/test_gridliner/test_grid_labels_inline_usa_Sinusoidal.png -> build/lib.linux-x86_64-cpython-38/cartopy/tests/mpl/baseline_images/mpl/test_gridliner\r\n",
      "  \u001B[31m   \u001B[0m copying lib/cartopy/tests/mpl/baseline_images/mpl/test_gridliner/test_grid_labels_inline_usa_InterruptedGoodeHomolosine.png -> build/lib.linux-x86_64-cpython-38/cartopy/tests/mpl/baseline_images/mpl/test_gridliner\r\n",
      "  \u001B[31m   \u001B[0m copying lib/cartopy/tests/mpl/baseline_images/mpl/test_gridliner/gridliner_labels_tight.png -> build/lib.linux-x86_64-cpython-38/cartopy/tests/mpl/baseline_images/mpl/test_gridliner\r\n",
      "  \u001B[31m   \u001B[0m copying lib/cartopy/tests/mpl/baseline_images/mpl/test_gridliner/test_grid_labels_inline_usa_Gnomonic.png -> build/lib.linux-x86_64-cpython-38/cartopy/tests/mpl/baseline_images/mpl/test_gridliner\r\n",
      "  \u001B[31m   \u001B[0m copying lib/cartopy/tests/mpl/baseline_images/mpl/test_gridliner/test_grid_labels_inline_LambertAzimuthalEqualArea.png -> build/lib.linux-x86_64-cpython-38/cartopy/tests/mpl/baseline_images/mpl/test_gridliner\r\n",
      "  \u001B[31m   \u001B[0m copying lib/cartopy/tests/mpl/baseline_images/mpl/test_gridliner/gridliner_labels_bbox_style.png -> build/lib.linux-x86_64-cpython-38/cartopy/tests/mpl/baseline_images/mpl/test_gridliner\r\n",
      "  \u001B[31m   \u001B[0m copying lib/cartopy/tests/mpl/baseline_images/mpl/test_gridliner/test_grid_labels_inline_EuroPP.png -> build/lib.linux-x86_64-cpython-38/cartopy/tests/mpl/baseline_images/mpl/test_gridliner\r\n",
      "  \u001B[31m   \u001B[0m copying lib/cartopy/tests/mpl/baseline_images/mpl/test_gridliner/test_grid_labels_inline_usa_LambertConformal.png -> build/lib.linux-x86_64-cpython-38/cartopy/tests/mpl/baseline_images/mpl/test_gridliner\r\n",
      "  \u001B[31m   \u001B[0m copying lib/cartopy/tests/mpl/baseline_images/mpl/test_gridliner/test_grid_labels_inline_usa_LambertAzimuthalEqualArea.png -> build/lib.linux-x86_64-cpython-38/cartopy/tests/mpl/baseline_images/mpl/test_gridliner\r\n",
      "  \u001B[31m   \u001B[0m copying lib/cartopy/tests/mpl/baseline_images/mpl/test_gridliner/test_grid_labels_inline_usa_NearsidePerspective.png -> build/lib.linux-x86_64-cpython-38/cartopy/tests/mpl/baseline_images/mpl/test_gridliner\r\n",
      "  \u001B[31m   \u001B[0m copying lib/cartopy/tests/mpl/baseline_images/mpl/test_gridliner/test_grid_labels_inline_usa_Stereographic.png -> build/lib.linux-x86_64-cpython-38/cartopy/tests/mpl/baseline_images/mpl/test_gridliner\r\n",
      "  \u001B[31m   \u001B[0m copying lib/cartopy/tests/mpl/baseline_images/mpl/test_gridliner/test_grid_labels_inline_AzimuthalEquidistant.png -> build/lib.linux-x86_64-cpython-38/cartopy/tests/mpl/baseline_images/mpl/test_gridliner\r\n",
      "  \u001B[31m   \u001B[0m copying lib/cartopy/tests/mpl/baseline_images/mpl/test_gridliner/test_grid_labels_inline_Gnomonic.png -> build/lib.linux-x86_64-cpython-38/cartopy/tests/mpl/baseline_images/mpl/test_gridliner\r\n",
      "  \u001B[31m   \u001B[0m copying lib/cartopy/tests/mpl/baseline_images/mpl/test_gridliner/gridliner_labels.png -> build/lib.linux-x86_64-cpython-38/cartopy/tests/mpl/baseline_images/mpl/test_gridliner\r\n",
      "  \u001B[31m   \u001B[0m copying lib/cartopy/tests/mpl/baseline_images/mpl/test_gridliner/test_grid_labels_inline_Geostationary.png -> build/lib.linux-x86_64-cpython-38/cartopy/tests/mpl/baseline_images/mpl/test_gridliner\r\n",
      "  \u001B[31m   \u001B[0m copying lib/cartopy/tests/mpl/baseline_images/mpl/test_gridliner/test_grid_labels_inline_Mollweide.png -> build/lib.linux-x86_64-cpython-38/cartopy/tests/mpl/baseline_images/mpl/test_gridliner\r\n",
      "  \u001B[31m   \u001B[0m copying lib/cartopy/tests/mpl/baseline_images/mpl/test_gridliner/test_grid_labels_inline_usa_RotatedPole.png -> build/lib.linux-x86_64-cpython-38/cartopy/tests/mpl/baseline_images/mpl/test_gridliner\r\n",
      "  \u001B[31m   \u001B[0m copying lib/cartopy/tests/mpl/baseline_images/mpl/test_gridliner/test_grid_labels_inline_usa_Mollweide.png -> build/lib.linux-x86_64-cpython-38/cartopy/tests/mpl/baseline_images/mpl/test_gridliner\r\n",
      "  \u001B[31m   \u001B[0m copying lib/cartopy/tests/mpl/baseline_images/mpl/test_gridliner/test_grid_labels_inline_usa_AzimuthalEquidistant.png -> build/lib.linux-x86_64-cpython-38/cartopy/tests/mpl/baseline_images/mpl/test_gridliner\r\n",
      "  \u001B[31m   \u001B[0m copying lib/cartopy/tests/mpl/baseline_images/mpl/test_gridliner/test_grid_labels_inline_usa_SouthPolarStereo.png -> build/lib.linux-x86_64-cpython-38/cartopy/tests/mpl/baseline_images/mpl/test_gridliner\r\n",
      "  \u001B[31m   \u001B[0m copying lib/cartopy/tests/mpl/baseline_images/mpl/test_gridliner/test_grid_labels_inline_RotatedPole.png -> build/lib.linux-x86_64-cpython-38/cartopy/tests/mpl/baseline_images/mpl/test_gridliner\r\n",
      "  \u001B[31m   \u001B[0m copying lib/cartopy/tests/mpl/baseline_images/mpl/test_gridliner/test_grid_labels_inline_Sinusoidal.png -> build/lib.linux-x86_64-cpython-38/cartopy/tests/mpl/baseline_images/mpl/test_gridliner\r\n",
      "  \u001B[31m   \u001B[0m copying lib/cartopy/tests/mpl/baseline_images/mpl/test_gridliner/test_grid_labels_inline_NorthPolarStereo.png -> build/lib.linux-x86_64-cpython-38/cartopy/tests/mpl/baseline_images/mpl/test_gridliner\r\n",
      "  \u001B[31m   \u001B[0m copying lib/cartopy/tests/mpl/baseline_images/mpl/test_gridliner/test_grid_labels_inline_usa_LambertCylindrical.png -> build/lib.linux-x86_64-cpython-38/cartopy/tests/mpl/baseline_images/mpl/test_gridliner\r\n",
      "  \u001B[31m   \u001B[0m copying lib/cartopy/tests/mpl/baseline_images/mpl/test_gridliner/test_grid_labels_inline_usa_AlbersEqualArea.png -> build/lib.linux-x86_64-cpython-38/cartopy/tests/mpl/baseline_images/mpl/test_gridliner\r\n",
      "  \u001B[31m   \u001B[0m copying lib/cartopy/tests/mpl/baseline_images/mpl/test_gridliner/gridliner1.png -> build/lib.linux-x86_64-cpython-38/cartopy/tests/mpl/baseline_images/mpl/test_gridliner\r\n",
      "  \u001B[31m   \u001B[0m copying lib/cartopy/tests/mpl/baseline_images/mpl/test_gridliner/test_grid_labels_inline_usa_PlateCarree.png -> build/lib.linux-x86_64-cpython-38/cartopy/tests/mpl/baseline_images/mpl/test_gridliner\r\n",
      "  \u001B[31m   \u001B[0m copying lib/cartopy/tests/mpl/baseline_images/mpl/test_gridliner/test_grid_labels_inline_Stereographic.png -> build/lib.linux-x86_64-cpython-38/cartopy/tests/mpl/baseline_images/mpl/test_gridliner\r\n",
      "  \u001B[31m   \u001B[0m copying lib/cartopy/tests/mpl/baseline_images/mpl/test_gridliner/test_grid_labels_inline_Mercator.png -> build/lib.linux-x86_64-cpython-38/cartopy/tests/mpl/baseline_images/mpl/test_gridliner\r\n",
      "  \u001B[31m   \u001B[0m copying lib/cartopy/tests/mpl/baseline_images/mpl/test_gridliner/test_grid_labels_inline_InterruptedGoodeHomolosine.png -> build/lib.linux-x86_64-cpython-38/cartopy/tests/mpl/baseline_images/mpl/test_gridliner\r\n",
      "  \u001B[31m   \u001B[0m copying lib/cartopy/tests/mpl/baseline_images/mpl/test_gridliner/test_grid_labels_inline_LambertCylindrical.png -> build/lib.linux-x86_64-cpython-38/cartopy/tests/mpl/baseline_images/mpl/test_gridliner\r\n",
      "  \u001B[31m   \u001B[0m copying lib/cartopy/tests/mpl/baseline_images/mpl/test_gridliner/test_grid_labels_inline_usa_Miller.png -> build/lib.linux-x86_64-cpython-38/cartopy/tests/mpl/baseline_images/mpl/test_gridliner\r\n",
      "  \u001B[31m   \u001B[0m copying lib/cartopy/tests/mpl/baseline_images/mpl/test_gridliner/test_grid_labels_inline_usa_Orthographic.png -> build/lib.linux-x86_64-cpython-38/cartopy/tests/mpl/baseline_images/mpl/test_gridliner\r\n",
      "  \u001B[31m   \u001B[0m copying lib/cartopy/tests/mpl/baseline_images/mpl/test_gridliner/test_grid_labels_inline_usa_Geostationary.png -> build/lib.linux-x86_64-cpython-38/cartopy/tests/mpl/baseline_images/mpl/test_gridliner\r\n",
      "  \u001B[31m   \u001B[0m copying lib/cartopy/tests/mpl/baseline_images/mpl/test_gridliner/test_grid_labels_inline_NearsidePerspective.png -> build/lib.linux-x86_64-cpython-38/cartopy/tests/mpl/baseline_images/mpl/test_gridliner\r\n",
      "  \u001B[31m   \u001B[0m copying lib/cartopy/tests/mpl/baseline_images/mpl/test_gridliner/test_grid_labels_inline_Miller.png -> build/lib.linux-x86_64-cpython-38/cartopy/tests/mpl/baseline_images/mpl/test_gridliner\r\n",
      "  \u001B[31m   \u001B[0m copying lib/cartopy/tests/mpl/baseline_images/mpl/test_gridliner/test_grid_labels_inline_Robinson.png -> build/lib.linux-x86_64-cpython-38/cartopy/tests/mpl/baseline_images/mpl/test_gridliner\r\n",
      "  \u001B[31m   \u001B[0m copying lib/cartopy/tests/mpl/baseline_images/mpl/test_gridliner/test_grid_labels_inline_usa_NorthPolarStereo.png -> build/lib.linux-x86_64-cpython-38/cartopy/tests/mpl/baseline_images/mpl/test_gridliner\r\n",
      "  \u001B[31m   \u001B[0m copying lib/cartopy/tests/mpl/baseline_images/mpl/test_gridliner/test_grid_labels_inline_LambertConformal.png -> build/lib.linux-x86_64-cpython-38/cartopy/tests/mpl/baseline_images/mpl/test_gridliner\r\n",
      "  \u001B[31m   \u001B[0m copying lib/cartopy/tests/mpl/baseline_images/mpl/test_gridliner/test_grid_labels_inline_usa_Robinson.png -> build/lib.linux-x86_64-cpython-38/cartopy/tests/mpl/baseline_images/mpl/test_gridliner\r\n",
      "  \u001B[31m   \u001B[0m copying lib/cartopy/tests/mpl/baseline_images/mpl/test_gridliner/test_grid_labels_inline_Orthographic.png -> build/lib.linux-x86_64-cpython-38/cartopy/tests/mpl/baseline_images/mpl/test_gridliner\r\n",
      "  \u001B[31m   \u001B[0m copying lib/cartopy/tests/mpl/baseline_images/mpl/test_gridliner/test_grid_labels_inline_OSGB.png -> build/lib.linux-x86_64-cpython-38/cartopy/tests/mpl/baseline_images/mpl/test_gridliner\r\n",
      "  \u001B[31m   \u001B[0m copying lib/cartopy/tests/mpl/baseline_images/mpl/test_gridliner/test_grid_labels_inline_OSNI.png -> build/lib.linux-x86_64-cpython-38/cartopy/tests/mpl/baseline_images/mpl/test_gridliner\r\n",
      "  \u001B[31m   \u001B[0m copying lib/cartopy/tests/mpl/baseline_images/mpl/test_gridliner/test_grid_labels_inline_AlbersEqualArea.png -> build/lib.linux-x86_64-cpython-38/cartopy/tests/mpl/baseline_images/mpl/test_gridliner\r\n",
      "  \u001B[31m   \u001B[0m copying lib/cartopy/tests/mpl/baseline_images/mpl/test_gridliner/test_grid_labels_inline_PlateCarree.png -> build/lib.linux-x86_64-cpython-38/cartopy/tests/mpl/baseline_images/mpl/test_gridliner\r\n",
      "  \u001B[31m   \u001B[0m copying lib/cartopy/tests/mpl/baseline_images/mpl/test_gridliner/test_grid_labels_inline_usa_Mercator.png -> build/lib.linux-x86_64-cpython-38/cartopy/tests/mpl/baseline_images/mpl/test_gridliner\r\n",
      "  \u001B[31m   \u001B[0m creating build/lib.linux-x86_64-cpython-38/cartopy/tests/mpl/baseline_images/mpl/test_images\r\n",
      "  \u001B[31m   \u001B[0m copying lib/cartopy/tests/mpl/baseline_images/mpl/test_images/imshow_natural_earth_ortho.png -> build/lib.linux-x86_64-cpython-38/cartopy/tests/mpl/baseline_images/mpl/test_images\r\n",
      "  \u001B[31m   \u001B[0m copying lib/cartopy/tests/mpl/baseline_images/mpl/test_images/imshow_regional_projected.png -> build/lib.linux-x86_64-cpython-38/cartopy/tests/mpl/baseline_images/mpl/test_images\r\n",
      "  \u001B[31m   \u001B[0m copying lib/cartopy/tests/mpl/baseline_images/mpl/test_images/web_tiles.png -> build/lib.linux-x86_64-cpython-38/cartopy/tests/mpl/baseline_images/mpl/test_images\r\n",
      "  \u001B[31m   \u001B[0m copying lib/cartopy/tests/mpl/baseline_images/mpl/test_images/image_merge.png -> build/lib.linux-x86_64-cpython-38/cartopy/tests/mpl/baseline_images/mpl/test_images\r\n",
      "  \u001B[31m   \u001B[0m copying lib/cartopy/tests/mpl/baseline_images/mpl/test_images/image_nest.png -> build/lib.linux-x86_64-cpython-38/cartopy/tests/mpl/baseline_images/mpl/test_images\r\n",
      "  \u001B[31m   \u001B[0m creating build/lib.linux-x86_64-cpython-38/cartopy/tests/mpl/baseline_images/mpl/test_img_tiles2\r\n",
      "  \u001B[31m   \u001B[0m copying lib/cartopy/tests/mpl/baseline_images/mpl/test_img_tiles2/web_tiles.png -> build/lib.linux-x86_64-cpython-38/cartopy/tests/mpl/baseline_images/mpl/test_img_tiles2\r\n",
      "  \u001B[31m   \u001B[0m creating build/lib.linux-x86_64-cpython-38/cartopy/tests/mpl/baseline_images/mpl/test_mpl_integration\r\n",
      "  \u001B[31m   \u001B[0m copying lib/cartopy/tests/mpl/baseline_images/mpl/test_mpl_integration/test_global_map_EckertI.png -> build/lib.linux-x86_64-cpython-38/cartopy/tests/mpl/baseline_images/mpl/test_mpl_integration\r\n",
      "  \u001B[31m   \u001B[0m copying lib/cartopy/tests/mpl/baseline_images/mpl/test_mpl_integration/test_global_map_OSGB.png -> build/lib.linux-x86_64-cpython-38/cartopy/tests/mpl/baseline_images/mpl/test_mpl_integration\r\n",
      "  \u001B[31m   \u001B[0m copying lib/cartopy/tests/mpl/baseline_images/mpl/test_mpl_integration/test_global_map_RotatedPole.png -> build/lib.linux-x86_64-cpython-38/cartopy/tests/mpl/baseline_images/mpl/test_mpl_integration\r\n",
      "  \u001B[31m   \u001B[0m copying lib/cartopy/tests/mpl/baseline_images/mpl/test_mpl_integration/barbs_regrid_with_extent.png -> build/lib.linux-x86_64-cpython-38/cartopy/tests/mpl/baseline_images/mpl/test_mpl_integration\r\n",
      "  \u001B[31m   \u001B[0m copying lib/cartopy/tests/mpl/baseline_images/mpl/test_mpl_integration/barbs_plate_carree.png -> build/lib.linux-x86_64-cpython-38/cartopy/tests/mpl/baseline_images/mpl/test_mpl_integration\r\n",
      "  \u001B[31m   \u001B[0m copying lib/cartopy/tests/mpl/baseline_images/mpl/test_mpl_integration/test_annotate.png -> build/lib.linux-x86_64-cpython-38/cartopy/tests/mpl/baseline_images/mpl/test_mpl_integration\r\n",
      "  \u001B[31m   \u001B[0m copying lib/cartopy/tests/mpl/baseline_images/mpl/test_mpl_integration/test_global_map_NorthPolarStereo.png -> build/lib.linux-x86_64-cpython-38/cartopy/tests/mpl/baseline_images/mpl/test_mpl_integration\r\n",
      "  \u001B[31m   \u001B[0m copying lib/cartopy/tests/mpl/baseline_images/mpl/test_mpl_integration/simple_global.png -> build/lib.linux-x86_64-cpython-38/cartopy/tests/mpl/baseline_images/mpl/test_mpl_integration\r\n",
      "  \u001B[31m   \u001B[0m copying lib/cartopy/tests/mpl/baseline_images/mpl/test_mpl_integration/test_global_map_EckertIV.png -> build/lib.linux-x86_64-cpython-38/cartopy/tests/mpl/baseline_images/mpl/test_mpl_integration\r\n",
      "  \u001B[31m   \u001B[0m copying lib/cartopy/tests/mpl/baseline_images/mpl/test_mpl_integration/barbs_1d.png -> build/lib.linux-x86_64-cpython-38/cartopy/tests/mpl/baseline_images/mpl/test_mpl_integration\r\n",
      "  \u001B[31m   \u001B[0m copying lib/cartopy/tests/mpl/baseline_images/mpl/test_mpl_integration/test_global_map_Orthographic.png -> build/lib.linux-x86_64-cpython-38/cartopy/tests/mpl/baseline_images/mpl/test_mpl_integration\r\n",
      "  \u001B[31m   \u001B[0m copying lib/cartopy/tests/mpl/baseline_images/mpl/test_mpl_integration/pcolormesh_global_wrap3.png -> build/lib.linux-x86_64-cpython-38/cartopy/tests/mpl/baseline_images/mpl/test_mpl_integration\r\n",
      "  \u001B[31m   \u001B[0m copying lib/cartopy/tests/mpl/baseline_images/mpl/test_mpl_integration/test_global_map_EqualEarth.png -> build/lib.linux-x86_64-cpython-38/cartopy/tests/mpl/baseline_images/mpl/test_mpl_integration\r\n",
      "  \u001B[31m   \u001B[0m copying lib/cartopy/tests/mpl/baseline_images/mpl/test_mpl_integration/pcolormesh_single_column_wrap.png -> build/lib.linux-x86_64-cpython-38/cartopy/tests/mpl/baseline_images/mpl/test_mpl_integration\r\n",
      "  \u001B[31m   \u001B[0m copying lib/cartopy/tests/mpl/baseline_images/mpl/test_mpl_integration/global_contourf_wrap.png -> build/lib.linux-x86_64-cpython-38/cartopy/tests/mpl/baseline_images/mpl/test_mpl_integration\r\n",
      "  \u001B[31m   \u001B[0m copying lib/cartopy/tests/mpl/baseline_images/mpl/test_mpl_integration/test_global_map_Miller.png -> build/lib.linux-x86_64-cpython-38/cartopy/tests/mpl/baseline_images/mpl/test_mpl_integration\r\n",
      "  \u001B[31m   \u001B[0m copying lib/cartopy/tests/mpl/baseline_images/mpl/test_mpl_integration/test_global_map_EckertV.png -> build/lib.linux-x86_64-cpython-38/cartopy/tests/mpl/baseline_images/mpl/test_mpl_integration\r\n",
      "  \u001B[31m   \u001B[0m copying lib/cartopy/tests/mpl/baseline_images/mpl/test_mpl_integration/global_scatter_wrap.png -> build/lib.linux-x86_64-cpython-38/cartopy/tests/mpl/baseline_images/mpl/test_mpl_integration\r\n",
      "  \u001B[31m   \u001B[0m copying lib/cartopy/tests/mpl/baseline_images/mpl/test_mpl_integration/test_global_map_SouthPolarStereo.png -> build/lib.linux-x86_64-cpython-38/cartopy/tests/mpl/baseline_images/mpl/test_mpl_integration\r\n",
      "  \u001B[31m   \u001B[0m copying lib/cartopy/tests/mpl/baseline_images/mpl/test_mpl_integration/test_global_map_EckertII.png -> build/lib.linux-x86_64-cpython-38/cartopy/tests/mpl/baseline_images/mpl/test_mpl_integration\r\n",
      "  \u001B[31m   \u001B[0m copying lib/cartopy/tests/mpl/baseline_images/mpl/test_mpl_integration/test_global_map_EckertIII.png -> build/lib.linux-x86_64-cpython-38/cartopy/tests/mpl/baseline_images/mpl/test_mpl_integration\r\n",
      "  \u001B[31m   \u001B[0m copying lib/cartopy/tests/mpl/baseline_images/mpl/test_mpl_integration/test_global_map_Mercator.png -> build/lib.linux-x86_64-cpython-38/cartopy/tests/mpl/baseline_images/mpl/test_mpl_integration\r\n",
      "  \u001B[31m   \u001B[0m copying lib/cartopy/tests/mpl/baseline_images/mpl/test_mpl_integration/pcolormesh_limited_area_wrap.png -> build/lib.linux-x86_64-cpython-38/cartopy/tests/mpl/baseline_images/mpl/test_mpl_integration\r\n",
      "  \u001B[31m   \u001B[0m copying lib/cartopy/tests/mpl/baseline_images/mpl/test_mpl_integration/barbs_1d_transformed.png -> build/lib.linux-x86_64-cpython-38/cartopy/tests/mpl/baseline_images/mpl/test_mpl_integration\r\n",
      "  \u001B[31m   \u001B[0m copying lib/cartopy/tests/mpl/baseline_images/mpl/test_mpl_integration/test_global_map_TransverseMercator.png -> build/lib.linux-x86_64-cpython-38/cartopy/tests/mpl/baseline_images/mpl/test_mpl_integration\r\n",
      "  \u001B[31m   \u001B[0m copying lib/cartopy/tests/mpl/baseline_images/mpl/test_mpl_integration/global_contour_wrap.png -> build/lib.linux-x86_64-cpython-38/cartopy/tests/mpl/baseline_images/mpl/test_mpl_integration\r\n",
      "  \u001B[31m   \u001B[0m copying lib/cartopy/tests/mpl/baseline_images/mpl/test_mpl_integration/global_pcolor_wrap.png -> build/lib.linux-x86_64-cpython-38/cartopy/tests/mpl/baseline_images/mpl/test_mpl_integration\r\n",
      "  \u001B[31m   \u001B[0m copying lib/cartopy/tests/mpl/baseline_images/mpl/test_mpl_integration/quiver_regrid.png -> build/lib.linux-x86_64-cpython-38/cartopy/tests/mpl/baseline_images/mpl/test_mpl_integration\r\n",
      "  \u001B[31m   \u001B[0m copying lib/cartopy/tests/mpl/baseline_images/mpl/test_mpl_integration/test_global_map_EckertVI.png -> build/lib.linux-x86_64-cpython-38/cartopy/tests/mpl/baseline_images/mpl/test_mpl_integration\r\n",
      "  \u001B[31m   \u001B[0m copying lib/cartopy/tests/mpl/baseline_images/mpl/test_mpl_integration/test_global_map_Gnomonic.png -> build/lib.linux-x86_64-cpython-38/cartopy/tests/mpl/baseline_images/mpl/test_mpl_integration\r\n",
      "  \u001B[31m   \u001B[0m copying lib/cartopy/tests/mpl/baseline_images/mpl/test_mpl_integration/barbs_regrid.png -> build/lib.linux-x86_64-cpython-38/cartopy/tests/mpl/baseline_images/mpl/test_mpl_integration\r\n",
      "  \u001B[31m   \u001B[0m copying lib/cartopy/tests/mpl/baseline_images/mpl/test_mpl_integration/pcolormesh_goode_wrap.png -> build/lib.linux-x86_64-cpython-38/cartopy/tests/mpl/baseline_images/mpl/test_mpl_integration\r\n",
      "  \u001B[31m   \u001B[0m copying lib/cartopy/tests/mpl/baseline_images/mpl/test_mpl_integration/pcolormesh_mercator_wrap.png -> build/lib.linux-x86_64-cpython-38/cartopy/tests/mpl/baseline_images/mpl/test_mpl_integration\r\n",
      "  \u001B[31m   \u001B[0m copying lib/cartopy/tests/mpl/baseline_images/mpl/test_mpl_integration/test_global_map_Mollweide.png -> build/lib.linux-x86_64-cpython-38/cartopy/tests/mpl/baseline_images/mpl/test_mpl_integration\r\n",
      "  \u001B[31m   \u001B[0m copying lib/cartopy/tests/mpl/baseline_images/mpl/test_mpl_integration/pcolormesh_global_wrap2.png -> build/lib.linux-x86_64-cpython-38/cartopy/tests/mpl/baseline_images/mpl/test_mpl_integration\r\n",
      "  \u001B[31m   \u001B[0m copying lib/cartopy/tests/mpl/baseline_images/mpl/test_mpl_integration/quiver_regrid_with_extent.png -> build/lib.linux-x86_64-cpython-38/cartopy/tests/mpl/baseline_images/mpl/test_mpl_integration\r\n",
      "  \u001B[31m   \u001B[0m copying lib/cartopy/tests/mpl/baseline_images/mpl/test_mpl_integration/test_global_map_Stereographic.png -> build/lib.linux-x86_64-cpython-38/cartopy/tests/mpl/baseline_images/mpl/test_mpl_integration\r\n",
      "  \u001B[31m   \u001B[0m copying lib/cartopy/tests/mpl/baseline_images/mpl/test_mpl_integration/global_hexbin_wrap.png -> build/lib.linux-x86_64-cpython-38/cartopy/tests/mpl/baseline_images/mpl/test_mpl_integration\r\n",
      "  \u001B[31m   \u001B[0m copying lib/cartopy/tests/mpl/baseline_images/mpl/test_mpl_integration/test_global_map_InterruptedGoodeHomolosine.png -> build/lib.linux-x86_64-cpython-38/cartopy/tests/mpl/baseline_images/mpl/test_mpl_integration\r\n",
      "  \u001B[31m   \u001B[0m copying lib/cartopy/tests/mpl/baseline_images/mpl/test_mpl_integration/quiver_plate_carree.png -> build/lib.linux-x86_64-cpython-38/cartopy/tests/mpl/baseline_images/mpl/test_mpl_integration\r\n",
      "  \u001B[31m   \u001B[0m copying lib/cartopy/tests/mpl/baseline_images/mpl/test_mpl_integration/pcolormesh_global_wrap1.png -> build/lib.linux-x86_64-cpython-38/cartopy/tests/mpl/baseline_images/mpl/test_mpl_integration\r\n",
      "  \u001B[31m   \u001B[0m copying lib/cartopy/tests/mpl/baseline_images/mpl/test_mpl_integration/test_global_map_LambertCylindrical.png -> build/lib.linux-x86_64-cpython-38/cartopy/tests/mpl/baseline_images/mpl/test_mpl_integration\r\n",
      "  \u001B[31m   \u001B[0m copying lib/cartopy/tests/mpl/baseline_images/mpl/test_mpl_integration/quiver_rotated_pole.png -> build/lib.linux-x86_64-cpython-38/cartopy/tests/mpl/baseline_images/mpl/test_mpl_integration\r\n",
      "  \u001B[31m   \u001B[0m copying lib/cartopy/tests/mpl/baseline_images/mpl/test_mpl_integration/streamplot.png -> build/lib.linux-x86_64-cpython-38/cartopy/tests/mpl/baseline_images/mpl/test_mpl_integration\r\n",
      "  \u001B[31m   \u001B[0m copying lib/cartopy/tests/mpl/baseline_images/mpl/test_mpl_integration/test_global_map_Robinson.png -> build/lib.linux-x86_64-cpython-38/cartopy/tests/mpl/baseline_images/mpl/test_mpl_integration\r\n",
      "  \u001B[31m   \u001B[0m copying lib/cartopy/tests/mpl/baseline_images/mpl/test_mpl_integration/test_global_map_PlateCarree.png -> build/lib.linux-x86_64-cpython-38/cartopy/tests/mpl/baseline_images/mpl/test_mpl_integration\r\n",
      "  \u001B[31m   \u001B[0m creating build/lib.linux-x86_64-cpython-38/cartopy/tests/mpl/baseline_images/mpl/test_web_services\r\n",
      "  \u001B[31m   \u001B[0m copying lib/cartopy/tests/mpl/baseline_images/mpl/test_web_services/wmts.png -> build/lib.linux-x86_64-cpython-38/cartopy/tests/mpl/baseline_images/mpl/test_web_services\r\n",
      "  \u001B[31m   \u001B[0m copying lib/cartopy/tests/mpl/baseline_images/mpl/test_web_services/wms.png -> build/lib.linux-x86_64-cpython-38/cartopy/tests/mpl/baseline_images/mpl/test_web_services\r\n",
      "  \u001B[31m   \u001B[0m creating build/lib.linux-x86_64-cpython-38/cartopy/tests/mpl/baseline_images/mpl/test_shapely_to_mpl\r\n",
      "  \u001B[31m   \u001B[0m copying lib/cartopy/tests/mpl/baseline_images/mpl/test_shapely_to_mpl/contour_with_interiors.png -> build/lib.linux-x86_64-cpython-38/cartopy/tests/mpl/baseline_images/mpl/test_shapely_to_mpl\r\n",
      "  \u001B[31m   \u001B[0m copying lib/cartopy/tests/mpl/baseline_images/mpl/test_shapely_to_mpl/poly_interiors.png -> build/lib.linux-x86_64-cpython-38/cartopy/tests/mpl/baseline_images/mpl/test_shapely_to_mpl\r\n",
      "  \u001B[31m   \u001B[0m creating build/lib.linux-x86_64-cpython-38/cartopy/tests/mpl/baseline_images/mpl/test_features\r\n",
      "  \u001B[31m   \u001B[0m copying lib/cartopy/tests/mpl/baseline_images/mpl/test_features/gshhs_coastlines.png -> build/lib.linux-x86_64-cpython-38/cartopy/tests/mpl/baseline_images/mpl/test_features\r\n",
      "  \u001B[31m   \u001B[0m copying lib/cartopy/tests/mpl/baseline_images/mpl/test_features/natural_earth.png -> build/lib.linux-x86_64-cpython-38/cartopy/tests/mpl/baseline_images/mpl/test_features\r\n",
      "  \u001B[31m   \u001B[0m copying lib/cartopy/tests/mpl/baseline_images/mpl/test_features/natural_earth_custom.png -> build/lib.linux-x86_64-cpython-38/cartopy/tests/mpl/baseline_images/mpl/test_features\r\n",
      "  \u001B[31m   \u001B[0m copying lib/cartopy/tests/mpl/baseline_images/mpl/test_features/wfs.png -> build/lib.linux-x86_64-cpython-38/cartopy/tests/mpl/baseline_images/mpl/test_features\r\n",
      "  \u001B[31m   \u001B[0m creating build/lib.linux-x86_64-cpython-38/cartopy/tests/mpl/baseline_images/mpl/test_img_transform\r\n",
      "  \u001B[31m   \u001B[0m copying lib/cartopy/tests/mpl/baseline_images/mpl/test_img_transform/regrid_image.png -> build/lib.linux-x86_64-cpython-38/cartopy/tests/mpl/baseline_images/mpl/test_img_transform\r\n",
      "  \u001B[31m   \u001B[0m creating build/lib.linux-x86_64-cpython-38/cartopy/tests/mpl/baseline_images/mpl/test_examples\r\n",
      "  \u001B[31m   \u001B[0m copying lib/cartopy/tests/mpl/baseline_images/mpl/test_examples/global_map.png -> build/lib.linux-x86_64-cpython-38/cartopy/tests/mpl/baseline_images/mpl/test_examples\r\n",
      "  \u001B[31m   \u001B[0m copying lib/cartopy/tests/mpl/baseline_images/mpl/test_examples/contour_label.png -> build/lib.linux-x86_64-cpython-38/cartopy/tests/mpl/baseline_images/mpl/test_examples\r\n",
      "  \u001B[31m   \u001B[0m creating build/lib.linux-x86_64-cpython-38/cartopy/tests/mpl/baseline_images/mpl/test_ticks\r\n",
      "  \u001B[31m   \u001B[0m copying lib/cartopy/tests/mpl/baseline_images/mpl/test_ticks/xticks_cylindrical.png -> build/lib.linux-x86_64-cpython-38/cartopy/tests/mpl/baseline_images/mpl/test_ticks\r\n",
      "  \u001B[31m   \u001B[0m copying lib/cartopy/tests/mpl/baseline_images/mpl/test_ticks/xticks_no_transform.png -> build/lib.linux-x86_64-cpython-38/cartopy/tests/mpl/baseline_images/mpl/test_ticks\r\n",
      "  \u001B[31m   \u001B[0m copying lib/cartopy/tests/mpl/baseline_images/mpl/test_ticks/xyticks.png -> build/lib.linux-x86_64-cpython-38/cartopy/tests/mpl/baseline_images/mpl/test_ticks\r\n",
      "  \u001B[31m   \u001B[0m copying lib/cartopy/tests/mpl/baseline_images/mpl/test_ticks/yticks_cylindrical.png -> build/lib.linux-x86_64-cpython-38/cartopy/tests/mpl/baseline_images/mpl/test_ticks\r\n",
      "  \u001B[31m   \u001B[0m copying lib/cartopy/tests/mpl/baseline_images/mpl/test_ticks/yticks_no_transform.png -> build/lib.linux-x86_64-cpython-38/cartopy/tests/mpl/baseline_images/mpl/test_ticks\r\n",
      "  \u001B[31m   \u001B[0m creating build/lib.linux-x86_64-cpython-38/cartopy/tests/mpl/baseline_images/mpl/test_nightshade\r\n",
      "  \u001B[31m   \u001B[0m copying lib/cartopy/tests/mpl/baseline_images/mpl/test_nightshade/nightshade_platecarree.png -> build/lib.linux-x86_64-cpython-38/cartopy/tests/mpl/baseline_images/mpl/test_nightshade\r\n",
      "  \u001B[31m   \u001B[0m creating build/lib.linux-x86_64-cpython-38/cartopy/tests/mpl/baseline_images/mpl/test_crs\r\n",
      "  \u001B[31m   \u001B[0m copying lib/cartopy/tests/mpl/baseline_images/mpl/test_crs/igh_land.png -> build/lib.linux-x86_64-cpython-38/cartopy/tests/mpl/baseline_images/mpl/test_crs\r\n",
      "  \u001B[31m   \u001B[0m copying lib/cartopy/tests/mpl/baseline_images/mpl/test_crs/lambert_conformal_south.png -> build/lib.linux-x86_64-cpython-38/cartopy/tests/mpl/baseline_images/mpl/test_crs\r\n",
      "  \u001B[31m   \u001B[0m copying lib/cartopy/tests/mpl/baseline_images/mpl/test_crs/igh_ocean.png -> build/lib.linux-x86_64-cpython-38/cartopy/tests/mpl/baseline_images/mpl/test_crs\r\n",
      "  \u001B[31m   \u001B[0m creating build/lib.linux-x86_64-cpython-38/cartopy/data\r\n",
      "  \u001B[31m   \u001B[0m creating build/lib.linux-x86_64-cpython-38/cartopy/data/raster\r\n",
      "  \u001B[31m   \u001B[0m creating build/lib.linux-x86_64-cpython-38/cartopy/data/raster/sample\r\n",
      "  \u001B[31m   \u001B[0m copying lib/cartopy/data/raster/sample/Miriam.A2012270.2050.2km.jpg -> build/lib.linux-x86_64-cpython-38/cartopy/data/raster/sample\r\n",
      "  \u001B[31m   \u001B[0m copying lib/cartopy/data/raster/sample/Miriam.A2012270.2050.2km.README.txt -> build/lib.linux-x86_64-cpython-38/cartopy/data/raster/sample\r\n",
      "  \u001B[31m   \u001B[0m creating build/lib.linux-x86_64-cpython-38/cartopy/data/raster/natural_earth\r\n",
      "  \u001B[31m   \u001B[0m copying lib/cartopy/data/raster/natural_earth/50-natural-earth-1-downsampled.png -> build/lib.linux-x86_64-cpython-38/cartopy/data/raster/natural_earth\r\n",
      "  \u001B[31m   \u001B[0m copying lib/cartopy/data/raster/natural_earth/images.json -> build/lib.linux-x86_64-cpython-38/cartopy/data/raster/natural_earth\r\n",
      "  \u001B[31m   \u001B[0m creating build/lib.linux-x86_64-cpython-38/cartopy/data/netcdf\r\n",
      "  \u001B[31m   \u001B[0m copying lib/cartopy/data/netcdf/HadISST1_SST_update.README.txt -> build/lib.linux-x86_64-cpython-38/cartopy/data/netcdf\r\n",
      "  \u001B[31m   \u001B[0m copying lib/cartopy/data/netcdf/HadISST1_SST_update.nc -> build/lib.linux-x86_64-cpython-38/cartopy/data/netcdf\r\n",
      "  \u001B[31m   \u001B[0m creating build/lib.linux-x86_64-cpython-38/cartopy/data/shapefiles\r\n",
      "  \u001B[31m   \u001B[0m creating build/lib.linux-x86_64-cpython-38/cartopy/data/shapefiles/gshhs\r\n",
      "  \u001B[31m   \u001B[0m copying lib/cartopy/data/shapefiles/gshhs/README.TXT -> build/lib.linux-x86_64-cpython-38/cartopy/data/shapefiles/gshhs\r\n",
      "  \u001B[31m   \u001B[0m creating build/lib.linux-x86_64-cpython-38/cartopy/data/shapefiles/gshhs/l\r\n",
      "  \u001B[31m   \u001B[0m copying lib/cartopy/data/shapefiles/gshhs/l/GSHHS_l_L2.shp -> build/lib.linux-x86_64-cpython-38/cartopy/data/shapefiles/gshhs/l\r\n",
      "  \u001B[31m   \u001B[0m copying lib/cartopy/data/shapefiles/gshhs/l/GSHHS_l_L2.dbf -> build/lib.linux-x86_64-cpython-38/cartopy/data/shapefiles/gshhs/l\r\n",
      "  \u001B[31m   \u001B[0m copying lib/cartopy/data/shapefiles/gshhs/l/GSHHS_l_L2.shx -> build/lib.linux-x86_64-cpython-38/cartopy/data/shapefiles/gshhs/l\r\n",
      "  \u001B[31m   \u001B[0m creating build/lib.linux-x86_64-cpython-38/cartopy/data/shapefiles/gshhs/c\r\n",
      "  \u001B[31m   \u001B[0m copying lib/cartopy/data/shapefiles/gshhs/c/GSHHS_c_L1.shp -> build/lib.linux-x86_64-cpython-38/cartopy/data/shapefiles/gshhs/c\r\n",
      "  \u001B[31m   \u001B[0m copying lib/cartopy/data/shapefiles/gshhs/c/GSHHS_c_L1.dbf -> build/lib.linux-x86_64-cpython-38/cartopy/data/shapefiles/gshhs/c\r\n",
      "  \u001B[31m   \u001B[0m copying lib/cartopy/data/shapefiles/gshhs/c/GSHHS_c_L1.shx -> build/lib.linux-x86_64-cpython-38/cartopy/data/shapefiles/gshhs/c\r\n",
      "  \u001B[31m   \u001B[0m creating build/lib.linux-x86_64-cpython-38/cartopy/tests/lakes_shapefile\r\n",
      "  \u001B[31m   \u001B[0m copying lib/cartopy/tests/lakes_shapefile/ne_110m_lakes.dbf -> build/lib.linux-x86_64-cpython-38/cartopy/tests/lakes_shapefile\r\n",
      "  \u001B[31m   \u001B[0m copying lib/cartopy/tests/lakes_shapefile/ne_110m_lakes.shx -> build/lib.linux-x86_64-cpython-38/cartopy/tests/lakes_shapefile\r\n",
      "  \u001B[31m   \u001B[0m copying lib/cartopy/tests/lakes_shapefile/ne_110m_lakes.shp -> build/lib.linux-x86_64-cpython-38/cartopy/tests/lakes_shapefile\r\n",
      "  \u001B[31m   \u001B[0m copying lib/cartopy/io/srtm.npz -> build/lib.linux-x86_64-cpython-38/cartopy/io\r\n",
      "  \u001B[31m   \u001B[0m running build_ext\r\n",
      "  \u001B[31m   \u001B[0m building 'cartopy.trace' extension\r\n",
      "  \u001B[31m   \u001B[0m creating build/temp.linux-x86_64-cpython-38\r\n",
      "  \u001B[31m   \u001B[0m creating build/temp.linux-x86_64-cpython-38/lib\r\n",
      "  \u001B[31m   \u001B[0m creating build/temp.linux-x86_64-cpython-38/lib/cartopy\r\n",
      "  \u001B[31m   \u001B[0m x86_64-linux-gnu-gcc -pthread -Wno-unused-result -Wsign-compare -DNDEBUG -g -fwrapv -O2 -Wall -g -fstack-protector-strong -Wformat -Werror=format-security -g -fwrapv -O2 -fPIC -I/usr/include -I./lib/cartopy -I/tmp/pip-build-env-8d1b_tye/overlay/lib/python3.8/site-packages/numpy/core/include -I/usr/include/python3.8 -c lib/cartopy/trace.cpp -o build/temp.linux-x86_64-cpython-38/lib/cartopy/trace.o\r\n",
      "  \u001B[31m   \u001B[0m lib/cartopy/trace.cpp:767:10: fatal error: geos_c.h: No such file or directory\r\n",
      "  \u001B[31m   \u001B[0m   767 | #include \"geos_c.h\"\r\n",
      "  \u001B[31m   \u001B[0m       |          ^~~~~~~~~~\r\n",
      "  \u001B[31m   \u001B[0m compilation terminated.\r\n",
      "  \u001B[31m   \u001B[0m error: command '/usr/bin/x86_64-linux-gnu-gcc' failed with exit code 1\r\n",
      "  \u001B[31m   \u001B[0m \u001B[31m[end of output]\u001B[0m\r\n",
      "  \r\n",
      "  \u001B[1;35mnote\u001B[0m: This error originates from a subprocess, and is likely not a problem with pip.\r\n",
      "\u001B[31m  ERROR: Failed building wheel for cartopy\u001B[0m\u001B[31m\r\n",
      "\u001B[0m\u001B[?25hFailed to build cartopy\r\n",
      "\u001B[31mERROR: Could not build wheels for cartopy, which is required to install pyproject.toml-based projects\u001B[0m\u001B[31m\r\n",
      "\u001B[0m\r\n",
      "\u001B[1m[\u001B[0m\u001B[34;49mnotice\u001B[0m\u001B[1;39;49m]\u001B[0m\u001B[39;49m A new release of pip is available: \u001B[0m\u001B[31;49m23.3.2\u001B[0m\u001B[39;49m -> \u001B[0m\u001B[32;49m24.0\u001B[0m\r\n",
      "\u001B[1m[\u001B[0m\u001B[34;49mnotice\u001B[0m\u001B[1;39;49m]\u001B[0m\u001B[39;49m To update, run: \u001B[0m\u001B[32;49mpython3 -m pip install --upgrade pip\u001B[0m\r\n",
      "Requirement already satisfied: basemap in /usr/local/lib/python3.8/dist-packages (1.4.1)\r\n",
      "Requirement already satisfied: basemap-data<1.4,>=1.3.2 in /usr/local/lib/python3.8/dist-packages (from basemap) (1.3.2)\r\n",
      "Requirement already satisfied: pyshp<2.4,>=1.2 in /usr/local/lib/python3.8/dist-packages (from basemap) (2.3.1)\r\n",
      "Requirement already satisfied: matplotlib<3.9,>=1.5 in /usr/local/lib/python3.8/dist-packages (from basemap) (3.6.0)\r\n",
      "Requirement already satisfied: pyproj<3.7.0,>=1.9.3 in /usr/local/lib/python3.8/dist-packages (from basemap) (3.5.0)\r\n",
      "Requirement already satisfied: packaging<24.0,>=16.0 in /usr/local/lib/python3.8/dist-packages (from basemap) (21.3)\r\n",
      "Requirement already satisfied: numpy<1.27,>=1.21 in /usr/local/lib/python3.8/dist-packages (from basemap) (1.23.3)\r\n",
      "Requirement already satisfied: contourpy>=1.0.1 in /usr/local/lib/python3.8/dist-packages (from matplotlib<3.9,>=1.5->basemap) (1.0.5)\r\n",
      "Requirement already satisfied: cycler>=0.10 in /usr/local/lib/python3.8/dist-packages (from matplotlib<3.9,>=1.5->basemap) (0.11.0)\r\n",
      "Requirement already satisfied: fonttools>=4.22.0 in /usr/local/lib/python3.8/dist-packages (from matplotlib<3.9,>=1.5->basemap) (4.37.3)\r\n",
      "Requirement already satisfied: kiwisolver>=1.0.1 in /usr/local/lib/python3.8/dist-packages (from matplotlib<3.9,>=1.5->basemap) (1.4.4)\r\n",
      "Requirement already satisfied: pillow>=6.2.0 in /usr/local/lib/python3.8/dist-packages (from matplotlib<3.9,>=1.5->basemap) (9.2.0)\r\n",
      "Requirement already satisfied: pyparsing>=2.2.1 in /usr/local/lib/python3.8/dist-packages (from matplotlib<3.9,>=1.5->basemap) (3.0.9)\r\n",
      "Requirement already satisfied: python-dateutil>=2.7 in /usr/local/lib/python3.8/dist-packages (from matplotlib<3.9,>=1.5->basemap) (2.8.2)\r\n",
      "Requirement already satisfied: certifi in /usr/local/lib/python3.8/dist-packages (from pyproj<3.7.0,>=1.9.3->basemap) (2022.9.24)\r\n",
      "Requirement already satisfied: six>=1.5 in /usr/local/lib/python3.8/dist-packages (from python-dateutil>=2.7->matplotlib<3.9,>=1.5->basemap) (1.16.0)\r\n",
      "\u001B[33mWARNING: Running pip as the 'root' user can result in broken permissions and conflicting behaviour with the system package manager. It is recommended to use a virtual environment instead: https://pip.pypa.io/warnings/venv\u001B[0m\u001B[33m\r\n",
      "\u001B[0m\r\n",
      "\u001B[1m[\u001B[0m\u001B[34;49mnotice\u001B[0m\u001B[1;39;49m]\u001B[0m\u001B[39;49m A new release of pip is available: \u001B[0m\u001B[31;49m23.3.2\u001B[0m\u001B[39;49m -> \u001B[0m\u001B[32;49m24.0\u001B[0m\r\n",
      "\u001B[1m[\u001B[0m\u001B[34;49mnotice\u001B[0m\u001B[1;39;49m]\u001B[0m\u001B[39;49m To update, run: \u001B[0m\u001B[32;49mpython3 -m pip install --upgrade pip\u001B[0m\r\n"
     ]
    }
   ],
   "execution_count": 2
  },
  {
   "cell_type": "code",
   "id": "40eb98c5",
   "metadata": {
    "ExecuteTime": {
     "end_time": "2024-05-20T12:42:32.426548Z",
     "start_time": "2024-05-20T12:42:30.422815Z"
    }
   },
   "source": [
    "import netCDF4 as nc\n",
    "import os\n",
    "import numpy as np\n",
    "import matplotlib.pyplot as plt\n",
    "import cartopy.crs as ccrs\n",
    "import cartopy.feature as cfeature"
   ],
   "outputs": [],
   "execution_count": 2
  },
  {
   "metadata": {
    "ExecuteTime": {
     "end_time": "2024-05-20T12:42:32.589085Z",
     "start_time": "2024-05-20T12:42:32.561770Z"
    }
   },
   "cell_type": "code",
   "source": "import tqdm",
   "id": "99b1465cd6ad2741",
   "outputs": [],
   "execution_count": 3
  },
  {
   "cell_type": "code",
   "id": "02376aad",
   "metadata": {
    "ExecuteTime": {
     "end_time": "2024-05-20T12:42:34.352056Z",
     "start_time": "2024-05-20T12:42:34.342559Z"
    }
   },
   "source": [
    "# Constructing a relative path to move one directory backward\n",
    "data_relative_path = os.path.join('..', 'Data','CMIP6')\n",
    "precipitation_path = os.path.join(data_relative_path,'Precipitation')\n",
    "WTIO_path = os.path.join(data_relative_path,'WTIO')\n",
    "SEIO_path = os.path.join(data_relative_path,'SEIO')"
   ],
   "outputs": [],
   "execution_count": 4
  },
  {
   "cell_type": "code",
   "id": "b4ccff84",
   "metadata": {
    "ExecuteTime": {
     "end_time": "2024-05-20T12:42:35.202275Z",
     "start_time": "2024-05-20T12:42:35.138487Z"
    }
   },
   "source": [
    "file_path = \"pr_Amon_ACCESS-CM2_historical_r1i1p1f1_gn_19811016-20101016_v20191108.nc\"\n",
    "data = nc.Dataset(f\"{precipitation_path}/{file_path}\")\n"
   ],
   "outputs": [],
   "execution_count": 5
  },
  {
   "cell_type": "markdown",
   "id": "456dce53",
   "metadata": {},
   "source": [
    "# Initial data Analysis and Presentation"
   ]
  },
  {
   "cell_type": "markdown",
   "source": [
    "First, we select the latitude and longitude range for the Middle East (25°N to 40°N, 25°E to 40°E)"
   ],
   "metadata": {
    "collapsed": false
   },
   "id": "a81b12a2130f3efc"
  },
  {
   "metadata": {
    "jupyter": {
     "is_executing": true
    },
    "ExecuteTime": {
     "start_time": "2024-05-20T12:40:38.598694Z"
    }
   },
   "cell_type": "code",
   "source": [
    "for file in tqdm.tqdm(os.listdir(precipitation_path)):\n",
    "    filename = os.fsdecode(file)\n",
    "    path = f\"{precipitation_path}/{filename}\"\n",
    "    data = nc.Dataset(path)\n",
    "    # print(filename)\n",
    "    # print(ds.variables['pr'][:].shape)\n",
    "    lat_name = 'lat' if 'lat' in data.variables else 'latitude'\n",
    "    lon_name = 'lon' if 'lon' in data.variables else 'longitude'\n",
    "    lat = data.variables[f'{lat_name}'][(data.variables[f'{lat_name}'][:] >= 25) & (data.variables[f'{lat_name}'][:] <= 40)]\n",
    "    lon = data.variables[f'{lon_name}'][(data.variables[f'{lon_name}'][:] >= 25) & (data.variables[f'{lon_name}'][:] <= 40)]\n",
    "    precipitation = data.variables['pr'][:]\n",
    "    avg_pr_middle_east = np.mean(precipitation,axis=0)\n",
    "    convert_unit_to_mm_transform = (86400*31) \n",
    "    mm_avg_lat_lon = avg_pr_middle_east * convert_unit_to_mm_transform \n",
    "    # Plot the map with the heatmap overlay\n",
    "    plt.figure(figsize=(10, 8))\n",
    "    ax = plt.axes(projection=ccrs.PlateCarree())\n",
    "    ax.set_extent([min(lat), max(lat),min(lon),max(lon)], crs=ccrs.PlateCarree())\n",
    "    \n",
    "    # Add map features\n",
    "    ax.add_feature(cfeature.COASTLINE)\n",
    "    ax.add_feature(cfeature.BORDERS, linestyle=':')\n",
    "    ax.add_feature(cfeature.LAND, color='lightgray')\n",
    "    \n",
    "    plt.imshow(mm_avg_lat_lon, origin='lower', cmap='jet', extent=[lon[0], lon[-1], lat[0], lat[-1]],\n",
    "               transform=ccrs.PlateCarree(), interpolation='nearest')\n",
    "    \n",
    "    # Add colorbar\n",
    "    cbar = plt.colorbar(label='Average Precipitation (mm/month)', orientation='horizontal')\n",
    "    cbar.set_label('Average Precipitation (mm/month)')\n",
    "    plt.title(f'Avg Prec. for October, {filename}')\n",
    "    \n",
    "    plt.show()\n"
   ],
   "id": "bbfd66cd5042172a",
   "outputs": [
    {
     "name": "stderr",
     "output_type": "stream",
     "text": [
      "  0%|          | 0/24 [00:00<?, ?it/s]"
     ]
    }
   ],
   "execution_count": null
  },
  {
   "cell_type": "code",
   "source": [
    "lat = data.variables['lat'][(data.variables['lat'][:] >= 25) & (data.variables['lat'][:] <= 40)]\n",
    "lon = data.variables['lon'][(data.variables['lon'][:] >= 25) & (data.variables['lon'][:] <= 40)]"
   ],
   "metadata": {
    "collapsed": false,
    "ExecuteTime": {
     "end_time": "2024-05-20T12:42:43.252435Z",
     "start_time": "2024-05-20T12:42:43.238555Z"
    }
   },
   "id": "a16bf115b8f62172",
   "outputs": [],
   "execution_count": 6
  },
  {
   "cell_type": "markdown",
   "source": [
    "Next, we extract the precipitation data for the Middle East region and average it over the 30-year period."
   ],
   "metadata": {
    "collapsed": false
   },
   "id": "6ca31116a2b8584e"
  },
  {
   "cell_type": "code",
   "source": [
    "precipitation = data.variables['pr'][:]\n",
    "avg_pr_middle_east = np.mean(precipitation,axis=0)"
   ],
   "metadata": {
    "collapsed": false,
    "ExecuteTime": {
     "end_time": "2024-05-20T12:42:45.330561Z",
     "start_time": "2024-05-20T12:42:45.301513Z"
    }
   },
   "id": "7a5083deca70f8f3",
   "outputs": [],
   "execution_count": 7
  },
  {
   "cell_type": "markdown",
   "source": [
    "An important step - we need to convert the precipitation units from kg m-2 s-1 to mm/month. To do so, we multiply the precipitation values by the number of seconds in a day (86400) and the number of days in a month (31). Along the way we multiply and divide by 1000 to convert the units from kg to g and then to mm."
   ],
   "metadata": {
    "collapsed": false
   },
   "id": "eb3c540bd162f976"
  },
  {
   "cell_type": "code",
   "source": [
    "convert_unit_to_mm_transform = (86400*31) \n",
    "mm_avg_lat_lon = avg_pr_middle_east * convert_unit_to_mm_transform "
   ],
   "metadata": {
    "collapsed": false,
    "ExecuteTime": {
     "end_time": "2024-05-20T12:42:48.252809Z",
     "start_time": "2024-05-20T12:42:48.245658Z"
    }
   },
   "id": "bf1bd8e345272f05",
   "outputs": [],
   "execution_count": 8
  },
  {
   "cell_type": "markdown",
   "source": [
    "Finally, we plot the average precipitation for the Middle East region for the month of October."
   ],
   "metadata": {
    "collapsed": false
   },
   "id": "436b718c894469a4"
  },
  {
   "cell_type": "code",
   "id": "44cf2825",
   "metadata": {
    "jupyter": {
     "is_executing": true
    },
    "ExecuteTime": {
     "start_time": "2024-05-20T12:42:51.692353Z"
    }
   },
   "source": [
    "# Plot the map with the heatmap overlay\n",
    "plt.figure(figsize=(10, 8))\n",
    "ax = plt.axes(projection=ccrs.PlateCarree())\n",
    "ax.set_extent([min(lat), max(lat),min(lon),max(lon)], crs=ccrs.PlateCarree())\n",
    "\n",
    "# Add map features\n",
    "ax.add_feature(cfeature.COASTLINE)\n",
    "ax.add_feature(cfeature.BORDERS, linestyle=':')\n",
    "ax.add_feature(cfeature.LAND, color='lightgray')\n",
    "\n",
    "plt.imshow(mm_avg_lat_lon, origin='lower', cmap='jet', extent=[lon[0], lon[-1], lat[0], lat[-1]],\n",
    "           transform=ccrs.PlateCarree(), interpolation='nearest')\n",
    "\n",
    "# Add colorbar\n",
    "cbar = plt.colorbar(label='Average Precipitation (mm/month)', orientation='horizontal')\n",
    "cbar.set_label('Average Precipitation (mm/month)')\n",
    "plt.title('Average Precipitation for October in the Middle East')\n",
    "\n",
    "plt.show()\n"
   ],
   "outputs": [],
   "execution_count": null
  },
  {
   "cell_type": "code",
   "execution_count": null,
   "id": "f1340a32",
   "metadata": {},
   "outputs": [],
   "source": []
  }
 ],
 "metadata": {
  "kernelspec": {
   "display_name": "Python 3 (ipykernel)",
   "language": "python",
   "name": "python3"
  },
  "language_info": {
   "codemirror_mode": {
    "name": "ipython",
    "version": 3
   },
   "file_extension": ".py",
   "mimetype": "text/x-python",
   "name": "python",
   "nbconvert_exporter": "python",
   "pygments_lexer": "ipython3",
   "version": "3.9.13"
  }
 },
 "nbformat": 4,
 "nbformat_minor": 5
}
