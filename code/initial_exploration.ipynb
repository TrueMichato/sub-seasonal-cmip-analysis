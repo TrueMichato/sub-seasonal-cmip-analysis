{
 "cells": [
  {
   "cell_type": "code",
   "execution_count": 2,
   "id": "2d037fc1",
   "metadata": {
    "ExecuteTime": {
     "end_time": "2024-05-13T09:43:40.580666Z",
     "start_time": "2024-05-13T09:42:29.457764Z"
    }
   },
   "outputs": [],
   "source": [
    "# !pip install netCDF4\n",
    "# !pip install cartopy\n",
    "# !pip install basemap \n"
   ]
  },
  {
   "cell_type": "code",
   "execution_count": 3,
   "id": "40eb98c5",
   "metadata": {
    "ExecuteTime": {
     "end_time": "2024-05-20T12:42:32.426548Z",
     "start_time": "2024-05-20T12:42:30.422815Z"
    }
   },
   "outputs": [],
   "source": [
    "import netCDF4 as nc\n",
    "import os\n",
    "import numpy as np\n",
    "import matplotlib.pyplot as plt\n",
    "import cartopy.crs as ccrs\n",
    "import cartopy.feature as cfeature\n",
    "from scipy import interpolate\n",
    "import tqdm"
   ]
  },
  {
   "cell_type": "code",
   "execution_count": 4,
   "id": "02376aad",
   "metadata": {
    "ExecuteTime": {
     "end_time": "2024-05-20T12:42:34.352056Z",
     "start_time": "2024-05-20T12:42:34.342559Z"
    }
   },
   "outputs": [],
   "source": [
    "data_relative_path = os.path.join('..', 'Data')\n",
    "precipitation_path = os.path.join(data_relative_path,'CMIP6','Precipitation')\n",
    "WTIO_path = os.path.join(data_relative_path,'CMIP6','WTIO')\n",
    "SEIO_path = os.path.join(data_relative_path,'CMIP6','SEIO')\n",
    "CHIRPS_path = os.path.join(data_relative_path,'CHIRPS2')"
   ]
  },
  {
   "cell_type": "markdown",
   "id": "456dce53",
   "metadata": {},
   "source": [
    "# Initial data Analysis and Presentation\n",
    "We will start by displaying the average precipitation in the Middle East region for the month of October, for each model and for CHIRPS2 (which is \"Rainfall Estimates from Rain Gauge and Satellite Observations\"). This should give as a good understanding of which models are performing well in this region and which ones are not.    \n",
    "An important concern we ran into was the scale - each model uses a different scale, and so since we want to compare them all together (and specifically to the CHIRPS2 dataset), we need to interpolate the data to a common scale, which we chose to be the CHIRPS2 scale.    \n",
    "Another important step - we needed to convert the precipitation units of the models from `kg m-2 s-1` to `mm/month`. To do so, we multiply the precipitation values by the number of seconds in a day (86400) and the number of days in a month (31). Along the way we multiply and divide by 1000 to convert the units from kg to g and then to mm, but it cancels out.    \n",
    "One last detail is the boundaries of the map we want to plot. We will use 25N-40N and 25E-50E, in accordance with the article we are basing our analysis on."
   ]
  },
  {
   "cell_type": "code",
   "execution_count": 5,
   "id": "513bcca9",
   "metadata": {},
   "outputs": [],
   "source": [
    "unit_conversion = 86400 * 31\n",
    "bounds_lat = [25, 40]\n",
    "bounds_lon = [25, 50]\n",
    "boundaries = bounds_lat + bounds_lon"
   ]
  },
  {
   "cell_type": "code",
   "execution_count": 6,
   "id": "624ceae1",
   "metadata": {},
   "outputs": [],
   "source": [
    "chirps_data = nc.Dataset(f\"{CHIRPS_path}/chirps_octobers_middle_east_1981_2010.nc\")\n",
    "chirps_precip = chirps_data['precip'][:]"
   ]
  },
  {
   "cell_type": "code",
   "execution_count": 7,
   "id": "a76ca72d",
   "metadata": {},
   "outputs": [],
   "source": [
    "chirps_dim = chirps_data['precip'].shape[1], chirps_data['precip'].shape[2]"
   ]
  },
  {
   "cell_type": "code",
   "execution_count": 8,
   "id": "a30cf60c",
   "metadata": {},
   "outputs": [],
   "source": [
    "def collect_all_datasets(precipitation_dir: str, target_dim: tuple, unit_conversion: float, bounds_lat: list, bounds_lon: list) -> np.ndarray:\n",
    "    \"\"\"\n",
    "    Collects and processes all NetCDF files from the given directory.\n",
    "    Interpolates each dataset to a predefined dimension and stores them in a 3D array.\n",
    "    \n",
    "    Args:\n",
    "        precipitation_path (str): Path to the directory containing NetCDF files.\n",
    "        target_dim (tuple): Dimensions of the target matrix.\n",
    "        unit_conversion (float): Unit conversion factor.\n",
    "        bounds_lat (list): Latitude bounds.\n",
    "        bounds_lon (list): Longitude bounds.\n",
    "    \n",
    "    Returns:\n",
    "        np.ndarray: 3D array of interpolated datasets.\n",
    "    \"\"\"\n",
    "    interpolated_matrices = []\n",
    "\n",
    "    for file in tqdm.tqdm(os.listdir(precipitation_dir)):\n",
    "        filename = os.fsdecode(file)\n",
    "        path = f\"{precipitation_dir}/{filename}\"\n",
    "        data = nc.Dataset(path)\n",
    "        \n",
    "#         lat_name = 'lat' if 'lat' in data.variables else 'latitude'\n",
    "#         lon_name = 'lon' if 'lon' in data.variables else 'longitude'\n",
    "        \n",
    "#         lat = data.variables[lat_name][:]\n",
    "#         lon = data.variables[lon_name][:]\n",
    "        \n",
    "#         # Subset the lat and lon for the Middle East region\n",
    "#         lat = lat[(lat >= bounds_lat[0]) & (lat <= bounds_lat[1])]\n",
    "#         lon = lon[(lon >= bounds_lon[0]) & (lon <= bounds_lon[1])]\n",
    "        \n",
    "        precipitation = data.variables['pr'][:]\n",
    "        avg_pr_middle_east = np.mean(precipitation, axis=0)\n",
    "        \n",
    "        mm_avg_lat_lon = avg_pr_middle_east * unit_conversion\n",
    "        \n",
    "        original_matrix = mm_avg_lat_lon\n",
    "        m, n = original_matrix.shape\n",
    "                \n",
    "        # Generate the interpolation function\n",
    "        f = interpolate.interp2d(np.linspace(0, 1, n), \n",
    "                                 np.linspace(0, 1, m), \n",
    "                                 original_matrix, kind='cubic')\n",
    "        \n",
    "        # Generate the interpolated matrix\n",
    "        interpolated_matrix = f(np.linspace(0, 1, target_dim[1]), np.linspace(0, 1, target_dim[0]))\n",
    "        \n",
    "        interpolated_matrices.append(interpolated_matrix)\n",
    "\n",
    "    return np.array(interpolated_matrices)"
   ]
  },
  {
   "cell_type": "code",
   "execution_count": 9,
   "id": "ef0276f5",
   "metadata": {},
   "outputs": [],
   "source": [
    "def plot_precp_heatmap(mat: np.ndarray, boundaries: list, map_type: str, chirps_dim: tuple) -> None:\n",
    "    # Plot the map with the heatmap overlay\n",
    "    plt.figure(figsize=(10, 8))\n",
    "    ax = plt.axes(projection=ccrs.PlateCarree())\n",
    "    ax.set_extent(boundaries, crs=ccrs.PlateCarree())\n",
    "\n",
    "\n",
    "    # Add map features\n",
    "    ax.add_feature(cfeature.COASTLINE)\n",
    "    ax.add_feature(cfeature.BORDERS, linestyle=':')\n",
    "    ax.add_feature(cfeature.LAND, color='lightgray')\n",
    "    \n",
    "\n",
    "    im = plt.imshow(mat, origin='lower', cmap='jet', extent=boundaries,\n",
    "               transform=ccrs.PlateCarree(), interpolation='bicubic')\n",
    "    im.set_alpha(0.8)\n",
    "    im.set_clim(vmin=0.0001)\n",
    "\n",
    "    # Add colorbar\n",
    "    cbar = plt.colorbar(im,label='Average Precipitation (mm/month)', orientation='horizontal')\n",
    "    cbar.set_label('Average Precipitation (mm/month)')\n",
    "    plt.title(f'Avg Prec. for October for all models')\n",
    "    plt.show()"
   ]
  },
  {
   "cell_type": "code",
   "execution_count": 10,
   "id": "7a1fedbe",
   "metadata": {},
   "outputs": [
    {
     "name": "stderr",
     "output_type": "stream",
     "text": [
      "100%|███████████████████████████████████████████████████████████████████████████████████| 24/24 [00:00<00:00, 30.02it/s]\n"
     ]
    }
   ],
   "source": [
    "interpolated_matrices = collect_all_datasets(precipitation_path, chirps_dim, unit_conversion, bounds_lat, bounds_lon)"
   ]
  },
  {
   "cell_type": "code",
   "execution_count": 11,
   "id": "e58a4dc2",
   "metadata": {},
   "outputs": [],
   "source": [
    "interpolated_matrix_array_mean = np.mean(interpolated_matrices,axis=0)\n"
   ]
  },
  {
   "cell_type": "code",
   "execution_count": 12,
   "id": "a23adadf",
   "metadata": {},
   "outputs": [],
   "source": [
    "plot_precp_heatmap(interpolated_matrix_array_mean, boundaries, \"\", chirps_dim)"
   ]
  },
  {
   "cell_type": "code",
   "execution_count": 13,
   "id": "bbfd66cd5042172a",
   "metadata": {
    "ExecuteTime": {
     "start_time": "2024-05-20T12:40:38.598694Z"
    },
    "jupyter": {
     "is_executing": true
    }
   },
   "outputs": [],
   "source": [
    "# collect all dataset(model) in the parcipitation dir and make a np array in shape (datasets number,lat_grid,long_grid)\n",
    "interpulated_matrix_array_varience = np.var(interpolated_matrix_array_mean,axis=0)\n",
    "\n",
    "\n",
    "\n"
   ]
  }
 ],
 "metadata": {
  "kernelspec": {
   "display_name": "precipitation_projection",
   "language": "python",
   "name": "ipkernel"
  },
  "language_info": {
   "codemirror_mode": {
    "name": "ipython",
    "version": 3
   },
   "file_extension": ".py",
   "mimetype": "text/x-python",
   "name": "python",
   "nbconvert_exporter": "python",
   "pygments_lexer": "ipython3",
   "version": "3.8.10"
  }
 },
 "nbformat": 4,
 "nbformat_minor": 5
}
