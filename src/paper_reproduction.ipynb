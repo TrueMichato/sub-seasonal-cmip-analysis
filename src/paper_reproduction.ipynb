{
 "cells": [
  {
   "cell_type": "markdown",
   "id": "100a8412",
   "metadata": {},
   "source": [
    "# Paper Reproducing\n",
    "In this part we will attempt to reproduce the correlation results from the original paper. This is done both to provide a sanity check, but also to create the general functions we will use later to calcuate the correlation on the data from the models"
   ]
  },
  {
   "cell_type": "code",
   "execution_count": 1,
   "id": "15d1a114",
   "metadata": {},
   "source": [
    "import pandas as pd\n",
    "import netCDF4 as nc\n",
    "import os\n",
    "import numpy as np\n",
    "import matplotlib.pyplot as plt\n",
    "from mpl_toolkits.basemap import Basemap\n",
    "import cartopy.crs as ccrs\n",
    "import cartopy.feature as cfeature\n",
    "from scipy import interpolate\n",
    "import scipy\n",
    "import tqdm\n",
    "import matplotlib.colors as mcolors\n",
    "from helpers import process_h as helper\n",
    "from helpers import visualize_h as vis_helper\n"
   ],
   "outputs": []
  },
  {
   "cell_type": "code",
   "execution_count": 2,
   "id": "571772d2",
   "metadata": {},
   "source": [
    "data_relative_path = os.path.join('..', 'Data')\n",
    "precipitation_path = os.path.join(data_relative_path,'CMIP6','Precipitation')\n",
    "WTIO_path = os.path.join(data_relative_path,'CMIP6','WTIO')\n",
    "SEIO_path = os.path.join(data_relative_path,'CMIP6','SEIO')\n",
    "CHIRPS_path = os.path.join(data_relative_path,'CHIRPS2')"
   ],
   "outputs": []
  },
  {
   "cell_type": "markdown",
   "id": "8caf03cb",
   "metadata": {},
   "source": [
    "# Constants "
   ]
  },
  {
   "cell_type": "code",
   "execution_count": 3,
   "id": "4408f586",
   "metadata": {},
   "source": [
    "df_dmi = pd.read_csv(f\"{data_relative_path}/PSL/DMI.csv\")\n",
    "df_wtio = pd.read_csv(f\"{data_relative_path}/PSL/WTIO.csv\")\n",
    "df_seio = pd.read_csv(f\"{data_relative_path}/PSL/SEIO.csv\")\n",
    "\n",
    "bounds_lat = [20, 40]\n",
    "bounds_lon = [20, 50]\n",
    "boundaries = bounds_lon + bounds_lat"
   ],
   "outputs": []
  },
  {
   "cell_type": "code",
   "execution_count": 4,
   "id": "47acce13",
   "metadata": {},
   "source": [
    "df_dmi.set_index('Year', inplace=True)\n",
    "df_wtio.set_index('Year', inplace=True)\n",
    "df_seio.set_index('Year', inplace=True)"
   ],
   "outputs": []
  },
  {
   "cell_type": "code",
   "execution_count": 5,
   "id": "9b117262",
   "metadata": {},
   "source": [
    "df_dmi = df_dmi.query('Year >= 1981 and Year <= 2010')\n",
    "df_wtio = df_wtio.query('Year >= 1981 and Year <= 2010')\n",
    "df_seio = df_seio.query('Year >= 1981 and Year <= 2010')"
   ],
   "outputs": []
  },
  {
   "cell_type": "code",
   "execution_count": 6,
   "id": "d1b10859",
   "metadata": {},
   "source": [
    "dmi_oct = df_dmi['10']\n",
    "wtio_oct = df_wtio['10']\n",
    "seio_oct = df_seio['10']\n",
    "obs_iod = pd.concat([dmi_oct, wtio_oct, seio_oct], axis=1, keys=['DMI', 'WTIO', 'SEIO'])"
   ],
   "outputs": []
  },
  {
   "cell_type": "code",
   "execution_count": 7,
   "id": "10759429",
   "metadata": {},
   "source": [
    "obs_iod.plot()\n",
    "plt.legend(['DMI', 'WTIO', 'SEIO'])\n",
    "obs_iod.corr()['DMI']['WTIO']"
   ],
   "outputs": []
  },
  {
   "cell_type": "markdown",
   "id": "e53bcb7d",
   "metadata": {},
   "source": [
    "Next, we will plot the correlation between the DMI and the precipitation data."
   ]
  },
  {
   "cell_type": "code",
   "execution_count": 8,
   "id": "e0de825e",
   "metadata": {
    "scrolled": true
   },
   "source": [
    "dmi_oct.values"
   ],
   "outputs": []
  },
  {
   "cell_type": "code",
   "execution_count": 10,
   "id": "a4c6041e",
   "metadata": {},
   "source": [
    "# Attempt\n",
    "\n",
    "PATH = os.path.join('..', 'Data', 'CHIRPS2')\n",
    "\n",
    "def read_data(file_path):\n",
    "    data = nc.Dataset(file_path)\n",
    "    return data\n",
    "\n",
    "ds = read_data(os.path.join(PATH, 'chirps-v2.0.monthly.nc'))\n",
    "\n",
    "time_var = ds.variables[\"time\"][:]\n",
    "fig, ax = plt.subplots(1, 3, figsize=(10, 8), subplot_kw={'projection': ccrs.PlateCarree()})\n",
    "for mod_ind in range(9, 12):\n",
    "    october_indices = [i for i, t in enumerate(time_var) if (i + 1) % mod_ind == 0 ]\n",
    "    october_indices = october_indices[0:30]\n",
    "\n",
    "    lat_var = ds.variables[\"latitude\"][:]\n",
    "    lon_var = ds.variables[\"longitude\"][:]\n",
    "\n",
    "    lat_indices = np.where((lat_var >= 20) & (lat_var <= 40))[0]\n",
    "    lon_indices = np.where((lon_var >= 20) & (lon_var <= 50))[0]\n",
    "\n",
    "    precip_data = ds.variables[\"precip\"]\n",
    "\n",
    "    october_data = precip_data[october_indices, :, :]\n",
    "    october_lat_lon_data = october_data[:, lat_indices, :][:, :, lon_indices]\n",
    "    corr_map = helper.calc_dmi_precp_corr_loop(dmi_oct.values, october_lat_lon_data)\n",
    "    alpha = 0.05\n",
    "    corr_map_tested = np.where(helper.calc_corr_t_test(corr_map) > alpha, 0, corr_map)\n",
    "    vis_helper.plot_corr_heatmap(ax[mod_ind % 3 - 1], corr_map, boundaries, f'Corr of DMI and Precip, {mod_ind} month', f'Corr. between DMI and CHIRPS, {mod_ind} month', 0)\n",
    "\n",
    "plt.tight_layout()\n",
    "plt.show()"
   ],
   "outputs": []
  },
  {
   "cell_type": "code",
   "execution_count": null,
   "id": "7bfb98b8",
   "metadata": {},
   "source": [],
   "outputs": []
  },
  {
   "cell_type": "code",
   "execution_count": null,
   "id": "e80daf81",
   "metadata": {},
   "source": [
    "chirps_data = nc.Dataset(f\"{CHIRPS_path}/chirps_octobers_middle_east_1981_2010.nc\") # CHIRPS_Monthly_precipitation\n",
    "\n",
    "chirps_precip_data = chirps_data['precip'][:]\n",
    "\n",
    "\n",
    "corr_map = helper.calc_dmi_precp_corr_loop(dmi_oct.values, chirps_precip_data)\n",
    "\n",
    "# corr_map = calc_dmi_precp_corr_vec(dmi_oct.values, chirps_precip_data)"
   ],
   "outputs": []
  },
  {
   "cell_type": "code",
   "execution_count": null,
   "id": "92eda75b",
   "metadata": {},
   "source": [
    "alpha = 0.05\n",
    "corr_map_tested = np.where(helper.calc_corr_t_test(corr_map) > alpha, 0, corr_map)"
   ],
   "outputs": []
  },
  {
   "cell_type": "code",
   "execution_count": null,
   "id": "bafbe053",
   "metadata": {},
   "source": [
    "############# PLOT MAPS 4 #############\n",
    "# Create a 2D meshgrid for the latitude and longitude data\n",
    "lon = chirps_data['longitude'][:]\n",
    "lat = chirps_data['latitude'][:]\n",
    "lon_2d, lat_2d = np.meshgrid(lon, lat)\n",
    "fig = plt.figure()\n",
    "ax = plt.axes()\n",
    "\n",
    "#map = Basemap(projection='cyl', llcrnrlon=33.,llcrnrlat=29.,urcrnrlon=37.,urcrnrlat=34., resolution='i', ax=ax)\n",
    "map = Basemap(projection='merc',llcrnrlon=20,llcrnrlat=20,urcrnrlon=50,urcrnrlat=40,resolution='i') # projection, lat/lon extents and resolution of polygons to draw\n",
    "# resolutions: c - crude, l - low, i - intermediate, h - high, f - full\n",
    "map.drawcoastlines()\n",
    "map.drawstates()\n",
    "map.drawlsmask(land_color='Linen', ocean_color='#CCFFFF') # can use HTML names or codes for colors\n",
    "map.drawcounties() # you can even add counties (and other shapefiles!)\n",
    "\n",
    "#map.pcolormesh(lon_2d, lat_2d, pressureS[t,:,:], latlon=True, cmap='coolwarm') #Can change variables and index for time - also in line 48\n",
    "cmap = 'coolwarm'\n",
    "#vmin = 100000\n",
    "#vmax = 102000\n",
    "\n",
    "#cs = map.contour(lon_2d, lat_2d, pressureS[t, :, :], latlon=True, cmap=cmap)#, vmin=vmin, vmax=vmax) #lines\n",
    "cs = map.contourf(lon_2d, lat_2d, corr_map, latlon=True, cmap=cmap)#, vmin=vmin, vmax=vmax) #color lines\n",
    "#cs = map.pcolormesh(lon_2d, lat_2d, pressureS[t, :, :], latlon=True, cmap=cmap)#, vmin=vmin, vmax=vmax)\n",
    "#Diverging Colormaps: 'coolwarm', 'RdBu_r', 'seismic', 'viridis', 'plasma', 'inferno', 'cividis', 'magma', 'tab10', ''\n",
    "# Adding pressure isobar lines\n",
    "#levels = np.arange(100000, 102000, 100) # define pressure levels\n",
    "#contour = map.contour(lon_2d, lat_2d, pressureS[t, :, :], levels=levels, latlon=True, colors='k', linewidths=1)\n",
    "\n",
    "# Adding labels to contour lines\n",
    "#plt.clabel(cs, inline=1, fontsize=10, fmt='%1.0f')\n",
    "\n",
    "map.colorbar()\n",
    "#cbar = map.colorbar(cs, location='bottom', pad=\"5%\")\n",
    "#cbar.set_label('Pressure (Pa)')\n",
    "parallels = np.arange(min(lat),max(lat),1.) # make latitude lines ever 5 degrees from 30N-50N\n",
    "meridians = np.arange(min(lon),max(lon),1.) # make longitude lines every 5 degrees from 95W to 70W\n",
    "map.drawparallels(parallels,labels=[1,0,0,0],fontsize=8, dashes=[1, 3], color='lightgray', linewidth=0.5)\n",
    "map.drawmeridians(meridians,labels=[0,0,0,1],fontsize=8, dashes=[1, 3], color='lightgray', linewidth=0.5)\n",
    "\n",
    "#plt.xlabel('Longitude')\n",
    "#plt.ylabel('Latitude')\n",
    "ax.set_ylabel('Latitude', loc='center' , labelpad=20.0)\n",
    "ax.set_xlabel('Longitude', loc='center', labelpad=13.0)\n",
    "plt.title('Correlation between DMI and CHIRPS') #Change title per variable\n",
    "\n",
    "plt.show()"
   ],
   "outputs": []
  },
  {
   "cell_type": "code",
   "execution_count": 13,
   "id": "b1a13c7d",
   "metadata": {},
   "source": [
    "fig7, ax7 = plt.subplots(1, 1, figsize=(10, 8), subplot_kw={'projection': ccrs.PlateCarree()})\n",
    "vis_helper.plot_corr_heatmap(ax7, corr_map, boundaries, 'Correlation between DMI and Precipitation', 'Corr. between DMI and CHIRPS', 0)"
   ],
   "outputs": []
  },
  {
   "cell_type": "code",
   "execution_count": 15,
   "id": "ee29d650",
   "metadata": {},
   "source": [
    "corr_map_tested"
   ],
   "outputs": []
  },
  {
   "cell_type": "code",
   "execution_count": null,
   "id": "64b36b18",
   "metadata": {},
   "source": [
    "helper.calc_corr_t_test(corr_map)"
   ],
   "outputs": []
  },
  {
   "cell_type": "code",
   "execution_count": 37,
   "id": "8d5e35f2",
   "metadata": {},
   "source": [
    "corr_map"
   ],
   "outputs": []
  },
  {
   "cell_type": "code",
   "execution_count": null,
   "id": "716bbb14",
   "metadata": {},
   "source": [
    "expanded_array = dmi_oct.values[:, np.newaxis, np.newaxis]\n",
    "\n",
    "# Step 3: Use broadcasting to create the desired shape (30, 400, 600)\n",
    "result_array = np.tile(expanded_array, (1, 400, 600))\n"
   ],
   "outputs": []
  },
  {
   "cell_type": "code",
   "execution_count": null,
   "id": "23d52e1f",
   "metadata": {},
   "source": [
    "scipy.stats.pearsonr(chirps_precip_data,result_array)"
   ],
   "outputs": []
  },
  {
   "cell_type": "code",
   "execution_count": 16,
   "id": "d473a8df",
   "metadata": {},
   "source": [
    "chirps_precip_data"
   ],
   "outputs": []
  },
  {
   "cell_type": "code",
   "execution_count": 21,
   "id": "09abed36",
   "metadata": {},
   "source": [
    "chirps_data.variables['precip']"
   ],
   "outputs": []
  },
  {
   "cell_type": "code",
   "execution_count": 22,
   "id": "7a4c8072",
   "metadata": {},
   "source": [
    "chirps_data.variables['time']"
   ],
   "outputs": []
  },
  {
   "cell_type": "code",
   "execution_count": null,
   "id": "dcdc82d2",
   "metadata": {},
   "source": [],
   "outputs": []
  }
 ],
 "metadata": {
  "kernelspec": {
   "display_name": "local-venv",
   "language": "python",
   "name": "local-venv"
  },
  "language_info": {
   "codemirror_mode": {
    "name": "ipython",
    "version": 3
   },
   "file_extension": ".py",
   "mimetype": "text/x-python",
   "name": "python",
   "nbconvert_exporter": "python",
   "pygments_lexer": "ipython3",
   "version": "3.10.11"
  }
 },
 "nbformat": 4,
 "nbformat_minor": 5
}
