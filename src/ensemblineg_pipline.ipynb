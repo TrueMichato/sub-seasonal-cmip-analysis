{
 "cells": [
  {
   "cell_type": "code",
   "execution_count": 24,
   "metadata": {},
   "outputs": [],
   "source": [
    "import numpy as np\n",
    "import pandas as pd\n",
    "from typing import List\n",
    "import scipy\n",
    "from sklearn.linear_model import LinearRegression\n",
    "from sklearn.metrics import mean_squared_error, r2_score, root_mean_squared_error\n",
    "import matplotlib.pyplot as plt\n",
    "import os \n",
    "import tqdm\n",
    "import netCDF4 as nc\n",
    "from sklearn.model_selection import train_test_split\n",
    "from helpers import process_h as helper\n",
    "from helpers import visualize_h as vis_helper"
   ]
  },
  {
   "cell_type": "code",
   "execution_count": 2,
   "metadata": {},
   "outputs": [],
   "source": [
    "data_relative_path = os.path.join('..', 'Data')\n",
    "precipitation_path = os.path.join(data_relative_path,'CMIP6','Precipitation')\n",
    "WTIO_path = os.path.join(data_relative_path,'CMIP6','WTIO')\n",
    "SEIO_path = os.path.join(data_relative_path,'CMIP6','SEIO')\n",
    "CHIRPS_path = os.path.join(data_relative_path,'CHIRPS2')\n",
    "SLP_path = os.path.join(data_relative_path,'CMIP6','SLP')\n",
    "GPH500_path = os.path.join(data_relative_path,'CMIP6', 'GPH500')\n",
    "ERA5_path = os.path.join(data_relative_path, 'ERA5')"
   ]
  },
  {
   "cell_type": "markdown",
   "metadata": {},
   "source": [
    "## Data Loading"
   ]
  },
  {
   "cell_type": "code",
   "execution_count": 3,
   "metadata": {},
   "outputs": [],
   "source": [
    "chirps_dataset = nc.Dataset(f\"{CHIRPS_path}/CHIRPS_Monthly_precipitation.nc\")\n",
    "chirps_precip_data = ((chirps_dataset['precip'][:])[9::12, 280:360, 800:920])[:30, :, :]"
   ]
  },
  {
   "cell_type": "code",
   "execution_count": 4,
   "metadata": {},
   "outputs": [],
   "source": [
    "# Converting units needed for converting models precipitation measurements\n",
    "unit_conversion = 86400 * 31\n",
    "# Map latitude and longitude boundaries\n",
    "bounds_middle_east_lat = [20, 40]\n",
    "bounds_middle_east_lon = [20, 50]\n",
    "boundaries_middle_east = bounds_middle_east_lon + bounds_middle_east_lat\n",
    "# A dimension we want our grid to have\n",
    "dim = (16, 16)\n",
    "chirps_dim = chirps_precip_data.shape[1], chirps_precip_data.shape[2]"
   ]
  },
  {
   "cell_type": "code",
   "execution_count": 5,
   "metadata": {},
   "outputs": [],
   "source": [
    "options = {\"interpolate\": True,\n",
    "           \"force grid\": False,\n",
    "           \"average\": False}\n",
    "options_avg = {\"interpolate\": True,\n",
    "           \"force grid\": False,\n",
    "           \"average\": True}"
   ]
  },
  {
   "cell_type": "code",
   "execution_count": 10,
   "metadata": {},
   "outputs": [
    {
     "name": "stderr",
     "output_type": "stream",
     "text": [
      "\r",
      "  0%|                                                                                                   | 0/24 [00:00<?, ?it/s]"
     ]
    },
    {
     "name": "stdout",
     "output_type": "stream",
     "text": [
      "pr_Amon_ACCESS-CM2_historical_r1i1p1f1_gn_19811016-20101016_v20191108.nc\n",
      "(30, 16, 16)\n"
     ]
    },
    {
     "name": "stderr",
     "output_type": "stream",
     "text": [
      "\r",
      "  4%|███▊                                                                                       | 1/24 [00:00<00:05,  3.90it/s]"
     ]
    },
    {
     "name": "stdout",
     "output_type": "stream",
     "text": [
      "pr_Amon_CAMS-CSM1-0_historical_r1i1p1f1_gn_19811016-20101016_v20190708.nc\n",
      "(30, 18, 27)\n"
     ]
    },
    {
     "name": "stderr",
     "output_type": "stream",
     "text": [
      "\r",
      "  8%|███████▌                                                                                   | 2/24 [00:00<00:05,  3.83it/s]"
     ]
    },
    {
     "name": "stdout",
     "output_type": "stream",
     "text": [
      "pr_Amon_CanESM5-CanOE_historical_r1i1p2f1_gn_19811016-20101016_v20190429.nc\n",
      "(30, 7, 10)\n"
     ]
    },
    {
     "name": "stderr",
     "output_type": "stream",
     "text": [
      "\r",
      " 12%|███████████▍                                                                               | 3/24 [00:00<00:05,  4.06it/s]"
     ]
    },
    {
     "name": "stdout",
     "output_type": "stream",
     "text": [
      "pr_Amon_CMCC-CM2-HR4_historical_r1i1p1f1_gn_19811016-20101016_v20200904.nc\n",
      "(30, 21, 25)\n"
     ]
    },
    {
     "name": "stderr",
     "output_type": "stream",
     "text": [
      "\r",
      " 17%|███████████████▏                                                                           | 4/24 [00:01<00:05,  3.84it/s]"
     ]
    },
    {
     "name": "stdout",
     "output_type": "stream",
     "text": [
      "pr_Amon_CNRM-CM6-1-HR_historical_r1i1p1f2_gr_19811016-20101016_v20191021.nc\n",
      "(30, 40, 61)\n"
     ]
    },
    {
     "name": "stderr",
     "output_type": "stream",
     "text": [
      "\r",
      " 21%|██████████████████▉                                                                        | 5/24 [00:01<00:05,  3.26it/s]"
     ]
    },
    {
     "name": "stdout",
     "output_type": "stream",
     "text": [
      "pr_Amon_E3SM-1-0_historical_r1i1p1f1_gr_19811016-20101016_v20190913.nc\n",
      "(30, 20, 30)\n"
     ]
    },
    {
     "name": "stderr",
     "output_type": "stream",
     "text": [
      "\r",
      " 25%|██████████████████████▊                                                                    | 6/24 [00:01<00:05,  3.38it/s]"
     ]
    },
    {
     "name": "stdout",
     "output_type": "stream",
     "text": [
      "pr_Amon_EC-Earth3-AerChem_historical_r1i1p1f1_gr_19811016-20101016_v20200624.nc\n",
      "(30, 28, 43)\n"
     ]
    },
    {
     "name": "stderr",
     "output_type": "stream",
     "text": [
      "\r",
      " 29%|██████████████████████████▌                                                                | 7/24 [00:02<00:05,  3.30it/s]"
     ]
    },
    {
     "name": "stdout",
     "output_type": "stream",
     "text": [
      "pr_Amon_FGOALS-f3-L_historical_r1i1p1f1_gr_19811016-20101016_v20190927.nc\n",
      "(30, 20, 24)\n"
     ]
    },
    {
     "name": "stderr",
     "output_type": "stream",
     "text": [
      "\r",
      " 33%|██████████████████████████████▎                                                            | 8/24 [00:02<00:04,  3.39it/s]"
     ]
    },
    {
     "name": "stdout",
     "output_type": "stream",
     "text": [
      "pr_Amon_FIO-ESM-2-0_historical_r1i1p1f1_gn_19811016-20101016_v20191209.nc\n",
      "(30, 21, 25)\n"
     ]
    },
    {
     "name": "stderr",
     "output_type": "stream",
     "text": [
      "\r",
      " 38%|██████████████████████████████████▏                                                        | 9/24 [00:02<00:04,  3.46it/s]"
     ]
    },
    {
     "name": "stdout",
     "output_type": "stream",
     "text": [
      "pr_Amon_GFDL-ESM4_historical_r1i1p1f1_gr1_19811016-20101016_v20190726.nc\n",
      "(30, 20, 24)\n"
     ]
    },
    {
     "name": "stderr",
     "output_type": "stream",
     "text": [
      "\r",
      " 42%|█████████████████████████████████████▌                                                    | 10/24 [00:02<00:03,  3.56it/s]"
     ]
    },
    {
     "name": "stdout",
     "output_type": "stream",
     "text": [
      "pr_Amon_GISS-E2-1-H_historical_r1i1p1f1_gn_19811016-20101016_v20190403.nc\n",
      "(30, 10, 12)\n"
     ]
    },
    {
     "name": "stderr",
     "output_type": "stream",
     "text": [
      "\r",
      " 46%|█████████████████████████████████████████▎                                                | 11/24 [00:03<00:03,  3.65it/s]"
     ]
    },
    {
     "name": "stdout",
     "output_type": "stream",
     "text": [
      "pr_Amon_HadGEM3-GC31-LL_historical_r1i1p1f3_gn_19811016-20101016_v20190624.nc\n",
      "(30, 16, 16)\n"
     ]
    },
    {
     "name": "stderr",
     "output_type": "stream",
     "text": [
      "\r",
      " 50%|█████████████████████████████████████████████                                             | 12/24 [00:03<00:03,  3.74it/s]"
     ]
    },
    {
     "name": "stdout",
     "output_type": "stream",
     "text": [
      "pr_Amon_IITM-ESM_historical_r1i1p1f1_gn_19811016-20101016_v20191226.nc\n",
      "(30, 10, 16)\n"
     ]
    },
    {
     "name": "stderr",
     "output_type": "stream",
     "text": [
      "\r",
      " 54%|████████████████████████████████████████████████▊                                         | 13/24 [00:03<00:02,  3.79it/s]"
     ]
    },
    {
     "name": "stdout",
     "output_type": "stream",
     "text": [
      "pr_Amon_INM-CM5-0_historical_r1i1p1f1_gr1_19811016-20101016_v20190610.nc\n",
      "(30, 14, 16)\n"
     ]
    },
    {
     "name": "stderr",
     "output_type": "stream",
     "text": [
      "\r",
      " 58%|████████████████████████████████████████████████████▌                                     | 14/24 [00:03<00:02,  3.82it/s]"
     ]
    },
    {
     "name": "stdout",
     "output_type": "stream",
     "text": [
      "pr_Amon_IPSL-CM6A-LR_historical_r1i1p1f1_gr_19811016-20101016_v20180803.nc\n",
      "(30, 16, 13)\n"
     ]
    },
    {
     "name": "stderr",
     "output_type": "stream",
     "text": [
      "\r",
      " 62%|████████████████████████████████████████████████████████▎                                 | 15/24 [00:04<00:02,  3.89it/s]"
     ]
    },
    {
     "name": "stdout",
     "output_type": "stream",
     "text": [
      "pr_Amon_MCM-UA-1-0_historical_r1i1p1f2_gn_19811017-20101017_v20191017.nc\n",
      "(30, 9, 8)\n"
     ]
    },
    {
     "name": "stderr",
     "output_type": "stream",
     "text": [
      "\r",
      " 67%|████████████████████████████████████████████████████████████                              | 16/24 [00:04<00:02,  3.92it/s]"
     ]
    },
    {
     "name": "stdout",
     "output_type": "stream",
     "text": [
      "pr_Amon_MIROC6_historical_r1i1p1f1_gn_19811016-20101016_v20181212.nc\n",
      "(30, 15, 21)\n"
     ]
    },
    {
     "name": "stderr",
     "output_type": "stream",
     "text": [
      "\r",
      " 71%|███████████████████████████████████████████████████████████████▊                          | 17/24 [00:04<00:01,  3.87it/s]"
     ]
    },
    {
     "name": "stdout",
     "output_type": "stream",
     "text": [
      "pr_Amon_MPI-ESM1-2-HR_historical_r1i1p1f1_gn_19811016-20101016_v20190710.nc\n",
      "(30, 22, 32)\n"
     ]
    },
    {
     "name": "stderr",
     "output_type": "stream",
     "text": [
      "\r",
      " 75%|███████████████████████████████████████████████████████████████████▌                      | 18/24 [00:04<00:01,  3.77it/s]"
     ]
    },
    {
     "name": "stdout",
     "output_type": "stream",
     "text": [
      "pr_Amon_MRI-ESM2-0_historical_r1i1p1f1_gn_19811016-20101016_v20190222.nc\n",
      "(30, 18, 27)\n"
     ]
    },
    {
     "name": "stderr",
     "output_type": "stream",
     "text": [
      "\r",
      " 79%|███████████████████████████████████████████████████████████████████████▎                  | 19/24 [00:05<00:01,  3.74it/s]"
     ]
    },
    {
     "name": "stdout",
     "output_type": "stream",
     "text": [
      "pr_Amon_NESM3_historical_r1i1p1f1_gn_19811016-20101016_v20190630.nc\n",
      "(30, 10, 16)\n"
     ]
    },
    {
     "name": "stderr",
     "output_type": "stream",
     "text": [
      "\r",
      " 83%|███████████████████████████████████████████████████████████████████████████               | 20/24 [00:05<00:01,  3.83it/s]"
     ]
    },
    {
     "name": "stdout",
     "output_type": "stream",
     "text": [
      "pr_Amon_NorESM2-MM_historical_r1i1p1f1_gn_19811016-20101016_v20191108.nc\n",
      "(30, 21, 25)\n"
     ]
    },
    {
     "name": "stderr",
     "output_type": "stream",
     "text": [
      "\r",
      " 88%|██████████████████████████████████████████████████████████████████████████████▊           | 21/24 [00:05<00:00,  3.83it/s]"
     ]
    },
    {
     "name": "stdout",
     "output_type": "stream",
     "text": [
      "pr_Amon_SAM0-UNICON_historical_r1i1p1f1_gn_19811016-20101016_v20190323.nc\n",
      "(30, 21, 25)\n"
     ]
    },
    {
     "name": "stderr",
     "output_type": "stream",
     "text": [
      "\r",
      " 92%|██████████████████████████████████████████████████████████████████████████████████▌       | 22/24 [00:05<00:00,  3.83it/s]"
     ]
    },
    {
     "name": "stdout",
     "output_type": "stream",
     "text": [
      "pr_Amon_TaiESM1_historical_r1i1p1f1_gn_19811016-20101016_v20200623.nc\n",
      "(30, 21, 25)\n"
     ]
    },
    {
     "name": "stderr",
     "output_type": "stream",
     "text": [
      "\r",
      " 96%|██████████████████████████████████████████████████████████████████████████████████████▎   | 23/24 [00:06<00:00,  3.76it/s]"
     ]
    },
    {
     "name": "stdout",
     "output_type": "stream",
     "text": [
      "pr_Amon_UKESM1-0-LL_historical_r1i1p1f2_gn_19811016-20101016_v20190406.nc\n",
      "(30, 16, 16)\n"
     ]
    },
    {
     "name": "stderr",
     "output_type": "stream",
     "text": [
      "100%|██████████████████████████████████████████████████████████████████████████████████████████| 24/24 [00:06<00:00,  3.70it/s]\n"
     ]
    }
   ],
   "source": [
    "precip_for_corr = helper.collect_all_datasets(precipitation_path, 'precip', chirps_dim, unit_conversion, bounds_middle_east_lat, bounds_middle_east_lon, options)\n",
    "precip = {key: val[0] for key, val in precip_for_corr.items()}\n",
    "masked_precip = {key: np.ma.array(val, mask=chirps_precip_data.mask) for key, val in precip.items()}"
   ]
  },
  {
   "cell_type": "code",
   "execution_count": 48,
   "metadata": {},
   "outputs": [
    {
     "name": "stderr",
     "output_type": "stream",
     "text": [
      " 21%|██████████████████▉                                                                        | 5/24 [00:00<00:00, 25.27it/s]"
     ]
    },
    {
     "name": "stdout",
     "output_type": "stream",
     "text": [
      "pr_Amon_ACCESS-CM2_historical_r1i1p1f1_gn_19811016-20101016_v20191108.nc\n",
      "(16, 16)\n",
      "pr_Amon_CAMS-CSM1-0_historical_r1i1p1f1_gn_19811016-20101016_v20190708.nc\n",
      "(18, 27)\n",
      "pr_Amon_CanESM5-CanOE_historical_r1i1p2f1_gn_19811016-20101016_v20190429.nc\n",
      "(7, 10)\n",
      "pr_Amon_CMCC-CM2-HR4_historical_r1i1p1f1_gn_19811016-20101016_v20200904.nc\n",
      "(21, 25)\n",
      "pr_Amon_CNRM-CM6-1-HR_historical_r1i1p1f2_gr_19811016-20101016_v20191021.nc\n",
      "(40, 61)\n",
      "pr_Amon_E3SM-1-0_historical_r1i1p1f1_gr_19811016-20101016_v20190913.nc\n",
      "(20, 30)\n"
     ]
    },
    {
     "name": "stderr",
     "output_type": "stream",
     "text": [
      " 62%|████████████████████████████████████████████████████████▎                                 | 15/24 [00:00<00:00, 37.95it/s]"
     ]
    },
    {
     "name": "stdout",
     "output_type": "stream",
     "text": [
      "pr_Amon_EC-Earth3-AerChem_historical_r1i1p1f1_gr_19811016-20101016_v20200624.nc\n",
      "(28, 43)\n",
      "pr_Amon_FGOALS-f3-L_historical_r1i1p1f1_gr_19811016-20101016_v20190927.nc\n",
      "(20, 24)\n",
      "pr_Amon_FIO-ESM-2-0_historical_r1i1p1f1_gn_19811016-20101016_v20191209.nc\n",
      "(21, 25)\n",
      "pr_Amon_GFDL-ESM4_historical_r1i1p1f1_gr1_19811016-20101016_v20190726.nc\n",
      "(20, 24)\n",
      "pr_Amon_GISS-E2-1-H_historical_r1i1p1f1_gn_19811016-20101016_v20190403.nc\n",
      "(10, 12)\n",
      "pr_Amon_HadGEM3-GC31-LL_historical_r1i1p1f3_gn_19811016-20101016_v20190624.nc\n",
      "(16, 16)\n",
      "pr_Amon_IITM-ESM_historical_r1i1p1f1_gn_19811016-20101016_v20191226.nc\n",
      "(10, 16)\n",
      "pr_Amon_INM-CM5-0_historical_r1i1p1f1_gr1_19811016-20101016_v20190610.nc\n",
      "(14, 16)\n",
      "pr_Amon_IPSL-CM6A-LR_historical_r1i1p1f1_gr_19811016-20101016_v20180803.nc\n",
      "(16, 13)\n",
      "pr_Amon_MCM-UA-1-0_historical_r1i1p1f2_gn_19811017-20101017_v20191017.nc\n"
     ]
    },
    {
     "name": "stderr",
     "output_type": "stream",
     "text": [
      "\r",
      " 83%|███████████████████████████████████████████████████████████████████████████               | 20/24 [00:00<00:00, 39.46it/s]"
     ]
    },
    {
     "name": "stdout",
     "output_type": "stream",
     "text": [
      "(9, 8)\n",
      "pr_Amon_MIROC6_historical_r1i1p1f1_gn_19811016-20101016_v20181212.nc\n",
      "(15, 21)\n",
      "pr_Amon_MPI-ESM1-2-HR_historical_r1i1p1f1_gn_19811016-20101016_v20190710.nc\n",
      "(22, 32)\n",
      "pr_Amon_MRI-ESM2-0_historical_r1i1p1f1_gn_19811016-20101016_v20190222.nc\n",
      "(18, 27)\n",
      "pr_Amon_NESM3_historical_r1i1p1f1_gn_19811016-20101016_v20190630.nc\n",
      "(10, 16)\n",
      "pr_Amon_NorESM2-MM_historical_r1i1p1f1_gn_19811016-20101016_v20191108.nc\n",
      "(21, 25)\n",
      "pr_Amon_SAM0-UNICON_historical_r1i1p1f1_gn_19811016-20101016_v20190323.nc\n",
      "(21, 25)\n"
     ]
    },
    {
     "name": "stderr",
     "output_type": "stream",
     "text": [
      "\r",
      "100%|██████████████████████████████████████████████████████████████████████████████████████████| 24/24 [00:00<00:00, 33.06it/s]"
     ]
    },
    {
     "name": "stdout",
     "output_type": "stream",
     "text": [
      "pr_Amon_TaiESM1_historical_r1i1p1f1_gn_19811016-20101016_v20200623.nc\n",
      "(21, 25)\n",
      "pr_Amon_UKESM1-0-LL_historical_r1i1p1f2_gn_19811016-20101016_v20190406.nc\n",
      "(16, 16)\n"
     ]
    },
    {
     "name": "stderr",
     "output_type": "stream",
     "text": [
      "\n"
     ]
    }
   ],
   "source": [
    "precip_avg = helper.collect_all_datasets(precipitation_path, 'precip', chirps_dim, unit_conversion, bounds_middle_east_lat, bounds_middle_east_lon, options_avg)\n",
    "precip_avg= {key: val[0] for key, val in precip_avg.items()}"
   ]
  },
  {
   "cell_type": "code",
   "execution_count": 49,
   "metadata": {},
   "outputs": [],
   "source": [
    "dmi_baseline = scipy.io.loadmat(f\"{data_relative_path}/DMI/DMI.mat\")['DMI_Oct_1981_2022'][:, 1][:30]"
   ]
  },
  {
   "cell_type": "code",
   "execution_count": 50,
   "metadata": {},
   "outputs": [
    {
     "name": "stderr",
     "output_type": "stream",
     "text": [
      "100%|█████████████████████████████████████████████████████████████████████████████████████████| 24/24 [00:00<00:00, 129.29it/s]\n"
     ]
    },
    {
     "name": "stdout",
     "output_type": "stream",
     "text": [
      "tos_Omon_ACCESS-CM2_historical_r1i1p1f1_gn_19811016-20101016_v20191108.nc\n",
      "tos_Omon_CAMS-CSM1-0_historical_r1i1p1f1_gn_19811016-20101016_v20190708.nc\n",
      "tos_Omon_CanESM5-CanOE_historical_r1i1p2f1_gn_19811016-20101016_v20190429.nc\n",
      "tos_Omon_CMCC-CM2-HR4_historical_r1i1p1f1_gn_19811016-20101016_v20200904.nc\n",
      "tos_Omon_CNRM-CM6-1-HR_historical_r1i1p1f2_gn_19811016-20101016_v20191021.nc\n",
      "tos_Omon_E3SM-1-0_historical_r1i1p1f1_gr_19811016-20101016_v20190826.nc\n",
      "tos_Omon_EC-Earth3-AerChem_historical_r1i1p1f1_gn_19811016-20101016_v20200624.nc\n",
      "tos_Omon_FGOALS-f3-L_historical_r1i1p1f1_gn_19811016-20101016_v20191007.nc\n",
      "tos_Omon_FIO-ESM-2-0_historical_r1i1p1f1_gn_19811016-20101016_v20191122.nc\n",
      "tos_Omon_GFDL-ESM4_historical_r1i1p1f1_gr_19811016-20101016_v20190726.nc\n",
      "tos_Omon_GISS-E2-1-H_historical_r1i1p1f1_gn_19811016-20101016_v20190403.nc\n",
      "tos_Omon_HadGEM3-GC31-LL_historical_r1i1p1f3_gn_19811016-20101016_v20190624.nc\n",
      "tos_Omon_IITM-ESM_historical_r1i1p1f1_gn_19811016-20101016_v20200915.nc\n",
      "tos_Omon_INM-CM5-0_historical_r1i1p1f1_gr1_19811016-20101016_v20190610.nc\n",
      "tos_Omon_IPSL-CM6A-LR_historical_r1i1p1f1_gn_19811016-20101016_v20180803.nc\n",
      "tos_Omon_MCM-UA-1-0_historical_r0i0p0f2_gn_19811017-20101017_v20190731.nc\n",
      "tos_Omon_MIROC6_historical_r1i1p1f1_gn_19811016-20101016_v20181212.nc\n",
      "tos_Omon_MPI-ESM1-2-HR_historical_r1i1p1f1_gn_19811016-20101016_v20190710.nc\n",
      "tos_Omon_MRI-ESM2-0_historical_r1i1p1f1_gr_19811016-20101016_v20190904.nc\n",
      "tos_Omon_NESM3_historical_r1i1p1f1_gn_19811016-20101016_v20190703.nc\n",
      "tos_Omon_NorESM2-MM_historical_r1i1p1f1_gn_19811016-20101016_v20191108.nc\n",
      "tos_Omon_SAM0-UNICON_historical_r1i1p1f1_gn_19811016-20101016_v20190323.nc\n",
      "tos_Omon_TaiESM1_historical_r1i1p1f1_gn_19811016-20101016_v20200630.nc\n",
      "tos_Omon_UKESM1-0-LL_historical_r1i1p1f2_gn_19811016-20101016_v20190627.nc\n"
     ]
    },
    {
     "name": "stderr",
     "output_type": "stream",
     "text": [
      "\r",
      "  0%|                                                                                                   | 0/24 [00:00<?, ?it/s]"
     ]
    },
    {
     "name": "stdout",
     "output_type": "stream",
     "text": [
      "tos_Omon_ACCESS-CM2_historical_r1i1p1f1_gn_19811016-20101016_v20191108.nc\n",
      "tos_Omon_CAMS-CSM1-0_historical_r1i1p1f1_gn_19811016-20101016_v20190708.nc\n",
      "tos_Omon_CanESM5-CanOE_historical_r1i1p2f1_gn_19811016-20101016_v20190429.nc\n"
     ]
    },
    {
     "name": "stderr",
     "output_type": "stream",
     "text": [
      "100%|█████████████████████████████████████████████████████████████████████████████████████████| 24/24 [00:00<00:00, 164.07it/s]\n"
     ]
    },
    {
     "name": "stdout",
     "output_type": "stream",
     "text": [
      "tos_Omon_CMCC-CM2-HR4_historical_r1i1p1f1_gn_19811016-20101016_v20200904.nc\n",
      "tos_Omon_CNRM-CM6-1-HR_historical_r1i1p1f2_gn_19811016-20101016_v20191021.nc\n",
      "tos_Omon_E3SM-1-0_historical_r1i1p1f1_gr_19811016-20101016_v20190826.nc\n",
      "tos_Omon_EC-Earth3-AerChem_historical_r1i1p1f1_gn_19811016-20101016_v20200624.nc\n",
      "tos_Omon_FGOALS-f3-L_historical_r1i1p1f1_gn_19811016-20101016_v20191007.nc\n",
      "tos_Omon_FIO-ESM-2-0_historical_r1i1p1f1_gn_19811016-20101016_v20191122.nc\n",
      "tos_Omon_GFDL-ESM4_historical_r1i1p1f1_gr_19811016-20101016_v20190726.nc\n",
      "tos_Omon_GISS-E2-1-H_historical_r1i1p1f1_gn_19811016-20101016_v20190403.nc\n",
      "tos_Omon_HadGEM3-GC31-LL_historical_r1i1p1f3_gn_19811016-20101016_v20190624.nc\n",
      "tos_Omon_IITM-ESM_historical_r1i1p1f1_gn_19811016-20101016_v20200915.nc\n",
      "tos_Omon_INM-CM5-0_historical_r1i1p1f1_gr1_19811016-20101016_v20190610.nc\n",
      "tos_Omon_IPSL-CM6A-LR_historical_r1i1p1f1_gn_19811016-20101016_v20180803.nc\n",
      "tos_Omon_MCM-UA-1-0_historical_r0i0p0f2_gn_19811017-20101017_v20190731.nc\n",
      "tos_Omon_MIROC6_historical_r1i1p1f1_gn_19811016-20101016_v20181212.nc\n",
      "tos_Omon_MPI-ESM1-2-HR_historical_r1i1p1f1_gn_19811016-20101016_v20190710.nc\n",
      "tos_Omon_MRI-ESM2-0_historical_r1i1p1f1_gr_19811016-20101016_v20190904.nc\n",
      "tos_Omon_NESM3_historical_r1i1p1f1_gn_19811016-20101016_v20190703.nc\n",
      "tos_Omon_NorESM2-MM_historical_r1i1p1f1_gn_19811016-20101016_v20191108.nc\n",
      "tos_Omon_SAM0-UNICON_historical_r1i1p1f1_gn_19811016-20101016_v20190323.nc\n",
      "tos_Omon_TaiESM1_historical_r1i1p1f1_gn_19811016-20101016_v20200630.nc\n",
      "tos_Omon_UKESM1-0-LL_historical_r1i1p1f2_gn_19811016-20101016_v20190627.nc\n"
     ]
    },
    {
     "name": "stderr",
     "output_type": "stream",
     "text": [
      "  0%|                                                                                                   | 0/24 [00:00<?, ?it/s]/mnt/c/Users/user/Documents/University/Year_3/Final Project/sub-seasonal-cmip-analysis/src/helpers/process_h.py:259: RuntimeWarning: Mean of empty slice\n",
      "  wtio_climatology = np.nanmean(wtio_model, axis=0)\n",
      "/mnt/c/Users/user/Documents/University/Year_3/Final Project/sub-seasonal-cmip-analysis/src/helpers/process_h.py:260: RuntimeWarning: Mean of empty slice\n",
      "  seio_climatology = np.nanmean(seio_model, axis=0)\n",
      "100%|█████████████████████████████████████████████████████████████████████████████████████████| 24/24 [00:00<00:00, 270.73it/s]\n"
     ]
    }
   ],
   "source": [
    "wtio = helper.collect_all_datasets(WTIO_path, 'wtio')\n",
    "seio = helper.collect_all_datasets(SEIO_path, 'seio')\n",
    "dmi = helper.calc_dmi(wtio, seio, 'anomaly grid - mean first')"
   ]
  },
  {
   "cell_type": "code",
   "execution_count": 51,
   "metadata": {},
   "outputs": [
    {
     "name": "stderr",
     "output_type": "stream",
     "text": [
      "100%|██████████████████████████████████████████████████████████████████████████████████████████| 24/24 [00:00<00:00, 97.15it/s]\n"
     ]
    }
   ],
   "source": [
    "corrs = dict()\n",
    "for key in tqdm.tqdm(masked_precip.keys()):\n",
    "    corr_mat = helper.calc_dmi_precp_corr_vec(dmi[key], masked_precip[key])\n",
    "    corrs[key] = corr_mat\n",
    "corr_baseline = helper.calc_dmi_precp_corr_vec(dmi_baseline, chirps_precip_data)"
   ]
  },
  {
   "cell_type": "code",
   "execution_count": 52,
   "metadata": {},
   "outputs": [],
   "source": [
    "alpha = 0.05\n",
    "tested_corrs = {key: np.where(helper.calc_corr_t_test(corr_map) > alpha, 0, corr_map) for key, corr_map in corrs.items()}\n",
    "tested_corr_baseline = np.where(helper.calc_corr_t_test(corr_baseline) > alpha, 0, corr_baseline)"
   ]
  },
  {
   "cell_type": "markdown",
   "metadata": {},
   "source": [
    "Create a X Design matrix when each row is a grid point and each feature is a model."
   ]
  },
  {
   "cell_type": "code",
   "execution_count": 53,
   "metadata": {},
   "outputs": [],
   "source": [
    "data_relative_path = os.path.join('..', 'Data')\n",
    "cmip_models_path_path = os.path.join(data_relative_path,'CMIP6','Precipitation')\n",
    "interpulated_cmip_path = os.path.join(data_relative_path,'InterpulatedCMIP6_400X600')\n",
    "CHIRPS_path = os.path.join(data_relative_path,'CHIRPS2')\n"
   ]
  },
  {
   "cell_type": "code",
   "execution_count": 54,
   "metadata": {},
   "outputs": [],
   "source": [
    "def get_precipitation_models() -> list[np.ndarray]:\n",
    "    \"\"\"\n",
    "    Retrieves and processes precipitation models from a specified directory.\n",
    "    Returns:\n",
    "        list[np.ndarray]: A list of NumPy arrays where each array represents the mean\n",
    "                          precipitation data computed across the first axis of the input arrays.\n",
    "    \"\"\"\n",
    "    models: list[np.ndarray] = []\n",
    "    for file in os.listdir(interpulated_cmip_path):\n",
    "        model_path = os.path.join(interpulated_cmip_path, file)\n",
    "        model_data = np.load(model_path)\n",
    "        model_mean_data = np.mean(model_data, axis=0)\n",
    "        models.append(model_mean_data)\n",
    "    return models\n"
   ]
  },
  {
   "cell_type": "markdown",
   "metadata": {},
   "source": [
    "## Data Preperations"
   ]
  },
  {
   "cell_type": "code",
   "execution_count": 55,
   "metadata": {},
   "outputs": [],
   "source": [
    "def flatten_chirps(chirps_precip_data):\n",
    "    chirps_2D = np.mean(chirps_precip_data,axis=0)\n",
    "    flat_chirps_2D= chirps_2D.reshape(-1)\n",
    "    return flat_chirps_2D"
   ]
  },
  {
   "cell_type": "code",
   "execution_count": 82,
   "metadata": {},
   "outputs": [],
   "source": [
    "def flatten_models_to_grid_matrix(models) -> pd.DataFrame:\n",
    "    \"\"\"\n",
    "    Create a design matrix X where each row represents a grid point, and each column \n",
    "    (feature) represents the flattened precipitation data from a different model.\n",
    "\n",
    "    Parameters:\n",
    "    -----------\n",
    "    interpolated_precip_list : List[np.ndarray]\n",
    "        A list of 2D arrays (matrices) with dimensions (400, 600) representing \n",
    "        precipitation data from different models. Each matrix corresponds to a different \n",
    "        model.\n",
    "\n",
    "    Returns:\n",
    "    --------\n",
    "    np.ndarray\n",
    "        A 2D array (design matrix X) of shape (240000, num_models), where:\n",
    "        - Each row corresponds to a specific grid point across all models.\n",
    "        - Each column corresponds to the precipitation data for that grid point from \n",
    "          a particular model.\n",
    "    \"\"\"\n",
    "\n",
    "\n",
    "    # Initialize an empty matrix to store the reshaped data\n",
    "    X = pd.DataFrame()\n",
    "\n",
    "    # Loop over each model's matrix and reshape it into a vector\n",
    "    for model, data_matrix in models.items():\n",
    "        temp = pd.DataFrame(data_matrix.reshape(-1), columns=[model])\n",
    "        X = pd.concat([X, temp], axis=1)\n",
    "    return X\n"
   ]
  },
  {
   "cell_type": "code",
   "execution_count": 83,
   "metadata": {},
   "outputs": [
    {
     "data": {
      "text/plain": [
       "(80, 120)"
      ]
     },
     "execution_count": 83,
     "metadata": {},
     "output_type": "execute_result"
    }
   ],
   "source": [
    "precip_avg['ACCESS-CM2'].shape"
   ]
  },
  {
   "cell_type": "code",
   "execution_count": 84,
   "metadata": {},
   "outputs": [],
   "source": [
    "X_precip = flatten_models_to_grid_matrix(precip_avg)\n",
    "y_precip = flatten_chirps(chirps_precip_data)\n",
    "# Need to remove Null values from both, would require putting them in a df and then dropna on rows\n",
    "precip_df = X_precip.copy()\n",
    "precip_df[\"chirps\"] = y_precip\n",
    "precip_df = precip_df.dropna()\n",
    "X_corr = flatten_models_to_grid_matrix(tested_corrs)\n",
    "y_corr = tested_corr_baseline\n",
    "# same, but asaf said we shouldn't bother with only correlations\n"
   ]
  },
  {
   "cell_type": "code",
   "execution_count": 85,
   "metadata": {},
   "outputs": [
    {
     "data": {
      "text/html": [
       "<div>\n",
       "<style scoped>\n",
       "    .dataframe tbody tr th:only-of-type {\n",
       "        vertical-align: middle;\n",
       "    }\n",
       "\n",
       "    .dataframe tbody tr th {\n",
       "        vertical-align: top;\n",
       "    }\n",
       "\n",
       "    .dataframe thead th {\n",
       "        text-align: right;\n",
       "    }\n",
       "</style>\n",
       "<table border=\"1\" class=\"dataframe\">\n",
       "  <thead>\n",
       "    <tr style=\"text-align: right;\">\n",
       "      <th></th>\n",
       "      <th>ACCESS-CM2</th>\n",
       "      <th>CAMS-CSM1-0</th>\n",
       "      <th>CanESM5-CanOE</th>\n",
       "      <th>CMCC-CM2-HR4</th>\n",
       "      <th>CNRM-CM6-1-HR</th>\n",
       "      <th>E3SM-1-0</th>\n",
       "      <th>EC-Earth3-AerChem</th>\n",
       "      <th>FGOALS-f3-L</th>\n",
       "      <th>FIO-ESM-2-0</th>\n",
       "      <th>GFDL-ESM4</th>\n",
       "      <th>...</th>\n",
       "      <th>MCM-UA-1-0</th>\n",
       "      <th>MIROC6</th>\n",
       "      <th>MPI-ESM1-2-HR</th>\n",
       "      <th>MRI-ESM2-0</th>\n",
       "      <th>NESM3</th>\n",
       "      <th>NorESM2-MM</th>\n",
       "      <th>SAM0-UNICON</th>\n",
       "      <th>TaiESM1</th>\n",
       "      <th>UKESM1-0-LL</th>\n",
       "      <th>chirps</th>\n",
       "    </tr>\n",
       "  </thead>\n",
       "  <tbody>\n",
       "    <tr>\n",
       "      <th>0</th>\n",
       "      <td>0.942319</td>\n",
       "      <td>0.479998</td>\n",
       "      <td>1.140655</td>\n",
       "      <td>0.660180</td>\n",
       "      <td>2.706106</td>\n",
       "      <td>1.176750</td>\n",
       "      <td>0.007037</td>\n",
       "      <td>0.451921</td>\n",
       "      <td>0.060178</td>\n",
       "      <td>0.568221</td>\n",
       "      <td>...</td>\n",
       "      <td>15.386412</td>\n",
       "      <td>1.196963</td>\n",
       "      <td>0.013848</td>\n",
       "      <td>1.112214</td>\n",
       "      <td>0.596841</td>\n",
       "      <td>0.018284</td>\n",
       "      <td>0.230899</td>\n",
       "      <td>0.031408</td>\n",
       "      <td>0.257650</td>\n",
       "      <td>0.000000e+00</td>\n",
       "    </tr>\n",
       "    <tr>\n",
       "      <th>1</th>\n",
       "      <td>1.030896</td>\n",
       "      <td>0.420120</td>\n",
       "      <td>1.120143</td>\n",
       "      <td>0.616831</td>\n",
       "      <td>2.168157</td>\n",
       "      <td>1.144615</td>\n",
       "      <td>0.007261</td>\n",
       "      <td>0.482080</td>\n",
       "      <td>0.056102</td>\n",
       "      <td>0.534466</td>\n",
       "      <td>...</td>\n",
       "      <td>15.109906</td>\n",
       "      <td>1.200772</td>\n",
       "      <td>0.033394</td>\n",
       "      <td>1.093325</td>\n",
       "      <td>0.594128</td>\n",
       "      <td>0.022368</td>\n",
       "      <td>0.201091</td>\n",
       "      <td>0.029774</td>\n",
       "      <td>0.284660</td>\n",
       "      <td>0.000000e+00</td>\n",
       "    </tr>\n",
       "    <tr>\n",
       "      <th>2</th>\n",
       "      <td>1.119473</td>\n",
       "      <td>0.360242</td>\n",
       "      <td>1.099632</td>\n",
       "      <td>0.573481</td>\n",
       "      <td>1.644705</td>\n",
       "      <td>1.112481</td>\n",
       "      <td>0.007485</td>\n",
       "      <td>0.512239</td>\n",
       "      <td>0.052027</td>\n",
       "      <td>0.500710</td>\n",
       "      <td>...</td>\n",
       "      <td>14.833400</td>\n",
       "      <td>1.204580</td>\n",
       "      <td>0.052939</td>\n",
       "      <td>1.074436</td>\n",
       "      <td>0.591416</td>\n",
       "      <td>0.026452</td>\n",
       "      <td>0.171283</td>\n",
       "      <td>0.028139</td>\n",
       "      <td>0.311670</td>\n",
       "      <td>4.302927e-05</td>\n",
       "    </tr>\n",
       "    <tr>\n",
       "      <th>3</th>\n",
       "      <td>1.208050</td>\n",
       "      <td>0.300364</td>\n",
       "      <td>1.079121</td>\n",
       "      <td>0.530132</td>\n",
       "      <td>1.976573</td>\n",
       "      <td>1.080346</td>\n",
       "      <td>0.008325</td>\n",
       "      <td>0.542398</td>\n",
       "      <td>0.047951</td>\n",
       "      <td>0.466955</td>\n",
       "      <td>...</td>\n",
       "      <td>14.556894</td>\n",
       "      <td>1.208389</td>\n",
       "      <td>0.072485</td>\n",
       "      <td>1.055546</td>\n",
       "      <td>0.588704</td>\n",
       "      <td>0.030535</td>\n",
       "      <td>0.141475</td>\n",
       "      <td>0.026505</td>\n",
       "      <td>0.338680</td>\n",
       "      <td>0.000000e+00</td>\n",
       "    </tr>\n",
       "    <tr>\n",
       "      <th>4</th>\n",
       "      <td>1.296627</td>\n",
       "      <td>0.240486</td>\n",
       "      <td>1.058609</td>\n",
       "      <td>0.486783</td>\n",
       "      <td>2.301950</td>\n",
       "      <td>1.048212</td>\n",
       "      <td>0.012241</td>\n",
       "      <td>0.572557</td>\n",
       "      <td>0.043876</td>\n",
       "      <td>0.433200</td>\n",
       "      <td>...</td>\n",
       "      <td>14.280388</td>\n",
       "      <td>1.212197</td>\n",
       "      <td>0.112312</td>\n",
       "      <td>1.036657</td>\n",
       "      <td>0.585991</td>\n",
       "      <td>0.034619</td>\n",
       "      <td>0.111667</td>\n",
       "      <td>0.024871</td>\n",
       "      <td>0.365691</td>\n",
       "      <td>1.074137e-12</td>\n",
       "    </tr>\n",
       "    <tr>\n",
       "      <th>...</th>\n",
       "      <td>...</td>\n",
       "      <td>...</td>\n",
       "      <td>...</td>\n",
       "      <td>...</td>\n",
       "      <td>...</td>\n",
       "      <td>...</td>\n",
       "      <td>...</td>\n",
       "      <td>...</td>\n",
       "      <td>...</td>\n",
       "      <td>...</td>\n",
       "      <td>...</td>\n",
       "      <td>...</td>\n",
       "      <td>...</td>\n",
       "      <td>...</td>\n",
       "      <td>...</td>\n",
       "      <td>...</td>\n",
       "      <td>...</td>\n",
       "      <td>...</td>\n",
       "      <td>...</td>\n",
       "      <td>...</td>\n",
       "      <td>...</td>\n",
       "    </tr>\n",
       "    <tr>\n",
       "      <th>9591</th>\n",
       "      <td>34.073127</td>\n",
       "      <td>58.971217</td>\n",
       "      <td>22.859548</td>\n",
       "      <td>62.468150</td>\n",
       "      <td>49.405016</td>\n",
       "      <td>27.745830</td>\n",
       "      <td>57.618589</td>\n",
       "      <td>40.718513</td>\n",
       "      <td>94.568915</td>\n",
       "      <td>84.763523</td>\n",
       "      <td>...</td>\n",
       "      <td>20.226058</td>\n",
       "      <td>74.458679</td>\n",
       "      <td>51.347647</td>\n",
       "      <td>30.310965</td>\n",
       "      <td>32.866714</td>\n",
       "      <td>22.337050</td>\n",
       "      <td>57.148507</td>\n",
       "      <td>106.691869</td>\n",
       "      <td>51.931830</td>\n",
       "      <td>3.552129e+01</td>\n",
       "    </tr>\n",
       "    <tr>\n",
       "      <th>9592</th>\n",
       "      <td>32.690535</td>\n",
       "      <td>58.798342</td>\n",
       "      <td>24.981958</td>\n",
       "      <td>60.452650</td>\n",
       "      <td>41.589271</td>\n",
       "      <td>26.405728</td>\n",
       "      <td>51.542294</td>\n",
       "      <td>37.577353</td>\n",
       "      <td>94.505708</td>\n",
       "      <td>84.693702</td>\n",
       "      <td>...</td>\n",
       "      <td>20.220303</td>\n",
       "      <td>74.330351</td>\n",
       "      <td>48.967447</td>\n",
       "      <td>27.634050</td>\n",
       "      <td>34.672814</td>\n",
       "      <td>22.718874</td>\n",
       "      <td>59.089874</td>\n",
       "      <td>105.792997</td>\n",
       "      <td>50.564148</td>\n",
       "      <td>4.604496e+01</td>\n",
       "    </tr>\n",
       "    <tr>\n",
       "      <th>9593</th>\n",
       "      <td>31.245781</td>\n",
       "      <td>58.625466</td>\n",
       "      <td>27.104367</td>\n",
       "      <td>58.437150</td>\n",
       "      <td>34.381061</td>\n",
       "      <td>25.065625</td>\n",
       "      <td>45.465999</td>\n",
       "      <td>34.436192</td>\n",
       "      <td>94.442500</td>\n",
       "      <td>84.623881</td>\n",
       "      <td>...</td>\n",
       "      <td>20.214548</td>\n",
       "      <td>74.202023</td>\n",
       "      <td>44.981415</td>\n",
       "      <td>24.957134</td>\n",
       "      <td>36.495647</td>\n",
       "      <td>23.100699</td>\n",
       "      <td>61.031241</td>\n",
       "      <td>104.894125</td>\n",
       "      <td>48.927082</td>\n",
       "      <td>5.373804e+01</td>\n",
       "    </tr>\n",
       "    <tr>\n",
       "      <th>9594</th>\n",
       "      <td>29.801028</td>\n",
       "      <td>58.452590</td>\n",
       "      <td>29.226776</td>\n",
       "      <td>56.421650</td>\n",
       "      <td>32.173967</td>\n",
       "      <td>23.725522</td>\n",
       "      <td>42.896721</td>\n",
       "      <td>31.566362</td>\n",
       "      <td>94.379292</td>\n",
       "      <td>83.928434</td>\n",
       "      <td>...</td>\n",
       "      <td>20.208792</td>\n",
       "      <td>71.513150</td>\n",
       "      <td>40.995382</td>\n",
       "      <td>22.280219</td>\n",
       "      <td>38.318480</td>\n",
       "      <td>23.482523</td>\n",
       "      <td>62.972607</td>\n",
       "      <td>103.995252</td>\n",
       "      <td>47.290017</td>\n",
       "      <td>5.516348e+01</td>\n",
       "    </tr>\n",
       "    <tr>\n",
       "      <th>9596</th>\n",
       "      <td>26.911521</td>\n",
       "      <td>54.084507</td>\n",
       "      <td>33.471594</td>\n",
       "      <td>46.077706</td>\n",
       "      <td>30.486678</td>\n",
       "      <td>21.789140</td>\n",
       "      <td>41.265183</td>\n",
       "      <td>28.404342</td>\n",
       "      <td>70.290148</td>\n",
       "      <td>76.594082</td>\n",
       "      <td>...</td>\n",
       "      <td>20.197282</td>\n",
       "      <td>65.865874</td>\n",
       "      <td>33.935904</td>\n",
       "      <td>18.922203</td>\n",
       "      <td>41.964146</td>\n",
       "      <td>20.515690</td>\n",
       "      <td>50.223858</td>\n",
       "      <td>79.538056</td>\n",
       "      <td>44.015886</td>\n",
       "      <td>5.516143e+01</td>\n",
       "    </tr>\n",
       "  </tbody>\n",
       "</table>\n",
       "<p>7944 rows × 25 columns</p>\n",
       "</div>"
      ],
      "text/plain": [
       "      ACCESS-CM2  CAMS-CSM1-0  CanESM5-CanOE  CMCC-CM2-HR4  CNRM-CM6-1-HR  \\\n",
       "0       0.942319     0.479998       1.140655      0.660180       2.706106   \n",
       "1       1.030896     0.420120       1.120143      0.616831       2.168157   \n",
       "2       1.119473     0.360242       1.099632      0.573481       1.644705   \n",
       "3       1.208050     0.300364       1.079121      0.530132       1.976573   \n",
       "4       1.296627     0.240486       1.058609      0.486783       2.301950   \n",
       "...          ...          ...            ...           ...            ...   \n",
       "9591   34.073127    58.971217      22.859548     62.468150      49.405016   \n",
       "9592   32.690535    58.798342      24.981958     60.452650      41.589271   \n",
       "9593   31.245781    58.625466      27.104367     58.437150      34.381061   \n",
       "9594   29.801028    58.452590      29.226776     56.421650      32.173967   \n",
       "9596   26.911521    54.084507      33.471594     46.077706      30.486678   \n",
       "\n",
       "       E3SM-1-0  EC-Earth3-AerChem  FGOALS-f3-L  FIO-ESM-2-0  GFDL-ESM4  ...  \\\n",
       "0      1.176750           0.007037     0.451921     0.060178   0.568221  ...   \n",
       "1      1.144615           0.007261     0.482080     0.056102   0.534466  ...   \n",
       "2      1.112481           0.007485     0.512239     0.052027   0.500710  ...   \n",
       "3      1.080346           0.008325     0.542398     0.047951   0.466955  ...   \n",
       "4      1.048212           0.012241     0.572557     0.043876   0.433200  ...   \n",
       "...         ...                ...          ...          ...        ...  ...   \n",
       "9591  27.745830          57.618589    40.718513    94.568915  84.763523  ...   \n",
       "9592  26.405728          51.542294    37.577353    94.505708  84.693702  ...   \n",
       "9593  25.065625          45.465999    34.436192    94.442500  84.623881  ...   \n",
       "9594  23.725522          42.896721    31.566362    94.379292  83.928434  ...   \n",
       "9596  21.789140          41.265183    28.404342    70.290148  76.594082  ...   \n",
       "\n",
       "      MCM-UA-1-0     MIROC6  MPI-ESM1-2-HR  MRI-ESM2-0      NESM3  NorESM2-MM  \\\n",
       "0      15.386412   1.196963       0.013848    1.112214   0.596841    0.018284   \n",
       "1      15.109906   1.200772       0.033394    1.093325   0.594128    0.022368   \n",
       "2      14.833400   1.204580       0.052939    1.074436   0.591416    0.026452   \n",
       "3      14.556894   1.208389       0.072485    1.055546   0.588704    0.030535   \n",
       "4      14.280388   1.212197       0.112312    1.036657   0.585991    0.034619   \n",
       "...          ...        ...            ...         ...        ...         ...   \n",
       "9591   20.226058  74.458679      51.347647   30.310965  32.866714   22.337050   \n",
       "9592   20.220303  74.330351      48.967447   27.634050  34.672814   22.718874   \n",
       "9593   20.214548  74.202023      44.981415   24.957134  36.495647   23.100699   \n",
       "9594   20.208792  71.513150      40.995382   22.280219  38.318480   23.482523   \n",
       "9596   20.197282  65.865874      33.935904   18.922203  41.964146   20.515690   \n",
       "\n",
       "      SAM0-UNICON     TaiESM1  UKESM1-0-LL        chirps  \n",
       "0        0.230899    0.031408     0.257650  0.000000e+00  \n",
       "1        0.201091    0.029774     0.284660  0.000000e+00  \n",
       "2        0.171283    0.028139     0.311670  4.302927e-05  \n",
       "3        0.141475    0.026505     0.338680  0.000000e+00  \n",
       "4        0.111667    0.024871     0.365691  1.074137e-12  \n",
       "...           ...         ...          ...           ...  \n",
       "9591    57.148507  106.691869    51.931830  3.552129e+01  \n",
       "9592    59.089874  105.792997    50.564148  4.604496e+01  \n",
       "9593    61.031241  104.894125    48.927082  5.373804e+01  \n",
       "9594    62.972607  103.995252    47.290017  5.516348e+01  \n",
       "9596    50.223858   79.538056    44.015886  5.516143e+01  \n",
       "\n",
       "[7944 rows x 25 columns]"
      ]
     },
     "execution_count": 85,
     "metadata": {},
     "output_type": "execute_result"
    }
   ],
   "source": [
    "precip_df"
   ]
  },
  {
   "cell_type": "markdown",
   "metadata": {},
   "source": [
    "# Split The Data randomly "
   ]
  },
  {
   "cell_type": "code",
   "execution_count": 86,
   "metadata": {},
   "outputs": [],
   "source": [
    "x_precipitation_train, x_precipitation_test, y_precipitation_train, y_precipitation_test =  train_test_split(precip_df.drop(['chirps'], axis=1), precip_df['chirps'], test_size=0.2, random_state=9)"
   ]
  },
  {
   "cell_type": "markdown",
   "metadata": {},
   "source": [
    "# Trainig Linear Regression models "
   ]
  },
  {
   "cell_type": "code",
   "execution_count": 92,
   "metadata": {},
   "outputs": [
    {
     "data": {
      "text/plain": [
       "(8988    34.024447\n",
       " 5330     1.166393\n",
       " 6220     2.529853\n",
       " 2518     0.033107\n",
       " 4714     0.391663\n",
       "           ...    \n",
       " 7422    15.728080\n",
       " 539      1.166168\n",
       " 8286    77.839567\n",
       " 4784     1.773559\n",
       " 412      0.032496\n",
       " Name: chirps, Length: 6355, dtype: float64,\n",
       "       ACCESS-CM2  CAMS-CSM1-0  CanESM5-CanOE  CMCC-CM2-HR4  CNRM-CM6-1-HR  \\\n",
       " 8988   32.726255    49.956537      13.797663     59.954296      81.043403   \n",
       " 5330   14.559335     5.111159       4.051994      8.020213      16.615312   \n",
       " 6220   22.090432     6.421058       7.610443     19.448293      33.959292   \n",
       " 2518    6.388229     9.573423       1.630961      6.047865      22.328081   \n",
       " 4714    2.602384     2.077429       3.350926      3.854963       7.521775   \n",
       " ...          ...          ...            ...           ...            ...   \n",
       " 7422   35.627873    33.287668       8.472311     32.378446      93.877266   \n",
       " 539     6.952420    11.662367       1.893039      9.448684      12.326389   \n",
       " 8286   54.885868    47.752843      42.988230     51.364779      92.834663   \n",
       " 4784   16.731032     9.947217       5.181354     18.872192      30.536954   \n",
       " 412     4.090131     2.942613       1.708738      3.998402       4.473756   \n",
       " \n",
       "        E3SM-1-0  EC-Earth3-AerChem  FGOALS-f3-L  FIO-ESM-2-0  GFDL-ESM4  ...  \\\n",
       " 8988  33.264372          47.800721    35.911055    61.286933  58.548670  ...   \n",
       " 5330  15.605507          13.701268     4.123290     2.667586   8.592177  ...   \n",
       " 6220  16.200497          16.891224     7.935869     2.055464  11.535917  ...   \n",
       " 2518   5.500058           6.321384     5.361376     0.394969   4.251819  ...   \n",
       " 4714  11.463457           2.246949     2.557405     0.377681   2.654829  ...   \n",
       " ...         ...                ...          ...          ...        ...  ...   \n",
       " 7422  32.473112          36.354878    20.484839     5.739850  38.029790  ...   \n",
       " 539    8.007481           8.601685     3.360594     0.350938   2.342624  ...   \n",
       " 8286  54.502764          79.833532    50.239756    42.258482  76.659792  ...   \n",
       " 4784  12.319908          10.395997     7.676524     1.191982  11.145840  ...   \n",
       " 412    7.079407           1.099198     0.468483     0.115830   0.945773  ...   \n",
       " \n",
       "       IPSL-CM6A-LR  MCM-UA-1-0     MIROC6  MPI-ESM1-2-HR  MRI-ESM2-0  \\\n",
       " 8988     78.713855   15.550442  47.352265      36.221481   48.352037   \n",
       " 5330      3.413683    7.327924  12.041524      11.267496    9.341858   \n",
       " 6220      1.157347   14.583655  12.334880       2.586606   25.967411   \n",
       " 2518      0.579642    6.242728   1.415012       0.099727    9.084063   \n",
       " 4714      0.942744    4.596302   3.864939       0.789265    3.611414   \n",
       " ...            ...         ...        ...            ...         ...   \n",
       " 7422     13.541069   12.942525  18.140602      15.540835   64.540973   \n",
       " 539      16.300223    4.128781   3.574967       0.712493    7.857810   \n",
       " 8286     39.844822   25.227636  45.780938      32.956111   67.297095   \n",
       " 4784      0.815365   11.230509   7.503094       2.212803   20.983042   \n",
       " 412       9.043835    4.518860   2.494196       0.421478    2.384493   \n",
       " \n",
       "           NESM3  NorESM2-MM  SAM0-UNICON    TaiESM1  UKESM1-0-LL  \n",
       " 8988  22.522330   12.768912    39.672704  66.078705    29.438755  \n",
       " 5330   3.811666    2.372480     4.060163   3.911272     8.565633  \n",
       " 6220   2.430860    1.988573     1.175478   2.396435     6.528053  \n",
       " 2518   5.767889    0.731613     0.939180   0.060236     0.343593  \n",
       " 4714   1.402880    0.368626     0.682628   0.576315     3.190069  \n",
       " ...         ...         ...          ...        ...          ...  \n",
       " 7422   6.004924    4.492303     5.589596   6.236964    10.083838  \n",
       " 539    2.331997    0.247836     1.161411   0.486949     6.107781  \n",
       " 8286  27.461216   38.539791    55.267099  56.704392    46.075009  \n",
       " 4784   4.695589    0.871425     0.757535   0.534251     2.969517  \n",
       " 412    0.549467    0.069174     0.583817   0.274679     4.629407  \n",
       " \n",
       " [6355 rows x 24 columns],\n",
       " ACCESS-CM2           15.735100\n",
       " CAMS-CSM1-0          16.274945\n",
       " CanESM5-CanOE         8.515336\n",
       " CMCC-CM2-HR4         16.764641\n",
       " CNRM-CM6-1-HR        41.243973\n",
       " E3SM-1-0             16.640001\n",
       " EC-Earth3-AerChem    17.388453\n",
       " FGOALS-f3-L          13.442926\n",
       " FIO-ESM-2-0           7.513843\n",
       " GFDL-ESM4            16.759272\n",
       " GISS-E2-1-H          20.761508\n",
       " HadGEM3-GC31-LL       9.570962\n",
       " IITM-ESM             15.742930\n",
       " INM-CM5-0             9.120372\n",
       " IPSL-CM6A-LR         11.551087\n",
       " MCM-UA-1-0            9.287717\n",
       " MIROC6               15.011572\n",
       " MPI-ESM1-2-HR         8.726044\n",
       " MRI-ESM2-0           21.475581\n",
       " NESM3                 6.507999\n",
       " NorESM2-MM            4.376991\n",
       " SAM0-UNICON           8.899654\n",
       " TaiESM1               8.706741\n",
       " UKESM1-0-LL           9.780507\n",
       " dtype: float64)"
      ]
     },
     "execution_count": 92,
     "metadata": {},
     "output_type": "execute_result"
    }
   ],
   "source": [
    "y_precipitation_train, x_precipitation_train, baseline_train_res"
   ]
  },
  {
   "cell_type": "code",
   "execution_count": 93,
   "metadata": {},
   "outputs": [],
   "source": [
    "# baseline model\n",
    "baseline_train_res = np.mean(x_precipitation_train, axis=1)\n",
    "baseline_test_res = np.mean(x_precipitation_test, axis=1)"
   ]
  },
  {
   "cell_type": "code",
   "execution_count": 94,
   "metadata": {},
   "outputs": [
    {
     "name": "stdout",
     "output_type": "stream",
     "text": [
      "Baseline train RMSE: 8.144410680163302\n",
      "Baseline test RMSE: 8.111157503085456\n",
      "Baseline train R2: 0.8151279409607312\n",
      "Baseline test R2: 0.8216916777823892\n"
     ]
    }
   ],
   "source": [
    "rmse_baseline_train = root_mean_squared_error(y_precipitation_train, baseline_train_res)\n",
    "rmse_baseline_test = root_mean_squared_error(y_precipitation_test, baseline_test_res)\n",
    "r2_baseline_train = r2_score(y_precipitation_train, baseline_train_res)\n",
    "r2_baseline_test = r2_score(y_precipitation_test, baseline_test_res)\n",
    "print(f\"Baseline train RMSE: {rmse_baseline_train}\")\n",
    "print(f\"Baseline test RMSE: {rmse_baseline_test}\")\n",
    "print(f\"Baseline train R2: {r2_baseline_train}\")\n",
    "print(f\"Baseline test R2: {r2_baseline_test}\")"
   ]
  },
  {
   "cell_type": "code",
   "execution_count": 96,
   "metadata": {},
   "outputs": [
    {
     "name": "stdout",
     "output_type": "stream",
     "text": [
      "Naive Linear Regression Model - RMSE: 4.330998765254457, R2: 0.9491627483162609\n"
     ]
    }
   ],
   "source": [
    "# Initialize models for precipitation, chirps, and correlation\n",
    "naive_lr_model_precipitation = LinearRegression()\n",
    "\n",
    "# Train the models on the training data\n",
    "naive_lr_model_precipitation.fit(x_precipitation_train, y_precipitation_train)\n",
    "\n",
    "# Predict the target values on the testing data\n",
    "y_precipitation_pred_naive_lr = naive_lr_model_precipitation.predict(x_precipitation_test)\n",
    "\n",
    "# Evaluate the model performance for precipitation\n",
    "rmse_naive_lr_precipitation = root_mean_squared_error(y_precipitation_test, y_precipitation_pred_naive_lr)\n",
    "r2_naive_lr_precipitation = r2_score(y_precipitation_test, y_precipitation_pred_naive_lr)\n",
    "\n",
    "print(f\"Naive Linear Regression Model - RMSE: {rmse_naive_lr_precipitation}, R2: {r2_naive_lr_precipitation}\")"
   ]
  },
  {
   "cell_type": "markdown",
   "metadata": {},
   "source": [
    "Our next steps would be to look at SAL and use it for feature selection."
   ]
  },
  {
   "cell_type": "markdown",
   "metadata": {},
   "source": [
    "# coefficient evaluetion"
   ]
  },
  {
   "cell_type": "code",
   "execution_count": 97,
   "metadata": {},
   "outputs": [],
   "source": [
    "def plot_coefficients(coefficients: np.ndarray, model_names: List[str], title: str):\n",
    "    \"\"\"\n",
    "    Plot the coefficients of the regression model.\n",
    "\n",
    "    Parameters:\n",
    "    -----------\n",
    "    coefficients : np.ndarray\n",
    "        The regression coefficients for each model.\n",
    "        \n",
    "    model_names : List[str]\n",
    "        The names or labels of the models corresponding to the coefficients.\n",
    "\n",
    "    title : str\n",
    "        Title of the plot.\n",
    "    \"\"\"\n",
    "    plt.figure(figsize=(10, 6))\n",
    "    plt.barh(model_names, coefficients, color='skyblue')\n",
    "    plt.xlabel('Coefficient Value')\n",
    "    plt.title(title)\n",
    "    plt.show()"
   ]
  },
  {
   "cell_type": "code",
   "execution_count": 101,
   "metadata": {},
   "outputs": [
    {
     "data": {
      "image/png": "[encoded data removed]",
      "text/plain": [
       "<Figure size 1000x600 with 1 Axes>"
      ]
     },
     "metadata": {},
     "output_type": "display_data"
    }
   ],
   "source": [
    "model_names = x_precipitation_train.columns\n",
    "precipitation_coefficients = naive_lr_model_precipitation.coef_\n",
    "plot_coefficients(precipitation_coefficients, model_names, 'Precipitation Model Coefficients')\n",
    "\n"
   ]
  },
  {
   "cell_type": "code",
   "execution_count": 100,
   "metadata": {},
   "outputs": [
    {
     "data": {
      "text/plain": [
       "array([ 0.06713048, -0.08993396, -0.02910513, -0.18663478,  0.07781557,\n",
       "       -0.22313641,  0.06417442, -0.13879491, -0.45482835,  0.63796468,\n",
       "       -0.02388889, -0.39103614,  0.12704405,  0.01345006,  0.08693886,\n",
       "       -0.29276214,  0.22737149,  0.15553842, -0.07077759, -0.47078586,\n",
       "        1.36021087, -0.10196614,  0.35409513,  0.08261163])"
      ]
     },
     "execution_count": 100,
     "metadata": {},
     "output_type": "execute_result"
    }
   ],
   "source": [
    "naive_lr_model_precipitation.coef_"
   ]
  },
  {
   "cell_type": "code",
   "execution_count": null,
   "metadata": {},
   "outputs": [],
   "source": []
  }
 ],
 "metadata": {
  "kernelspec": {
   "display_name": "local-venv",
   "language": "python",
   "name": "local-venv"
  },
  "language_info": {
   "codemirror_mode": {
    "name": "ipython",
    "version": 3
   },
   "file_extension": ".py",
   "mimetype": "text/x-python",
   "name": "python",
   "nbconvert_exporter": "python",
   "pygments_lexer": "ipython3",
   "version": "3.10.11"
  }
 },
 "nbformat": 4,
 "nbformat_minor": 2
}
