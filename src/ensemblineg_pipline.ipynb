{
 "cells": [
  {
   "cell_type": "code",
   "execution_count": 3,
   "metadata": {},
   "outputs": [],
   "source": [
    "import numpy as np\n",
    "from typing import List\n",
    "from sklearn.linear_model import LinearRegression\n",
    "import matplotlib.pyplot as plt\n",
    "import os \n"
   ]
  },
  {
   "cell_type": "markdown",
   "metadata": {},
   "source": [
    "Create a X Design matrix made in shape (400*600, 24)\n",
    "when each row is a grid point and each feature is a model."
   ]
  },
  {
   "cell_type": "code",
   "execution_count": 4,
   "metadata": {},
   "outputs": [],
   "source": [
    "import numpy as np\n",
    "from typing import List\n",
    "\n",
    "def flatten_models_to_grid_matrix(interpolated_precip_list: List[np.ndarray]) -> np.ndarray:\n",
    "    \"\"\"\n",
    "    Create a design matrix X where each row represents a grid point, and each column \n",
    "    (feature) represents the flattened precipitation data from a different model.\n",
    "\n",
    "    Parameters:\n",
    "    -----------\n",
    "    interpolated_precip_list : List[np.ndarray]\n",
    "        A list of 2D arrays (matrices) with dimensions (400, 600) representing \n",
    "        precipitation data from different models. Each matrix corresponds to a different \n",
    "        model.\n",
    "\n",
    "    Returns:\n",
    "    --------\n",
    "    np.ndarray\n",
    "        A 2D array (design matrix X) of shape (240000, num_models), where:\n",
    "        - Each row corresponds to a specific grid point across all models.\n",
    "        - Each column corresponds to the precipitation data for that grid point from \n",
    "          a particular model.\n",
    "\n",
    "    Notes:\n",
    "    ------\n",
    "    - The output design matrix is of shape (240000, num_models), where:\n",
    "        - 240,000 = 400 * 600 represents all grid points.\n",
    "        - num_models is the number of models, i.e., the length of the input list.\n",
    "    - Each row in the matrix corresponds to a unique grid point from the (400, 600) \n",
    "      grid, and each feature (column) corresponds to one of the models.\n",
    "    \"\"\"\n",
    "    \n",
    "    # Number of models and number of grid points\n",
    "    num_models = len(interpolated_precip_list)\n",
    "    num_grid_points = 400 * 600\n",
    "\n",
    "    # Initialize an empty matrix to store the reshaped data\n",
    "    X = np.zeros((num_grid_points, num_models))\n",
    "\n",
    "    # Loop over each model's matrix and reshape it into a vector\n",
    "    for i, precip_matrix in enumerate(interpolated_precip_list):\n",
    "        # Reshape each (400, 600) matrix to (240000,) and assign it to the ith column\n",
    "        X[:, i] = precip_matrix.reshape(-1)\n",
    "\n",
    "    return X\n"
   ]
  },
  {
   "cell_type": "markdown",
   "metadata": {},
   "source": [
    "# Flatening the Data and Training the Models"
   ]
  },
  {
   "cell_type": "code",
   "execution_count": 5,
   "metadata": {},
   "outputs": [],
   "source": [
    "# get correlation and precipitation data in 24-sized list \n",
    "models_precipitation : list[np.ndarray] = []\n",
    "models_correlation : list[np.ndarray] = []\n",
    "# TODO we need to see how to separate to test and train so it make sense\n",
    "X_precipitation : np.ndarray = flatten_models_to_grid_matrix(models_precipitation)\n",
    "X_correlation : np.ndarray = flatten_models_to_grid_matrix(models_correlation)\n",
    "\n",
    "y_precipitation : np.ndarray = np.mean(X_precipitation, axis=1)\n",
    "y_correlation : np.ndarray = np.mean(X_correlation, axis=1)\n",
    "\n",
    "reg_model_precipitation = LinearRegression()\n",
    "reg_model_correlation = LinearRegression()\n",
    "\n",
    "reg_model_precipitation.fit(X_precipitation, y_precipitation)\n",
    "reg_model_correlation.fit(X_correlation, y_correlation)\n",
    "\n",
    "    "
   ]
  },
  {
   "cell_type": "markdown",
   "metadata": {},
   "source": [
    "# coefficient evaluetion"
   ]
  },
  {
   "cell_type": "code",
   "execution_count": 6,
   "metadata": {},
   "outputs": [],
   "source": [
    "\n",
    "def plot_coefficients(coefficients: np.ndarray, model_names: List[str], title: str):\n",
    "    \"\"\"\n",
    "    Plot the coefficients of the regression model.\n",
    "\n",
    "    Parameters:\n",
    "    -----------\n",
    "    coefficients : np.ndarray\n",
    "        The regression coefficients for each model.\n",
    "        \n",
    "    model_names : List[str]\n",
    "        The names or labels of the models corresponding to the coefficients.\n",
    "\n",
    "    title : str\n",
    "        Title of the plot.\n",
    "    \"\"\"\n",
    "    plt.figure(figsize=(10, 6))\n",
    "    plt.barh(model_names, coefficients, color='skyblue')\n",
    "    plt.xlabel('Coefficient Value')\n",
    "    plt.title(title)\n",
    "    plt.show()"
   ]
  },
  {
   "cell_type": "code",
   "execution_count": 18,
   "metadata": {},
   "outputs": [
    {
     "ename": "NameError",
     "evalue": "name 'precipitation_coefficients' is not defined",
     "output_type": "error",
     "traceback": [
      "\u001b[1;31m---------------------------------------------------------------------------\u001b[0m",
      "\u001b[1;31mNameError\u001b[0m                                 Traceback (most recent call last)",
      "Cell \u001b[1;32mIn[18], line 3\u001b[0m\n\u001b[0;32m      1\u001b[0m CMIP_PATH \u001b[38;5;241m=\u001b[39m os\u001b[38;5;241m.\u001b[39mpath\u001b[38;5;241m.\u001b[39mjoin(\u001b[38;5;124m'\u001b[39m\u001b[38;5;124m..\u001b[39m\u001b[38;5;124m'\u001b[39m,\u001b[38;5;124m'\u001b[39m\u001b[38;5;124mData\u001b[39m\u001b[38;5;124m'\u001b[39m,\u001b[38;5;124m'\u001b[39m\u001b[38;5;124mCMIP6\u001b[39m\u001b[38;5;124m'\u001b[39m,\u001b[38;5;124m'\u001b[39m\u001b[38;5;124mPrecipitation\u001b[39m\u001b[38;5;124m'\u001b[39m)\n\u001b[0;32m      2\u001b[0m model_names \u001b[38;5;241m=\u001b[39m [\u001b[38;5;124mf\u001b[39m\u001b[38;5;124m'\u001b[39m\u001b[38;5;124mModel \u001b[39m\u001b[38;5;132;01m{\u001b[39;00mmodel_name\u001b[38;5;132;01m}\u001b[39;00m\u001b[38;5;124m'\u001b[39m \u001b[38;5;28;01mfor\u001b[39;00m model_name \u001b[38;5;129;01min\u001b[39;00m os\u001b[38;5;241m.\u001b[39mlistdir(CMIP_PATH)]  \u001b[38;5;66;03m# Replace with actual model names if available\u001b[39;00m\n\u001b[1;32m----> 3\u001b[0m plot_coefficients(\u001b[43mprecipitation_coefficients\u001b[49m, model_names, \u001b[38;5;124m'\u001b[39m\u001b[38;5;124mPrecipitation Model Coefficients\u001b[39m\u001b[38;5;124m'\u001b[39m)\n\u001b[0;32m      4\u001b[0m plot_coefficients(correlation_coefficients, model_names, \u001b[38;5;124m'\u001b[39m\u001b[38;5;124mCorrelation Model Coefficients\u001b[39m\u001b[38;5;124m'\u001b[39m)\n",
      "\u001b[1;31mNameError\u001b[0m: name 'precipitation_coefficients' is not defined"
     ]
    }
   ],
   "source": [
    "CMIP_PATH = os.path.join('..','Data','CMIP6','Precipitation')\n",
    "model_names = [f'Model {model_name}' for model_name in os.listdir(CMIP_PATH)]  # Replace with actual model names if available\n",
    "plot_coefficients(precipitation_coefficients, model_names, 'Precipitation Model Coefficients')\n",
    "plot_coefficients(correlation_coefficients, model_names, 'Correlation Model Coefficients')\n"
   ]
  },
  {
   "cell_type": "code",
   "execution_count": null,
   "metadata": {},
   "outputs": [],
   "source": []
  },
  {
   "cell_type": "code",
   "execution_count": null,
   "metadata": {},
   "outputs": [],
   "source": []
  }
 ],
 "metadata": {
  "kernelspec": {
   "display_name": "dslab",
   "language": "python",
   "name": "dslab"
  },
  "language_info": {
   "codemirror_mode": {
    "name": "ipython",
    "version": 3
   },
   "file_extension": ".py",
   "mimetype": "text/x-python",
   "name": "python",
   "nbconvert_exporter": "python",
   "pygments_lexer": "ipython3",
   "version": "3.10.11"
  }
 },
 "nbformat": 4,
 "nbformat_minor": 2
}
