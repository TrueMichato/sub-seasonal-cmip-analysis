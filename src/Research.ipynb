{
 "cells": [
  {
   "cell_type": "code",
   "execution_count": 1,
   "id": "8895574b",
   "metadata": {},
   "outputs": [],
   "source": [
    "import netCDF4 as nc\n",
    "import os\n",
    "import numpy as np\n",
    "import matplotlib.pyplot as plt\n",
    "from mpl_toolkits.basemap import Basemap\n",
    "import cartopy.crs as ccrs\n",
    "import cartopy.feature as cfeature\n",
    "import scipy\n",
    "import tqdm\n",
    "import matplotlib.colors as mcolors\n",
    "from helpers import process_h as helper\n",
    "from helpers import visualize_h as vis_helper"
   ]
  },
  {
   "cell_type": "code",
   "execution_count": 2,
   "id": "69954eaa",
   "metadata": {},
   "outputs": [],
   "source": [
    "data_relative_path = os.path.join('..', 'Data')\n",
    "precipitation_path = os.path.join(data_relative_path,'CMIP6','Precipitation')\n",
    "WTIO_path = os.path.join(data_relative_path,'CMIP6','WTIO')\n",
    "SEIO_path = os.path.join(data_relative_path,'CMIP6','SEIO')"
   ]
  },
  {
   "cell_type": "code",
   "execution_count": 11,
   "id": "f3c3371d",
   "metadata": {},
   "outputs": [],
   "source": [
    "unit_conversion = 86400 * 31\n",
    "bounds_lat = [20, 40]\n",
    "bounds_lon = [20, 50]\n",
    "boundaries = bounds_lon + bounds_lat\n",
    "dim = (30, 30)\n",
    "grid = (20, 30)"
   ]
  },
  {
   "cell_type": "markdown",
   "id": "cb389aa1",
   "metadata": {},
   "source": [
    "First we need to load the data."
   ]
  },
  {
   "cell_type": "code",
   "execution_count": 4,
   "id": "e5d12766",
   "metadata": {},
   "outputs": [
    {
     "name": "stderr",
     "output_type": "stream",
     "text": [
      " 12%|██████████▌                                                                         | 3/24 [00:00<00:01, 10.71it/s]"
     ]
    },
    {
     "name": "stdout",
     "output_type": "stream",
     "text": [
      "tos_Omon_ACCESS-CM2_historical_r1i1p1f1_gn_19811016-20101016_v20191108.nc\n",
      "tos_Omon_CAMS-CSM1-0_historical_r1i1p1f1_gn_19811016-20101016_v20190708.nc\n",
      "tos_Omon_CanESM5-CanOE_historical_r1i1p2f1_gn_19811016-20101016_v20190429.nc\n"
     ]
    },
    {
     "name": "stderr",
     "output_type": "stream",
     "text": [
      "\r",
      " 21%|█████████████████▌                                                                  | 5/24 [00:00<00:02,  8.18it/s]"
     ]
    },
    {
     "name": "stdout",
     "output_type": "stream",
     "text": [
      "tos_Omon_CMCC-CM2-HR4_historical_r1i1p1f1_gn_19811016-20101016_v20200904.nc\n",
      "tos_Omon_CNRM-CM6-1-HR_historical_r1i1p1f2_gn_19811016-20101016_v20191021.nc\n",
      "tos_Omon_E3SM-1-0_historical_r1i1p1f1_gr_19811016-20101016_v20190826.nc\n"
     ]
    },
    {
     "name": "stderr",
     "output_type": "stream",
     "text": [
      "\r",
      " 29%|████████████████████████▌                                                           | 7/24 [00:00<00:02,  8.26it/s]"
     ]
    },
    {
     "name": "stdout",
     "output_type": "stream",
     "text": [
      "tos_Omon_EC-Earth3-AerChem_historical_r1i1p1f1_gn_19811016-20101016_v20200624.nc\n",
      "tos_Omon_FGOALS-f3-L_historical_r1i1p1f1_gn_19811016-20101016_v20191007.nc\n"
     ]
    },
    {
     "name": "stderr",
     "output_type": "stream",
     "text": [
      " 46%|██████████████████████████████████████                                             | 11/24 [00:01<00:01,  9.01it/s]"
     ]
    },
    {
     "name": "stdout",
     "output_type": "stream",
     "text": [
      "tos_Omon_FIO-ESM-2-0_historical_r1i1p1f1_gn_19811016-20101016_v20191122.nc\n",
      "tos_Omon_GFDL-ESM4_historical_r1i1p1f1_gr_19811016-20101016_v20190726.nc\n",
      "tos_Omon_GISS-E2-1-H_historical_r1i1p1f1_gn_19811016-20101016_v20190403.nc\n"
     ]
    },
    {
     "name": "stderr",
     "output_type": "stream",
     "text": [
      "\r",
      " 54%|████████████████████████████████████████████▉                                      | 13/24 [00:01<00:01,  9.94it/s]"
     ]
    },
    {
     "name": "stdout",
     "output_type": "stream",
     "text": [
      "tos_Omon_HadGEM3-GC31-LL_historical_r1i1p1f3_gn_19811016-20101016_v20190624.nc\n",
      "tos_Omon_IITM-ESM_historical_r1i1p1f1_gn_19811016-20101016_v20200915.nc\n",
      "tos_Omon_INM-CM5-0_historical_r1i1p1f1_gr1_19811016-20101016_v20190610.nc\n"
     ]
    },
    {
     "name": "stderr",
     "output_type": "stream",
     "text": [
      "\r",
      " 62%|███████████████████████████████████████████████████▉                               | 15/24 [00:01<00:00, 10.51it/s]"
     ]
    },
    {
     "name": "stdout",
     "output_type": "stream",
     "text": [
      "tos_Omon_IPSL-CM6A-LR_historical_r1i1p1f1_gn_19811016-20101016_v20180803.nc\n",
      "tos_Omon_MCM-UA-1-0_historical_r0i0p0f2_gn_19811017-20101017_v20190731.nc\n"
     ]
    },
    {
     "name": "stderr",
     "output_type": "stream",
     "text": [
      "\r",
      " 71%|██████████████████████████████████████████████████████████▊                        | 17/24 [00:01<00:00,  9.56it/s]"
     ]
    },
    {
     "name": "stdout",
     "output_type": "stream",
     "text": [
      "tos_Omon_MIROC6_historical_r1i1p1f1_gn_19811016-20101016_v20181212.nc\n"
     ]
    },
    {
     "name": "stderr",
     "output_type": "stream",
     "text": [
      " 83%|█████████████████████████████████████████████████████████████████████▏             | 20/24 [00:02<00:00,  8.61it/s]"
     ]
    },
    {
     "name": "stdout",
     "output_type": "stream",
     "text": [
      "tos_Omon_MPI-ESM1-2-HR_historical_r1i1p1f1_gn_19811016-20101016_v20190710.nc\n",
      "tos_Omon_MRI-ESM2-0_historical_r1i1p1f1_gr_19811016-20101016_v20190904.nc\n",
      "tos_Omon_NESM3_historical_r1i1p1f1_gn_19811016-20101016_v20190703.nc\n"
     ]
    },
    {
     "name": "stderr",
     "output_type": "stream",
     "text": [
      " 92%|████████████████████████████████████████████████████████████████████████████       | 22/24 [00:02<00:00,  6.99it/s]"
     ]
    },
    {
     "name": "stdout",
     "output_type": "stream",
     "text": [
      "tos_Omon_NorESM2-MM_historical_r1i1p1f1_gn_19811016-20101016_v20191108.nc\n",
      "tos_Omon_SAM0-UNICON_historical_r1i1p1f1_gn_19811016-20101016_v20190323.nc\n"
     ]
    },
    {
     "name": "stderr",
     "output_type": "stream",
     "text": [
      "100%|███████████████████████████████████████████████████████████████████████████████████| 24/24 [00:02<00:00,  8.27it/s]\n"
     ]
    },
    {
     "name": "stdout",
     "output_type": "stream",
     "text": [
      "tos_Omon_TaiESM1_historical_r1i1p1f1_gn_19811016-20101016_v20200630.nc\n",
      "tos_Omon_UKESM1-0-LL_historical_r1i1p1f2_gn_19811016-20101016_v20190627.nc\n"
     ]
    },
    {
     "name": "stderr",
     "output_type": "stream",
     "text": [
      "  8%|███████                                                                             | 2/24 [00:00<00:01, 12.35it/s]"
     ]
    },
    {
     "name": "stdout",
     "output_type": "stream",
     "text": [
      "tos_Omon_ACCESS-CM2_historical_r1i1p1f1_gn_19811016-20101016_v20191108.nc\n",
      "tos_Omon_CAMS-CSM1-0_historical_r1i1p1f1_gn_19811016-20101016_v20190708.nc\n",
      "tos_Omon_CanESM5-CanOE_historical_r1i1p2f1_gn_19811016-20101016_v20190429.nc\n"
     ]
    },
    {
     "name": "stderr",
     "output_type": "stream",
     "text": [
      " 21%|█████████████████▌                                                                  | 5/24 [00:00<00:02,  8.63it/s]"
     ]
    },
    {
     "name": "stdout",
     "output_type": "stream",
     "text": [
      "tos_Omon_CMCC-CM2-HR4_historical_r1i1p1f1_gn_19811016-20101016_v20200904.nc\n",
      "tos_Omon_CNRM-CM6-1-HR_historical_r1i1p1f2_gn_19811016-20101016_v20191021.nc\n",
      "tos_Omon_E3SM-1-0_historical_r1i1p1f1_gr_19811016-20101016_v20190826.nc\n"
     ]
    },
    {
     "name": "stderr",
     "output_type": "stream",
     "text": [
      " 38%|███████████████████████████████▌                                                    | 9/24 [00:00<00:01, 10.25it/s]"
     ]
    },
    {
     "name": "stdout",
     "output_type": "stream",
     "text": [
      "tos_Omon_EC-Earth3-AerChem_historical_r1i1p1f1_gn_19811016-20101016_v20200624.nc\n",
      "tos_Omon_FGOALS-f3-L_historical_r1i1p1f1_gn_19811016-20101016_v20191007.nc\n",
      "tos_Omon_FIO-ESM-2-0_historical_r1i1p1f1_gn_19811016-20101016_v20191122.nc\n"
     ]
    },
    {
     "name": "stderr",
     "output_type": "stream",
     "text": [
      "\r",
      " 46%|██████████████████████████████████████                                             | 11/24 [00:01<00:01, 10.72it/s]"
     ]
    },
    {
     "name": "stdout",
     "output_type": "stream",
     "text": [
      "tos_Omon_GFDL-ESM4_historical_r1i1p1f1_gr_19811016-20101016_v20190726.nc\n",
      "tos_Omon_GISS-E2-1-H_historical_r1i1p1f1_gn_19811016-20101016_v20190403.nc\n",
      "tos_Omon_HadGEM3-GC31-LL_historical_r1i1p1f3_gn_19811016-20101016_v20190624.nc\n"
     ]
    },
    {
     "name": "stderr",
     "output_type": "stream",
     "text": [
      " 62%|███████████████████████████████████████████████████▉                               | 15/24 [00:01<00:00, 11.63it/s]"
     ]
    },
    {
     "name": "stdout",
     "output_type": "stream",
     "text": [
      "tos_Omon_IITM-ESM_historical_r1i1p1f1_gn_19811016-20101016_v20200915.nc\n",
      "tos_Omon_INM-CM5-0_historical_r1i1p1f1_gr1_19811016-20101016_v20190610.nc\n",
      "tos_Omon_IPSL-CM6A-LR_historical_r1i1p1f1_gn_19811016-20101016_v20180803.nc\n"
     ]
    },
    {
     "name": "stderr",
     "output_type": "stream",
     "text": [
      "\r",
      " 71%|██████████████████████████████████████████████████████████▊                        | 17/24 [00:01<00:00, 11.60it/s]"
     ]
    },
    {
     "name": "stdout",
     "output_type": "stream",
     "text": [
      "tos_Omon_MCM-UA-1-0_historical_r0i0p0f2_gn_19811017-20101017_v20190731.nc\n",
      "tos_Omon_MIROC6_historical_r1i1p1f1_gn_19811016-20101016_v20181212.nc\n"
     ]
    },
    {
     "name": "stderr",
     "output_type": "stream",
     "text": [
      "\r",
      " 79%|█████████████████████████████████████████████████████████████████▋                 | 19/24 [00:01<00:00, 10.92it/s]"
     ]
    },
    {
     "name": "stdout",
     "output_type": "stream",
     "text": [
      "tos_Omon_MPI-ESM1-2-HR_historical_r1i1p1f1_gn_19811016-20101016_v20190710.nc\n",
      "tos_Omon_MRI-ESM2-0_historical_r1i1p1f1_gr_19811016-20101016_v20190904.nc\n",
      "tos_Omon_NESM3_historical_r1i1p1f1_gn_19811016-20101016_v20190703.nc\n"
     ]
    },
    {
     "name": "stderr",
     "output_type": "stream",
     "text": [
      " 96%|███████████████████████████████████████████████████████████████████████████████▌   | 23/24 [00:02<00:00, 10.27it/s]"
     ]
    },
    {
     "name": "stdout",
     "output_type": "stream",
     "text": [
      "tos_Omon_NorESM2-MM_historical_r1i1p1f1_gn_19811016-20101016_v20191108.nc\n",
      "tos_Omon_SAM0-UNICON_historical_r1i1p1f1_gn_19811016-20101016_v20190323.nc\n",
      "tos_Omon_TaiESM1_historical_r1i1p1f1_gn_19811016-20101016_v20200630.nc\n"
     ]
    },
    {
     "name": "stderr",
     "output_type": "stream",
     "text": [
      "\r",
      "100%|███████████████████████████████████████████████████████████████████████████████████| 24/24 [00:02<00:00, 10.43it/s]"
     ]
    },
    {
     "name": "stdout",
     "output_type": "stream",
     "text": [
      "tos_Omon_UKESM1-0-LL_historical_r1i1p1f2_gn_19811016-20101016_v20190627.nc\n"
     ]
    },
    {
     "name": "stderr",
     "output_type": "stream",
     "text": [
      "\n"
     ]
    }
   ],
   "source": [
    "wtio = helper.collect_all_datasets(WTIO_path, 'wtio')\n",
    "seio = helper.collect_all_datasets(SEIO_path, 'seio')"
   ]
  },
  {
   "cell_type": "code",
   "execution_count": 5,
   "id": "d07c52ee",
   "metadata": {},
   "outputs": [
    {
     "name": "stderr",
     "output_type": "stream",
     "text": [
      "100%|███████████████████████████████████████████████████████████████████████████████████| 24/24 [00:01<00:00, 18.60it/s]\n"
     ]
    }
   ],
   "source": [
    "dmi = dict()\n",
    "for key in tqdm.tqdm(wtio.keys()):\n",
    "    wtio_model = wtio[key].variables['tos'][:].reshape(30, -1)\n",
    "    wtio_mean = np.nanmean(wtio_model, axis=1)\n",
    "    seio_model = seio[key].variables['tos'][:].reshape(30, -1)\n",
    "    seio_mean = np.nanmean(seio_model, axis=1)\n",
    "    dmi[key] = wtio_mean - seio_mean"
   ]
  },
  {
   "cell_type": "code",
   "execution_count": 13,
   "id": "cf02f87d",
   "metadata": {},
   "outputs": [
    {
     "name": "stderr",
     "output_type": "stream",
     "text": [
      "  0%|                                                                                            | 0/24 [00:00<?, ?it/s]\n"
     ]
    },
    {
     "name": "stdout",
     "output_type": "stream",
     "text": [
      "pr_Amon_ACCESS-CM2_historical_r1i1p1f1_gn_19811016-20101016_v20191108.nc\n",
      "lat_grid=array([20.        , 21.05263158, 22.10526316, 23.15789474, 24.21052632,\n",
      "       25.26315789, 26.31578947, 27.36842105, 28.42105263, 29.47368421,\n",
      "       30.52631579, 31.57894737, 32.63157895, 33.68421053, 34.73684211,\n",
      "       35.78947368, 36.84210526, 37.89473684, 38.94736842, 40.        ])\n",
      "lon_grid=array([20.        , 21.03448276, 22.06896552, 23.10344828, 24.13793103,\n",
      "       25.17241379, 26.20689655, 27.24137931, 28.27586207, 29.31034483,\n",
      "       30.34482759, 31.37931034, 32.4137931 , 33.44827586, 34.48275862,\n",
      "       35.51724138, 36.55172414, 37.5862069 , 38.62068966, 39.65517241,\n",
      "       40.68965517, 41.72413793, 42.75862069, 43.79310345, 44.82758621,\n",
      "       45.86206897, 46.89655172, 47.93103448, 48.96551724, 50.        ])\n"
     ]
    },
    {
     "ename": "ValueError",
     "evalue": "There are 20 points and 16 values in dimension 0",
     "output_type": "error",
     "traceback": [
      "\u001b[0;31m---------------------------------------------------------------------------\u001b[0m",
      "\u001b[0;31mValueError\u001b[0m                                Traceback (most recent call last)",
      "Cell \u001b[0;32mIn[13], line 1\u001b[0m\n\u001b[0;32m----> 1\u001b[0m precip  \u001b[38;5;241m=\u001b[39m \u001b[43mhelper\u001b[49m\u001b[38;5;241;43m.\u001b[39;49m\u001b[43mcollect_all_datasets\u001b[49m\u001b[43m(\u001b[49m\u001b[43mprecipitation_path\u001b[49m\u001b[43m,\u001b[49m\u001b[43m \u001b[49m\u001b[38;5;124;43m'\u001b[39;49m\u001b[38;5;124;43mprecip\u001b[39;49m\u001b[38;5;124;43m'\u001b[39;49m\u001b[43m,\u001b[49m\u001b[43m \u001b[49m\u001b[43mgrid\u001b[49m\u001b[43m,\u001b[49m\u001b[43m \u001b[49m\u001b[43munit_conversion\u001b[49m\u001b[43m,\u001b[49m\u001b[43m \u001b[49m\u001b[43mbounds_lat\u001b[49m\u001b[43m,\u001b[49m\u001b[43m \u001b[49m\u001b[43mbounds_lon\u001b[49m\u001b[43m,\u001b[49m\u001b[43m \u001b[49m\u001b[38;5;28;43;01mTrue\u001b[39;49;00m\u001b[43m,\u001b[49m\u001b[43m \u001b[49m\u001b[43mgrid\u001b[49m\u001b[43m)\u001b[49m\n",
      "File \u001b[0;32m/mnt/c/Users/user/Documents/University/Year_3/Final Project/sub-seasonal-cmip-analysis/src/helpers/process_h.py:82\u001b[0m, in \u001b[0;36mcollect_all_datasets\u001b[0;34m(dir_path, data_type, target_dim, unit_conversion, bounds_lat, bounds_lon, interpolate, force_grid)\u001b[0m\n\u001b[1;32m     79\u001b[0m \u001b[38;5;28mprint\u001b[39m(\u001b[38;5;124mf\u001b[39m\u001b[38;5;124m\"\u001b[39m\u001b[38;5;132;01m{\u001b[39;00mfilename\u001b[38;5;132;01m}\u001b[39;00m\u001b[38;5;124m\"\u001b[39m)\n\u001b[1;32m     81\u001b[0m \u001b[38;5;28;01mif\u001b[39;00m data_type \u001b[38;5;241m==\u001b[39m \u001b[38;5;124m'\u001b[39m\u001b[38;5;124mprecip\u001b[39m\u001b[38;5;124m'\u001b[39m:\n\u001b[0;32m---> 82\u001b[0m     output[filename\u001b[38;5;241m.\u001b[39msplit(\u001b[38;5;124m\"\u001b[39m\u001b[38;5;124m_\u001b[39m\u001b[38;5;124m\"\u001b[39m)[\u001b[38;5;241m2\u001b[39m]] \u001b[38;5;241m=\u001b[39m \u001b[43mprecip_processing\u001b[49m\u001b[43m(\u001b[49m\u001b[43mdata\u001b[49m\u001b[43m,\u001b[49m\u001b[43m \u001b[49m\u001b[43mtarget_dim\u001b[49m\u001b[43m,\u001b[49m\u001b[43m \u001b[49m\u001b[43munit_conversion\u001b[49m\u001b[43m,\u001b[49m\u001b[43m \u001b[49m\u001b[43mbounds_lat\u001b[49m\u001b[43m,\u001b[49m\u001b[43m \u001b[49m\u001b[43mbounds_lon\u001b[49m\u001b[43m,\u001b[49m\u001b[43m \u001b[49m\u001b[43minterpolate\u001b[49m\u001b[43m,\u001b[49m\u001b[43m \u001b[49m\u001b[43mforce_grid\u001b[49m\u001b[43m)\u001b[49m\n\u001b[1;32m     83\u001b[0m \u001b[38;5;28;01melse\u001b[39;00m:\n\u001b[1;32m     84\u001b[0m     output[filename\u001b[38;5;241m.\u001b[39msplit(\u001b[38;5;124m\"\u001b[39m\u001b[38;5;124m_\u001b[39m\u001b[38;5;124m\"\u001b[39m)[\u001b[38;5;241m2\u001b[39m]] \u001b[38;5;241m=\u001b[39m data\n",
      "File \u001b[0;32m/mnt/c/Users/user/Documents/University/Year_3/Final Project/sub-seasonal-cmip-analysis/src/helpers/process_h.py:44\u001b[0m, in \u001b[0;36mprecip_processing\u001b[0;34m(data, target_dim, unit_conversion, bounds_lat, bounds_lon, interpolate, force_grid)\u001b[0m\n\u001b[1;32m     39\u001b[0m     res_mat \u001b[38;5;241m=\u001b[39m scipy\u001b[38;5;241m.\u001b[39mndimage\u001b[38;5;241m.\u001b[39mzoom(original_matrix, scale_factors, order\u001b[38;5;241m=\u001b[39m\u001b[38;5;241m1\u001b[39m)  \u001b[38;5;66;03m# order=1 for bilinear\u001b[39;00m\n\u001b[1;32m     42\u001b[0m \u001b[38;5;28;01melse\u001b[39;00m:\n\u001b[1;32m     43\u001b[0m     \u001b[38;5;66;03m# Upsample the matrix\u001b[39;00m\n\u001b[0;32m---> 44\u001b[0m     interpolator \u001b[38;5;241m=\u001b[39m \u001b[43mscipy\u001b[49m\u001b[38;5;241;43m.\u001b[39;49m\u001b[43minterpolate\u001b[49m\u001b[38;5;241;43m.\u001b[39;49m\u001b[43mRegularGridInterpolator\u001b[49m\u001b[43m(\u001b[49m\u001b[43m(\u001b[49m\u001b[43mlat_grid\u001b[49m\u001b[43m,\u001b[49m\u001b[43m \u001b[49m\u001b[43mlon_grid\u001b[49m\u001b[43m)\u001b[49m\u001b[43m,\u001b[49m\u001b[43m \u001b[49m\u001b[43mmm_avg_lat_lon\u001b[49m\u001b[43m,\u001b[49m\u001b[43m \u001b[49m\u001b[43mmethod\u001b[49m\u001b[38;5;241;43m=\u001b[39;49m\u001b[38;5;124;43m'\u001b[39;49m\u001b[38;5;124;43mslinear\u001b[39;49m\u001b[38;5;124;43m'\u001b[39;49m\u001b[43m)\u001b[49m\n\u001b[1;32m     46\u001b[0m     new_lat_grid \u001b[38;5;241m=\u001b[39m np\u001b[38;5;241m.\u001b[39mlinspace(bounds_lat[\u001b[38;5;241m0\u001b[39m], bounds_lat[\u001b[38;5;241m1\u001b[39m], target_dim[\u001b[38;5;241m0\u001b[39m])\n\u001b[1;32m     47\u001b[0m     new_lon_grid \u001b[38;5;241m=\u001b[39m np\u001b[38;5;241m.\u001b[39mlinspace(bounds_lon[\u001b[38;5;241m0\u001b[39m], bounds_lon[\u001b[38;5;241m1\u001b[39m], target_dim[\u001b[38;5;241m1\u001b[39m])\n",
      "File \u001b[0;32m~/.pyenv/versions/3.10.11/envs/dsproj/lib/python3.10/site-packages/scipy/interpolate/_rgi.py:284\u001b[0m, in \u001b[0;36mRegularGridInterpolator.__init__\u001b[0;34m(self, points, values, method, bounds_error, fill_value, solver, solver_args)\u001b[0m\n\u001b[1;32m    282\u001b[0m \u001b[38;5;28mself\u001b[39m\u001b[38;5;241m.\u001b[39mgrid, \u001b[38;5;28mself\u001b[39m\u001b[38;5;241m.\u001b[39m_descending_dimensions \u001b[38;5;241m=\u001b[39m _check_points(points)\n\u001b[1;32m    283\u001b[0m \u001b[38;5;28mself\u001b[39m\u001b[38;5;241m.\u001b[39mvalues \u001b[38;5;241m=\u001b[39m \u001b[38;5;28mself\u001b[39m\u001b[38;5;241m.\u001b[39m_check_values(values)\n\u001b[0;32m--> 284\u001b[0m \u001b[38;5;28;43mself\u001b[39;49m\u001b[38;5;241;43m.\u001b[39;49m\u001b[43m_check_dimensionality\u001b[49m\u001b[43m(\u001b[49m\u001b[38;5;28;43mself\u001b[39;49m\u001b[38;5;241;43m.\u001b[39;49m\u001b[43mgrid\u001b[49m\u001b[43m,\u001b[49m\u001b[43m \u001b[49m\u001b[38;5;28;43mself\u001b[39;49m\u001b[38;5;241;43m.\u001b[39;49m\u001b[43mvalues\u001b[49m\u001b[43m)\u001b[49m\n\u001b[1;32m    285\u001b[0m \u001b[38;5;28mself\u001b[39m\u001b[38;5;241m.\u001b[39mfill_value \u001b[38;5;241m=\u001b[39m \u001b[38;5;28mself\u001b[39m\u001b[38;5;241m.\u001b[39m_check_fill_value(\u001b[38;5;28mself\u001b[39m\u001b[38;5;241m.\u001b[39mvalues, fill_value)\n\u001b[1;32m    286\u001b[0m \u001b[38;5;28;01mif\u001b[39;00m \u001b[38;5;28mself\u001b[39m\u001b[38;5;241m.\u001b[39m_descending_dimensions:\n",
      "File \u001b[0;32m~/.pyenv/versions/3.10.11/envs/dsproj/lib/python3.10/site-packages/scipy/interpolate/_rgi.py:316\u001b[0m, in \u001b[0;36mRegularGridInterpolator._check_dimensionality\u001b[0;34m(self, grid, values)\u001b[0m\n\u001b[1;32m    315\u001b[0m \u001b[38;5;28;01mdef\u001b[39;00m \u001b[38;5;21m_check_dimensionality\u001b[39m(\u001b[38;5;28mself\u001b[39m, grid, values):\n\u001b[0;32m--> 316\u001b[0m     \u001b[43m_check_dimensionality\u001b[49m\u001b[43m(\u001b[49m\u001b[43mgrid\u001b[49m\u001b[43m,\u001b[49m\u001b[43m \u001b[49m\u001b[43mvalues\u001b[49m\u001b[43m)\u001b[49m\n",
      "File \u001b[0;32m~/.pyenv/versions/3.10.11/envs/dsproj/lib/python3.10/site-packages/scipy/interpolate/_rgi.py:49\u001b[0m, in \u001b[0;36m_check_dimensionality\u001b[0;34m(points, values)\u001b[0m\n\u001b[1;32m     46\u001b[0m     \u001b[38;5;28;01mraise\u001b[39;00m \u001b[38;5;167;01mValueError\u001b[39;00m(\u001b[38;5;124m\"\u001b[39m\u001b[38;5;124mThe points in dimension \u001b[39m\u001b[38;5;132;01m%d\u001b[39;00m\u001b[38;5;124m must be \u001b[39m\u001b[38;5;124m\"\u001b[39m\n\u001b[1;32m     47\u001b[0m                      \u001b[38;5;124m\"\u001b[39m\u001b[38;5;124m1-dimensional\u001b[39m\u001b[38;5;124m\"\u001b[39m \u001b[38;5;241m%\u001b[39m i)\n\u001b[1;32m     48\u001b[0m \u001b[38;5;28;01mif\u001b[39;00m \u001b[38;5;129;01mnot\u001b[39;00m values\u001b[38;5;241m.\u001b[39mshape[i] \u001b[38;5;241m==\u001b[39m \u001b[38;5;28mlen\u001b[39m(p):\n\u001b[0;32m---> 49\u001b[0m     \u001b[38;5;28;01mraise\u001b[39;00m \u001b[38;5;167;01mValueError\u001b[39;00m(\u001b[38;5;124m\"\u001b[39m\u001b[38;5;124mThere are \u001b[39m\u001b[38;5;132;01m%d\u001b[39;00m\u001b[38;5;124m points and \u001b[39m\u001b[38;5;132;01m%d\u001b[39;00m\u001b[38;5;124m values in \u001b[39m\u001b[38;5;124m\"\u001b[39m\n\u001b[1;32m     50\u001b[0m                      \u001b[38;5;124m\"\u001b[39m\u001b[38;5;124mdimension \u001b[39m\u001b[38;5;132;01m%d\u001b[39;00m\u001b[38;5;124m\"\u001b[39m \u001b[38;5;241m%\u001b[39m (\u001b[38;5;28mlen\u001b[39m(p), values\u001b[38;5;241m.\u001b[39mshape[i], i))\n",
      "\u001b[0;31mValueError\u001b[0m: There are 20 points and 16 values in dimension 0"
     ]
    }
   ],
   "source": [
    "precip  = helper.collect_all_datasets(precipitation_path, 'precip', grid, unit_conversion, bounds_lat, bounds_lon, True, grid)"
   ]
  },
  {
   "cell_type": "code",
   "execution_count": null,
   "id": "dce4b6eb",
   "metadata": {},
   "outputs": [],
   "source": [
    "corrs = dict()\n",
    "for key in tqdm.tqdm(precip.keys()):\n",
    "    corr_mat = helper.calc_dmi_precp_corr_vec(dmi[key], precip[key])\n",
    "    corrs[key] = corr_mat"
   ]
  },
  {
   "cell_type": "code",
   "execution_count": null,
   "id": "b03df3f1",
   "metadata": {},
   "outputs": [],
   "source": [
    "alpha = 0.05\n",
    "tested_corrs = {key: np.where(helper.calc_corr_t_test(corr_map) > alpha, 0, corr_map) for key, corr_map in corrs.items()}"
   ]
  },
  {
   "cell_type": "code",
   "execution_count": null,
   "id": "5599cd78",
   "metadata": {},
   "outputs": [],
   "source": [
    "fig, axes = plt.subplots(6, 4, figsize=(20, 30), subplot_kw={'projection': ccrs.PlateCarree()})\n",
    "fig.tight_layout()\n",
    "mats = list(corrs.values())\n",
    "titles = list(corrs.keys())\n",
    "\n",
    "\n",
    "for i, (ax, key, value) in enumerate(zip(axes.ravel(), titles, mats)):\n",
    "    vis_helper.plot_corr_heatmap(ax, value, boundaries, 'Correlation between DMI and Precipitation', 'Corr. between DMI and CHIRPS - {key}', 0)\n",
    "\n",
    "plt.subplots_adjust(wspace=0.4, hspace=0.4)\n",
    "plt.show()"
   ]
  },
  {
   "cell_type": "code",
   "execution_count": null,
   "id": "d8812db9",
   "metadata": {},
   "outputs": [],
   "source": [
    "[(m.reshape(-1).max(), m.reshape(-1).min() )for m in mats]"
   ]
  },
  {
   "cell_type": "code",
   "execution_count": null,
   "id": "433b0824",
   "metadata": {},
   "outputs": [],
   "source": [
    "midpoint = np.linspace(0, 1, 256)\n"
   ]
  },
  {
   "cell_type": "code",
   "execution_count": null,
   "id": "a01a958d",
   "metadata": {},
   "outputs": [],
   "source": [
    "midpoint"
   ]
  },
  {
   "cell_type": "code",
   "execution_count": null,
   "id": "f97e9e81",
   "metadata": {},
   "outputs": [],
   "source": [
    "(midpoint > 0.45) & (midpoint < 0.55)"
   ]
  },
  {
   "cell_type": "code",
   "execution_count": 9,
   "id": "f54af53b",
   "metadata": {},
   "outputs": [
    {
     "data": {
      "text/plain": [
       "array([20.        , 20.40816327, 20.81632653, 21.2244898 , 21.63265306,\n",
       "       22.04081633, 22.44897959, 22.85714286, 23.26530612, 23.67346939,\n",
       "       24.08163265, 24.48979592, 24.89795918, 25.30612245, 25.71428571,\n",
       "       26.12244898, 26.53061224, 26.93877551, 27.34693878, 27.75510204,\n",
       "       28.16326531, 28.57142857, 28.97959184, 29.3877551 , 29.79591837,\n",
       "       30.20408163, 30.6122449 , 31.02040816, 31.42857143, 31.83673469,\n",
       "       32.24489796, 32.65306122, 33.06122449, 33.46938776, 33.87755102,\n",
       "       34.28571429, 34.69387755, 35.10204082, 35.51020408, 35.91836735,\n",
       "       36.32653061, 36.73469388, 37.14285714, 37.55102041, 37.95918367,\n",
       "       38.36734694, 38.7755102 , 39.18367347, 39.59183673, 40.        ])"
      ]
     },
     "execution_count": 9,
     "metadata": {},
     "output_type": "execute_result"
    }
   ],
   "source": [
    "np.linspace(bounds_lat[0], bounds_lat[1])"
   ]
  },
  {
   "cell_type": "code",
   "execution_count": null,
   "id": "2fd145de",
   "metadata": {},
   "outputs": [],
   "source": []
  }
 ],
 "metadata": {
  "kernelspec": {
   "display_name": "local-venv",
   "language": "python",
   "name": "local-venv"
  },
  "language_info": {
   "codemirror_mode": {
    "name": "ipython",
    "version": 3
   },
   "file_extension": ".py",
   "mimetype": "text/x-python",
   "name": "python",
   "nbconvert_exporter": "python",
   "pygments_lexer": "ipython3",
   "version": "3.10.11"
  }
 },
 "nbformat": 4,
 "nbformat_minor": 5
}
