{
 "cells": [
  {
   "cell_type": "code",
   "execution_count": 10,
   "metadata": {},
   "outputs": [],
   "source": [
    "import numpy as np\n",
    "import scipy.interpolate\n",
    "import netCDF4 as nc\n",
    "import os \n",
    "import seaborn as sns\n",
    "import matplotlib.pyplot as plt\n",
    "import matplotlib.colors as mcolors\n",
    "import cartopy.crs as ccrs\n",
    "import cartopy.feature as cfeature\n",
    "from helpers import visualize_h as vis_helper\n"
   ]
  },
  {
   "cell_type": "code",
   "execution_count": 11,
   "metadata": {},
   "outputs": [],
   "source": [
    "def netcdf_to_array(file_path: str, var_name: str) -> np.ndarray:\n",
    "    \"\"\"\n",
    "    Converts a netCDF file to a three-dimensional numpy array.\n",
    "\n",
    "    Parameters:\n",
    "        file_path (str): Path to the netCDF file.\n",
    "        var_name (str): Name of the variable to extract.\n",
    "\n",
    "    Returns:\n",
    "        np.ndarray: Three-dimensional array of the specified variable.\n",
    "    \"\"\"\n",
    "    # Open the netCDF file\n",
    "    dataset = nc.Dataset(file_path, 'r')\n",
    "    \n",
    "    # Extract the variable data\n",
    "    variable_data = dataset.variables[var_name][:]\n",
    "    \n",
    "    # Ensure the data is a numpy array\n",
    "    array_data = np.array(variable_data)\n",
    "    \n",
    "    # Close the dataset\n",
    "    dataset.close()\n",
    "    \n",
    "    return array_data"
   ]
  },
  {
   "cell_type": "code",
   "execution_count": 12,
   "metadata": {},
   "outputs": [],
   "source": [
    "# Function to interpolate to target dimensions\n",
    "def interpolate_to_target_dim(data, target_dim):\n",
    "    m, n = data.shape[1:]  # Original dimensions\n",
    "    interpolated_data = np.empty((data.shape[0], target_dim[0], target_dim[1]))  # Create an empty array to hold the results\n",
    "\n",
    "    for i in range(data.shape[0]):  # Iterate over the time dimension\n",
    "        interpolator = scipy.interpolate.RegularGridInterpolator(\n",
    "            (np.linspace(0, 1, m), np.linspace(0, 1, n)), \n",
    "            data[i, :, :], \n",
    "            method='linear'\n",
    "        )\n",
    "        new_x = np.linspace(0, 1, target_dim[0])\n",
    "        new_y = np.linspace(0, 1, target_dim[1])\n",
    "        new_grid_x, new_grid_y = np.meshgrid(new_x, new_y, indexing='ij')\n",
    "        points = np.stack([new_grid_x.ravel(), new_grid_y.ravel()], axis=-1)\n",
    "        interpolated_slice = interpolator(points).reshape(target_dim)\n",
    "        interpolated_data[i, :, :] = interpolated_slice\n",
    "\n",
    "    return interpolated_data\n",
    "\n",
    "\n",
    "\n"
   ]
  },
  {
   "cell_type": "markdown",
   "metadata": {},
   "source": [
    "Relative Paths"
   ]
  },
  {
   "cell_type": "code",
   "execution_count": 13,
   "metadata": {},
   "outputs": [],
   "source": [
    "data_relative_path = os.path.join('..', 'Data')\n",
    "cmip_models_path_path = os.path.join(data_relative_path,'CMIP6','Precipitation')\n",
    "interpulated_cmip_path = os.path.join(data_relative_path,'InterpulatedCMIP6_400X600')\n"
   ]
  },
  {
   "cell_type": "markdown",
   "metadata": {},
   "source": [
    "turning all CMPI6 models into interpulated matrix of dim (30,400,600)\n",
    "and then save it as a npy object "
   ]
  },
  {
   "cell_type": "code",
   "execution_count": 14,
   "metadata": {},
   "outputs": [],
   "source": [
    "# # Iterate over each model file in the directory\n",
    "# for model_name in os.listdir(cmip_models_path_path):\n",
    "#     print(model_name)\n",
    "#     model_path = os.path.join(cmip_models_path_path, model_name)\n",
    "#     chirps_data_us = nc.Dataset(model_path)\n",
    "#     precip_as_ndarray = netcdf_to_array(model_path, 'pr')\n",
    "\n",
    "#     # Interpolate each time step to 400x600\n",
    "#     interpolated_precip = interpolate_to_target_dim(precip_as_ndarray, (400, 600))\n",
    "#     # Save the entire 3D array as a single .npy file\n",
    "#     save_path = os.path.join(interpulated_cmip_path, f\"{model_name[:-3]}_interpolated.npy\")\n",
    "#     np.save(save_path, interpolated_precip)"
   ]
  },
  {
   "cell_type": "markdown",
   "metadata": {},
   "source": [
    "Showing all interpulated matrices shapes"
   ]
  },
  {
   "cell_type": "code",
   "execution_count": 22,
   "metadata": {},
   "outputs": [
    {
     "name": "stdout",
     "output_type": "stream",
     "text": [
      "File: pr_Amon_ACCESS-CM2_historical_r1i1p1f1_gn_19811016-20101016_v20191108_interpolated.npy, Shape: (30, 400, 600)\n",
      "File: pr_Amon_CAMS-CSM1-0_historical_r1i1p1f1_gn_19811016-20101016_v20190708_interpolated.npy, Shape: (30, 400, 600)\n",
      "File: pr_Amon_CanESM5-CanOE_historical_r1i1p2f1_gn_19811016-20101016_v20190429_interpolated.npy, Shape: (30, 400, 600)\n",
      "File: pr_Amon_CMCC-CM2-HR4_historical_r1i1p1f1_gn_19811016-20101016_v20200904_interpolated.npy, Shape: (30, 400, 600)\n",
      "File: pr_Amon_CNRM-CM6-1-HR_historical_r1i1p1f2_gr_19811016-20101016_v20191021_interpolated.npy, Shape: (30, 400, 600)\n",
      "File: pr_Amon_E3SM-1-0_historical_r1i1p1f1_gr_19811016-20101016_v20190913_interpolated.npy, Shape: (30, 400, 600)\n",
      "File: pr_Amon_EC-Earth3-AerChem_historical_r1i1p1f1_gr_19811016-20101016_v20200624_interpolated.npy, Shape: (30, 400, 600)\n",
      "File: pr_Amon_FGOALS-f3-L_historical_r1i1p1f1_gr_19811016-20101016_v20190927_interpolated.npy, Shape: (30, 400, 600)\n",
      "File: pr_Amon_FIO-ESM-2-0_historical_r1i1p1f1_gn_19811016-20101016_v20191209_interpolated.npy, Shape: (30, 400, 600)\n",
      "File: pr_Amon_GFDL-ESM4_historical_r1i1p1f1_gr1_19811016-20101016_v20190726_interpolated.npy, Shape: (30, 400, 600)\n",
      "File: pr_Amon_GISS-E2-1-H_historical_r1i1p1f1_gn_19811016-20101016_v20190403_interpolated.npy, Shape: (30, 400, 600)\n",
      "File: pr_Amon_HadGEM3-GC31-LL_historical_r1i1p1f3_gn_19811016-20101016_v20190624_interpolated.npy, Shape: (30, 400, 600)\n",
      "File: pr_Amon_IITM-ESM_historical_r1i1p1f1_gn_19811016-20101016_v20191226_interpolated.npy, Shape: (30, 400, 600)\n",
      "File: pr_Amon_INM-CM5-0_historical_r1i1p1f1_gr1_19811016-20101016_v20190610_interpolated.npy, Shape: (30, 400, 600)\n",
      "File: pr_Amon_IPSL-CM6A-LR_historical_r1i1p1f1_gr_19811016-20101016_v20180803_interpolated.npy, Shape: (30, 400, 600)\n",
      "File: pr_Amon_MCM-UA-1-0_historical_r1i1p1f2_gn_19811017-20101017_v20191017_interpolated.npy, Shape: (30, 400, 600)\n",
      "File: pr_Amon_MIROC6_historical_r1i1p1f1_gn_19811016-20101016_v20181212_interpolated.npy, Shape: (30, 400, 600)\n",
      "File: pr_Amon_MPI-ESM1-2-HR_historical_r1i1p1f1_gn_19811016-20101016_v20190710_interpolated.npy, Shape: (30, 400, 600)\n",
      "File: pr_Amon_MRI-ESM2-0_historical_r1i1p1f1_gn_19811016-20101016_v20190222_interpolated.npy, Shape: (30, 400, 600)\n",
      "File: pr_Amon_NESM3_historical_r1i1p1f1_gn_19811016-20101016_v20190630_interpolated.npy, Shape: (30, 400, 600)\n",
      "File: pr_Amon_NorESM2-MM_historical_r1i1p1f1_gn_19811016-20101016_v20191108_interpolated.npy, Shape: (30, 400, 600)\n",
      "File: pr_Amon_SAM0-UNICON_historical_r1i1p1f1_gn_19811016-20101016_v20190323_interpolated.npy, Shape: (30, 400, 600)\n",
      "File: pr_Amon_TaiESM1_historical_r1i1p1f1_gn_19811016-20101016_v20200623_interpolated.npy, Shape: (30, 400, 600)\n",
      "File: pr_Amon_UKESM1-0-LL_historical_r1i1p1f2_gn_19811016-20101016_v20190406_interpolated.npy, Shape: (30, 400, 600)\n"
     ]
    }
   ],
   "source": [
    "# Iterate over each file in the directory\n",
    "for model_name in os.listdir(interpulated_cmip_path):\n",
    "    if model_name.endswith('py'):  # Only process .npy files\n",
    "        file_path = os.path.join(interpulated_cmip_path, model_name)\n",
    "        \n",
    "        # Load the .npy file\n",
    "        data = np.load(file_path)\n",
    "        \n",
    "        # Print the shape of the loaded data\n",
    "        print(f\"File: {model_name}, Shape: {data.shape}\")"
   ]
  },
  {
   "cell_type": "markdown",
   "metadata": {},
   "source": [
    "# creating csv files of corr between the interpulated CMIP to the cirps \n",
    " "
   ]
  },
  {
   "cell_type": "code",
   "execution_count": 16,
   "metadata": {},
   "outputs": [],
   "source": [
    "# TODO here we need to create a DMI matrix and make the corr matrix\n",
    "\n",
    "for model_name in os.listdir(interpulated_cmip_path):\n",
    "    if model_name.endswith('py'):  # Only process .npy files\n",
    "        file_path = os.path.join(interpulated_cmip_path, model_name)\n",
    "        \n",
    "        # Load the .npy file\n",
    "        data = np.load(file_path)\n",
    "        \n",
    "        # Print the shape of the loaded data\n",
    "        print(f\"File: {model_name}, Shape: {data.shape}\")"
   ]
  },
  {
   "cell_type": "code",
   "execution_count": null,
   "metadata": {},
   "outputs": [],
   "source": []
  }
 ],
 "metadata": {
  "kernelspec": {
   "display_name": "Python 3 (ipykernel)",
   "language": "python",
   "name": "python3"
  },
  "language_info": {
   "codemirror_mode": {
    "name": "ipython",
    "version": 3
   },
   "file_extension": ".py",
   "mimetype": "text/x-python",
   "name": "python",
   "nbconvert_exporter": "python",
   "pygments_lexer": "ipython3",
   "version": "3.8.10"
  }
 },
 "nbformat": 4,
 "nbformat_minor": 2
}
