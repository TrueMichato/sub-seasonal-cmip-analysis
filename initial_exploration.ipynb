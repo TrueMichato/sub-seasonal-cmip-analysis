{
 "cells": [
  {
   "cell_type": "code",
   "execution_count": 3,
   "id": "2d037fc1",
   "metadata": {},
   "outputs": [
    {
     "name": "stdout",
     "output_type": "stream",
     "text": [
      "Requirement already satisfied: netCDF4 in c:\\users\\benmo\\anaconda3\\lib\\site-packages (1.6.5)\n",
      "Requirement already satisfied: numpy in c:\\users\\benmo\\anaconda3\\lib\\site-packages (from netCDF4) (1.24.0)\n",
      "Requirement already satisfied: certifi in c:\\users\\benmo\\anaconda3\\lib\\site-packages (from netCDF4) (2022.9.14)\n",
      "Requirement already satisfied: cftime in c:\\users\\benmo\\anaconda3\\lib\\site-packages (from netCDF4) (1.6.3)\n",
      "Requirement already satisfied: cartopy in c:\\users\\benmo\\anaconda3\\lib\\site-packages (0.23.0)\n",
      "Requirement already satisfied: numpy>=1.21 in c:\\users\\benmo\\anaconda3\\lib\\site-packages (from cartopy) (1.24.0)\n",
      "Requirement already satisfied: pyshp>=2.3 in c:\\users\\benmo\\anaconda3\\lib\\site-packages (from cartopy) (2.3.1)\n",
      "Requirement already satisfied: packaging>=20 in c:\\users\\benmo\\anaconda3\\lib\\site-packages (from cartopy) (21.3)\n",
      "Requirement already satisfied: pyproj>=3.3.1 in c:\\users\\benmo\\anaconda3\\lib\\site-packages (from cartopy) (3.6.1)\n",
      "Requirement already satisfied: matplotlib>=3.5 in c:\\users\\benmo\\anaconda3\\lib\\site-packages (from cartopy) (3.5.2)\n",
      "Requirement already satisfied: shapely>=1.7 in c:\\users\\benmo\\anaconda3\\lib\\site-packages (from cartopy) (2.0.4)\n",
      "Requirement already satisfied: cycler>=0.10 in c:\\users\\benmo\\anaconda3\\lib\\site-packages (from matplotlib>=3.5->cartopy) (0.11.0)\n",
      "Requirement already satisfied: python-dateutil>=2.7 in c:\\users\\benmo\\anaconda3\\lib\\site-packages (from matplotlib>=3.5->cartopy) (2.8.2)\n",
      "Requirement already satisfied: pyparsing>=2.2.1 in c:\\users\\benmo\\anaconda3\\lib\\site-packages (from matplotlib>=3.5->cartopy) (3.0.9)\n",
      "Requirement already satisfied: kiwisolver>=1.0.1 in c:\\users\\benmo\\anaconda3\\lib\\site-packages (from matplotlib>=3.5->cartopy) (1.4.2)\n",
      "Requirement already satisfied: fonttools>=4.22.0 in c:\\users\\benmo\\anaconda3\\lib\\site-packages (from matplotlib>=3.5->cartopy) (4.25.0)\n",
      "Requirement already satisfied: pillow>=6.2.0 in c:\\users\\benmo\\anaconda3\\lib\\site-packages (from matplotlib>=3.5->cartopy) (9.2.0)\n",
      "Requirement already satisfied: certifi in c:\\users\\benmo\\anaconda3\\lib\\site-packages (from pyproj>=3.3.1->cartopy) (2022.9.14)\n",
      "Requirement already satisfied: six>=1.5 in c:\\users\\benmo\\anaconda3\\lib\\site-packages (from python-dateutil>=2.7->matplotlib>=3.5->cartopy) (1.16.0)\n"
     ]
    }
   ],
   "source": [
    "!pip install netCDF4\n",
    "!pip install cartopy"
   ]
  },
  {
   "cell_type": "code",
   "execution_count": 4,
   "id": "40eb98c5",
   "metadata": {},
   "outputs": [
    {
     "ename": "ModuleNotFoundError",
     "evalue": "No module named 'netCDF4'",
     "output_type": "error",
     "traceback": [
      "\u001b[1;31m---------------------------------------------------------------------------\u001b[0m",
      "\u001b[1;31mModuleNotFoundError\u001b[0m                       Traceback (most recent call last)",
      "Cell \u001b[1;32mIn[4], line 1\u001b[0m\n\u001b[1;32m----> 1\u001b[0m \u001b[38;5;28;01mimport\u001b[39;00m \u001b[38;5;21;01mnetCDF4\u001b[39;00m \u001b[38;5;28;01mas\u001b[39;00m \u001b[38;5;21;01mnc\u001b[39;00m\n\u001b[0;32m      2\u001b[0m \u001b[38;5;28;01mimport\u001b[39;00m \u001b[38;5;21;01mos\u001b[39;00m\n",
      "\u001b[1;31mModuleNotFoundError\u001b[0m: No module named 'netCDF4'"
     ]
    }
   ],
   "source": [
    "import netCDF4 as nc\n",
    "import os"
   ]
  },
  {
   "cell_type": "code",
   "execution_count": null,
   "id": "02376aad",
   "metadata": {},
   "outputs": [],
   "source": [
    "directories = [\"Precipitation\", \"SEIO\", \"WTIO\"]"
   ]
  },
  {
   "cell_type": "code",
   "execution_count": null,
   "id": "b4ccff84",
   "metadata": {},
   "outputs": [],
   "source": [
    "files_size = 0\n",
    "for directory in directories:\n",
    "  for file in os.listdir(f\"/content/drive/MyDrive/final_project/Final_project_Tomer_and_Ben/Data_Ben_Tomer/data/CMIP6/{directory}\"):\n",
    "      filename = os.fsdecode(file)\n",
    "      path = f\"/content/drive/MyDrive/final_project/Final_project_Tomer_and_Ben/Data_Ben_Tomer/data/CMIP6/{directory}/{filename}\"\n",
    "      files_size += os.path.getsize(path)\n",
    "      # ds = nc.Dataset(path)\n",
    "      # print(f\"{directory=}, {file=}\")\n",
    "      # print(f\"Information about {directory}/{filename}:\")\n",
    "      # print(ds)\n",
    "      # for dim in ds.dimensions.values():\n",
    "      #   print(dim)\n",
    "      # for var in ds.variables:\n",
    "      #   print(var)\n",
    "      # print(\"\\n\\n\")\n",
    "tot_size = files_size / (1024 * 1024)\n",
    "print(f\"Total size of netCDF data: {tot_size:.2f} MB\")"
   ]
  },
  {
   "cell_type": "code",
   "execution_count": null,
   "id": "85b745ba",
   "metadata": {},
   "outputs": [],
   "source": [
    "ds = nc.Dataset(f\"/content/drive/MyDrive/final_project/Final_project_Tomer_and_Ben/Data_Ben_Tomer/data/CMIP6/Precipitation/pr_Amon_ACCESS-CM2_historical_r1i1p1f1_gn_19811016-20101016_v20191108.nc\")"
   ]
  },
  {
   "cell_type": "code",
   "execution_count": null,
   "id": "479f4dca",
   "metadata": {},
   "outputs": [],
   "source": [
    "ds.metadata"
   ]
  },
  {
   "cell_type": "code",
   "execution_count": null,
   "id": "44cf2825",
   "metadata": {},
   "outputs": [],
   "source": [
    "import numpy as np\n",
    "import matplotlib.pyplot as plt\n",
    "import cartopy.crs as ccrs\n",
    "import cartopy.feature as cfeature\n",
    "\n",
    "data = ds\n",
    "pr_october = data.variables['pr'][:]\n",
    "time = data.variables['time']\n",
    "time_units = time.units\n",
    "time_calendar = time.calendar\n",
    "\n",
    "october_indices = np.array([i for i in range(len(time)) if nc.num2date(time[i], units=time_units, calendar=time_calendar).month == 10])\n",
    "pr_october = pr_october[october_indices]\n",
    "\n",
    "# Select the latitude and longitude range for the Middle East (25°N to 40°N, 25°E to 40°E)\n",
    "lat = data.variables['lat'][:]\n",
    "lon = data.variables['lon'][:]\n",
    "# lat_indices = np.where((lat >= 25) & (lat <= 40))[0]\n",
    "# lon_indices = np.where((lon >= 25) & (lon <= 40))[0]\n",
    "\n",
    "# pr_middle_east = pr_october[:, lat_indices][:, :, lon_indices]\n",
    "pr_middle_east = pr_october[:, :, :]\n",
    "\n",
    "\n",
    "# Calculate the average precipitation for each grid point\n",
    "avg_pr_middle_east = np.sum(pr_middle_east, axis=0)\n",
    "\n",
    "# Plot the map with the heatmap overlay\n",
    "plt.figure(figsize=(10, 8))\n",
    "ax = plt.axes(projection=ccrs.PlateCarree())\n",
    "ax.set_extent([25, 40, 25, 40], crs=ccrs.PlateCarree())\n",
    "\n",
    "# Add map features\n",
    "ax.add_feature(cfeature.COASTLINE)\n",
    "ax.add_feature(cfeature.BORDERS, linestyle=':')\n",
    "ax.add_feature(cfeature.LAND, color='lightgray')\n",
    "\n",
    "plt.imshow(avg_pr_middle_east, origin='lower', cmap='jet', extent=[lon[0], lon[-1], lat[0], lat[-1]],\n",
    "           transform=ccrs.PlateCarree(), interpolation='nearest')\n",
    "\n",
    "# Add colorbar\n",
    "cbar = plt.colorbar(label='Average Precipitation (mm/day)', orientation='horizontal')\n",
    "cbar.set_label('Average Precipitation (mm/day)')\n",
    "\n",
    "# Add title\n",
    "plt.title('Average Precipitation for October in the Middle East')\n",
    "\n",
    "plt.show()\n",
    "\n"
   ]
  }
 ],
 "metadata": {
  "kernelspec": {
   "display_name": "dslab",
   "language": "python",
   "name": "dslab"
  },
  "language_info": {
   "codemirror_mode": {
    "name": "ipython",
    "version": 3
   },
   "file_extension": ".py",
   "mimetype": "text/x-python",
   "name": "python",
   "nbconvert_exporter": "python",
   "pygments_lexer": "ipython3",
   "version": "3.10.11"
  }
 },
 "nbformat": 4,
 "nbformat_minor": 5
}
